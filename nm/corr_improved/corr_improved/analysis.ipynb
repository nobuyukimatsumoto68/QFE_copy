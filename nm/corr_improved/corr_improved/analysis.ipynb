{
 "cells": [
  {
   "cell_type": "code",
   "execution_count": 1,
   "id": "b81daaa5",
   "metadata": {},
   "outputs": [],
   "source": [
    "import numpy as np\n",
    "import numpy as np\n",
    "import matplotlib.pyplot as plt\n",
    "\n",
    "import scipy as sp\n",
    "import scipy.linalg\n",
    "import scipy.optimize\n",
    "\n",
    "\n",
    "\n",
    "from mpmath import *\n",
    "mp.dps=15; mp.pretty=True\n",
    "\n",
    "import os\n",
    "import subprocess"
   ]
  },
  {
   "cell_type": "code",
   "execution_count": 2,
   "id": "eacc8f00",
   "metadata": {},
   "outputs": [],
   "source": [
    "def format_print(cen, err):\n",
    "    for i in range(-50, 50):\n",
    "        if 10**(-i+1)>=err>10**(-i):\n",
    "            tmp=err*10**(i+1)\n",
    "            return '{num:.{width}f}'.format(num=cen, width=i+1)+'('+str(round(tmp))+')'"
   ]
  },
  {
   "cell_type": "code",
   "execution_count": 3,
   "id": "5a020ae9",
   "metadata": {},
   "outputs": [],
   "source": [
    "# class Jackknife:\n",
    "#     def __init__( self, len_data, binsize ):\n",
    "#         self.binsize = binsize\n",
    "#         self.nbins = int(np.floor( len_data/self.binsize ))\n",
    "#         self.N = self.binsize * self.nbins\n",
    "#         self.jack_avg = []\n",
    "#         self.est = 0\n",
    "#         self.var_est = 0\n",
    "\n",
    "#     def set( self, func, list_of_data ):\n",
    "#         for i in range( self.nbins ):\n",
    "#             self.jack_avg.append( func( i, self.binsize, list_of_data ) )\n",
    "\n",
    "#     def do_it( self ):\n",
    "#         self.est=0\n",
    "#         for i in range( 0, self.nbins ):\n",
    "#             self.est += self.jack_avg[i]\n",
    "#         self.est /= self.nbins\n",
    "\n",
    "#         self.var_est=0\n",
    "#         for i in range( 0, self.nbins ):\n",
    "#             self.var_est += ( self.jack_avg[i] - self.est )**2\n",
    "#         self.var_est /= self.nbins\n",
    "#         self.var_est *= self.nbins -1\n",
    "\n",
    "#     def mean( self ):\n",
    "#         return self.est\n",
    "\n",
    "#     def var( self ):\n",
    "#         return self.var_est\n",
    "\n",
    "#     def err( self ):\n",
    "#         return np.sqrt(self.var_est)\n",
    "    \n",
    "# class Jackknife2:\n",
    "#     def __init__( self ):\n",
    "#         self.binsize = binsize\n",
    "#         self.nbins = int(np.floor( len_data/self.binsize ))\n",
    "#         self.N = self.binsize * self.nbins\n",
    "#         self.jack_avg = []\n",
    "#         self.est = 0\n",
    "#         self.var_est = 0\n",
    "\n",
    "#     def set( self, list_of_data,  ):\n",
    "#         self.jack_avg = np.array(list_of_data)\n",
    "\n",
    "#     def do_it( self ):\n",
    "#         self.est=0\n",
    "#         for i in range( 0, self.nbins ):\n",
    "#             self.est += self.jack_avg[i]\n",
    "#         self.est /= self.nbins\n",
    "\n",
    "#         self.var_est=0\n",
    "#         for i in range( 0, self.nbins ):\n",
    "#             self.var_est += ( self.jack_avg[i] - self.est )**2\n",
    "#         self.var_est /= self.nbins\n",
    "#         self.var_est *= self.nbins -1\n",
    "\n",
    "#     def mean( self ):\n",
    "#         return self.est\n",
    "\n",
    "#     def var( self ):\n",
    "#         return self.var_est\n",
    "\n",
    "#     def err( self ):\n",
    "#         return np.sqrt(self.var_est)\n",
    "\n",
    "# def simple_mean(i, binsize, np_data):\n",
    "#     resmpld=np.delete(np_data, np.s_[i*binsize:(i+1)*binsize], axis=0)\n",
    "#     return np.mean(resmpld, axis=0)"
   ]
  },
  {
   "cell_type": "code",
   "execution_count": 4,
   "id": "6c88dd42",
   "metadata": {},
   "outputs": [],
   "source": [
    "def rearrange(corr_, Lx_, Ly_):\n",
    "    lx_half=int(Lx_/2)\n",
    "    ly_half=int(Ly_/2)\n",
    "    tmp=[[corr_[(x-lx_half+Lx_)%Lx_,(y-ly_half+Ly_)%Ly_] for x in range(Lx_)] for y in range(Ly_)]\n",
    "    return np.array(tmp)"
   ]
  },
  {
   "cell_type": "code",
   "execution_count": 12,
   "id": "0283875e",
   "metadata": {},
   "outputs": [],
   "source": [
    "r=8\n",
    "\n",
    "Lx=12\n",
    "Ly=r*Lx\n",
    "\n",
    "lx_half=int(Lx/2)\n",
    "ly_half=int(Ly/2)"
   ]
  },
  {
   "cell_type": "code",
   "execution_count": 13,
   "id": "2017b055",
   "metadata": {},
   "outputs": [],
   "source": [
    "a_lat=(np.pi*2.0/Lx)"
   ]
  },
  {
   "cell_type": "code",
   "execution_count": 14,
   "id": "8f22bb99",
   "metadata": {},
   "outputs": [],
   "source": [
    "ensemble_id=str(Lx)+\"_\"+str(Ly)+\"_1.000_1.000_0.000\""
   ]
  },
  {
   "cell_type": "code",
   "execution_count": 15,
   "id": "fa182c2b",
   "metadata": {},
   "outputs": [],
   "source": [
    "nmin=10000\n",
    "nmax=1750000\n",
    "nint=10000\n",
    "\n",
    "nrange = np.arange(nmin, nmax+nint, nint)"
   ]
  },
  {
   "cell_type": "code",
   "execution_count": 16,
   "id": "e42dad5e",
   "metadata": {},
   "outputs": [
    {
     "data": {
      "text/plain": [
       "'12_96_1.000_1.000_0.000'"
      ]
     },
     "execution_count": 16,
     "metadata": {},
     "output_type": "execute_result"
    }
   ],
   "source": [
    "ensemble_id"
   ]
  },
  {
   "cell_type": "code",
   "execution_count": 17,
   "id": "a10d67b6",
   "metadata": {},
   "outputs": [],
   "source": [
    "mag_list_=[]\n",
    "\n",
    "for i in nrange:\n",
    "    tmp=np.loadtxt(ensemble_id+\"/mag_\"+str(i)+\".dat\")\n",
    "    mag_list_.append(tmp)\n",
    "    \n",
    "mag_list=np.array(mag_list_)"
   ]
  },
  {
   "cell_type": "code",
   "execution_count": 18,
   "id": "ff6a684b",
   "metadata": {},
   "outputs": [
    {
     "data": {
      "text/plain": [
       "[<matplotlib.lines.Line2D at 0x146d605bd690>]"
      ]
     },
     "execution_count": 18,
     "metadata": {},
     "output_type": "execute_result"
    },
    {
     "data": {
      "image/png": "[encoded data removed]",
      "text/plain": [
       "<Figure size 640x480 with 1 Axes>"
      ]
     },
     "metadata": {},
     "output_type": "display_data"
    }
   ],
   "source": [
    "plt.plot(mag_list)"
   ]
  },
  {
   "cell_type": "code",
   "execution_count": null,
   "id": "e930b304",
   "metadata": {},
   "outputs": [],
   "source": []
  },
  {
   "cell_type": "code",
   "execution_count": 19,
   "id": "6cf1b154",
   "metadata": {},
   "outputs": [],
   "source": [
    "mag_list_=[]\n",
    "\n",
    "for i in nrange:\n",
    "    tmp=np.loadtxt(ensemble_id+\"/mag_\"+str(i)+\".dat\")\n",
    "    mag_list_.append(tmp)\n",
    "    \n",
    "mag_list=np.array(mag_list_)"
   ]
  },
  {
   "cell_type": "code",
   "execution_count": 20,
   "id": "a448b59c",
   "metadata": {},
   "outputs": [],
   "source": [
    "s_s_list_=[]\n",
    "\n",
    "for i in nrange:\n",
    "    tmp=np.loadtxt(ensemble_id+\"/s_s_\"+str(i)+\".dat\")\n",
    "    s_s_list_.append(tmp)\n",
    "    \n",
    "s_s_list=np.array(s_s_list_)"
   ]
  },
  {
   "cell_type": "code",
   "execution_count": null,
   "id": "80b3d907",
   "metadata": {},
   "outputs": [],
   "source": []
  },
  {
   "cell_type": "code",
   "execution_count": 21,
   "id": "3fff78da",
   "metadata": {},
   "outputs": [],
   "source": [
    "txx_list_=[]\n",
    "\n",
    "for i in nrange:\n",
    "    tmp=np.loadtxt(ensemble_id+\"/txx_\"+str(i)+\".dat\")\n",
    "    txx_list_.append(tmp)\n",
    "    \n",
    "txx_list=np.array(txx_list_)"
   ]
  },
  {
   "cell_type": "code",
   "execution_count": 22,
   "id": "eb7481d3",
   "metadata": {},
   "outputs": [],
   "source": [
    "txy_list_=[]\n",
    "\n",
    "for i in nrange:\n",
    "    tmp=np.loadtxt(ensemble_id+\"/txy_\"+str(i)+\".dat\")\n",
    "    txy_list_.append(tmp)\n",
    "    \n",
    "txy_list=np.array(txy_list_)"
   ]
  },
  {
   "cell_type": "code",
   "execution_count": 23,
   "id": "cc506756",
   "metadata": {},
   "outputs": [],
   "source": [
    "tyy_list_=[]\n",
    "\n",
    "for i in nrange:\n",
    "    tmp=np.loadtxt(ensemble_id+\"/tyy_\"+str(i)+\".dat\")\n",
    "    tyy_list_.append(tmp)\n",
    "    \n",
    "tyy_list=np.array(tyy_list_)"
   ]
  },
  {
   "cell_type": "code",
   "execution_count": null,
   "id": "9f49b329",
   "metadata": {},
   "outputs": [],
   "source": []
  },
  {
   "cell_type": "code",
   "execution_count": 24,
   "id": "d12006da",
   "metadata": {},
   "outputs": [],
   "source": [
    "txx_txx_list_=[]\n",
    "\n",
    "for i in nrange:\n",
    "    tmp=np.loadtxt(ensemble_id+\"/txx_txx_\"+str(i)+\".dat\")\n",
    "    txx_txx_list_.append(tmp)\n",
    "    \n",
    "txx_txx_list=np.array(txx_txx_list_)"
   ]
  },
  {
   "cell_type": "code",
   "execution_count": 25,
   "id": "a790fecd",
   "metadata": {},
   "outputs": [],
   "source": [
    "txx_txy_list_=[]\n",
    "\n",
    "for i in nrange:\n",
    "    tmp=np.loadtxt(ensemble_id+\"/txx_txy_\"+str(i)+\".dat\")\n",
    "    txx_txy_list_.append(tmp)\n",
    "    \n",
    "txx_txy_list=np.array(txx_txy_list_)"
   ]
  },
  {
   "cell_type": "code",
   "execution_count": 26,
   "id": "95a1381a",
   "metadata": {},
   "outputs": [],
   "source": [
    "txx_tyy_list_=[]\n",
    "\n",
    "for i in nrange:\n",
    "    tmp=np.loadtxt(ensemble_id+\"/txx_tyy_\"+str(i)+\".dat\")\n",
    "    txx_tyy_list_.append(tmp)\n",
    "    \n",
    "txx_tyy_list=np.array(txx_tyy_list_)"
   ]
  },
  {
   "cell_type": "code",
   "execution_count": null,
   "id": "f4fbb884",
   "metadata": {},
   "outputs": [],
   "source": []
  },
  {
   "cell_type": "code",
   "execution_count": 27,
   "id": "2cec7636",
   "metadata": {},
   "outputs": [],
   "source": [
    "txy_txx_list_=[]\n",
    "\n",
    "for i in nrange:\n",
    "    tmp=np.loadtxt(ensemble_id+\"/txy_txx_\"+str(i)+\".dat\")\n",
    "    txy_txx_list_.append(tmp)\n",
    "    \n",
    "txy_txx_list=np.array(txy_txx_list_)"
   ]
  },
  {
   "cell_type": "code",
   "execution_count": 28,
   "id": "ccd865fd",
   "metadata": {},
   "outputs": [],
   "source": [
    "txy_txy_list_=[]\n",
    "\n",
    "for i in nrange:\n",
    "    tmp=np.loadtxt(ensemble_id+\"/txy_txy_\"+str(i)+\".dat\")\n",
    "    txy_txy_list_.append(tmp)\n",
    "    \n",
    "txy_txy_list=np.array(txy_txy_list_)"
   ]
  },
  {
   "cell_type": "code",
   "execution_count": 29,
   "id": "f799ab5d",
   "metadata": {},
   "outputs": [],
   "source": [
    "txy_tyy_list_=[]\n",
    "\n",
    "for i in nrange:\n",
    "    tmp=np.loadtxt(ensemble_id+\"/txy_tyy_\"+str(i)+\".dat\")\n",
    "    txy_tyy_list_.append(tmp)\n",
    "    \n",
    "txy_tyy_list=np.array(txy_tyy_list_)"
   ]
  },
  {
   "cell_type": "code",
   "execution_count": null,
   "id": "145407fa",
   "metadata": {},
   "outputs": [],
   "source": []
  },
  {
   "cell_type": "code",
   "execution_count": 30,
   "id": "5ec610ef",
   "metadata": {},
   "outputs": [],
   "source": [
    "tyy_txx_list_=[]\n",
    "\n",
    "for i in nrange:\n",
    "    tmp=np.loadtxt(ensemble_id+\"/tyy_txx_\"+str(i)+\".dat\")\n",
    "    tyy_txx_list_.append(tmp)\n",
    "    \n",
    "tyy_txx_list=np.array(tyy_txx_list_)"
   ]
  },
  {
   "cell_type": "code",
   "execution_count": 31,
   "id": "17ce88f3",
   "metadata": {},
   "outputs": [],
   "source": [
    "tyy_txy_list_=[]\n",
    "\n",
    "for i in nrange:\n",
    "    tmp=np.loadtxt(ensemble_id+\"/tyy_txy_\"+str(i)+\".dat\")\n",
    "    tyy_txy_list_.append(tmp)\n",
    "    \n",
    "tyy_txy_list=np.array(tyy_txy_list_)"
   ]
  },
  {
   "cell_type": "code",
   "execution_count": 32,
   "id": "e99a386e",
   "metadata": {},
   "outputs": [],
   "source": [
    "tyy_tyy_list_=[]\n",
    "\n",
    "for i in nrange:\n",
    "    tmp=np.loadtxt(ensemble_id+\"/tyy_tyy_\"+str(i)+\".dat\")\n",
    "    tyy_tyy_list_.append(tmp)\n",
    "    \n",
    "tyy_tyy_list=np.array(tyy_tyy_list_)"
   ]
  },
  {
   "cell_type": "code",
   "execution_count": null,
   "id": "83aad6c8",
   "metadata": {},
   "outputs": [],
   "source": []
  },
  {
   "cell_type": "code",
   "execution_count": null,
   "id": "db04bfaa",
   "metadata": {},
   "outputs": [],
   "source": []
  },
  {
   "cell_type": "code",
   "execution_count": 33,
   "id": "3703791e",
   "metadata": {},
   "outputs": [],
   "source": [
    "nskip=1\n",
    "binsize=2\n",
    "n_bins=int( (txx_list.shape[0]-nskip-binsize+1)/binsize )"
   ]
  },
  {
   "cell_type": "code",
   "execution_count": null,
   "id": "badc059e",
   "metadata": {},
   "outputs": [],
   "source": []
  },
  {
   "cell_type": "code",
   "execution_count": 34,
   "id": "fce9bc62",
   "metadata": {},
   "outputs": [
    {
     "name": "stdout",
     "output_type": "stream",
     "text": [
      "0\n",
      "1\n",
      "2\n",
      "3\n",
      "4\n",
      "5\n",
      "6\n",
      "7\n",
      "8\n",
      "9\n",
      "10\n",
      "11\n",
      "12\n",
      "13\n",
      "14\n",
      "15\n",
      "16\n",
      "17\n",
      "18\n",
      "19\n",
      "20\n",
      "21\n",
      "22\n",
      "23\n",
      "24\n",
      "25\n",
      "26\n",
      "27\n",
      "28\n",
      "29\n",
      "30\n",
      "31\n",
      "32\n",
      "33\n",
      "34\n",
      "35\n",
      "36\n",
      "37\n",
      "38\n",
      "39\n",
      "40\n",
      "41\n",
      "42\n",
      "43\n",
      "44\n",
      "45\n",
      "46\n",
      "47\n",
      "48\n",
      "49\n",
      "50\n",
      "51\n",
      "52\n",
      "53\n",
      "54\n",
      "55\n",
      "56\n",
      "57\n",
      "58\n",
      "59\n",
      "60\n",
      "61\n",
      "62\n",
      "63\n",
      "64\n",
      "65\n",
      "66\n",
      "67\n",
      "68\n",
      "69\n",
      "70\n",
      "71\n",
      "72\n",
      "73\n",
      "74\n",
      "75\n",
      "76\n",
      "77\n",
      "78\n",
      "79\n",
      "80\n",
      "81\n",
      "82\n",
      "83\n",
      "84\n",
      "85\n"
     ]
    }
   ],
   "source": [
    "t1=txx_list\n",
    "t2=txx_list\n",
    "t1t2=txx_txx_list\n",
    "\n",
    "ft_jk_list_=[]\n",
    "conn_jk_list_=[]\n",
    "\n",
    "for i_jk in range(n_bins):\n",
    "    print(i_jk)\n",
    "    t1t2_jk=np.mean(np.delete(t1t2[nskip:], np.s_[i_jk:i_jk+binsize], axis=0), axis=0)\n",
    "    t1_jk=np.mean(np.delete(t1[nskip:], np.s_[i_jk:i_jk+binsize], axis=0), axis=0)\n",
    "    t2_jk=np.mean(np.delete(t2[nskip:], np.s_[i_jk:i_jk+binsize], axis=0), axis=0)\n",
    "    #\n",
    "    t1t2_conn_jk=t1t2_jk-t1_jk*t2_jk\n",
    "    #\n",
    "    tmp=np.array(\n",
    "        [\n",
    "            [\n",
    "                np.sum([t1t2_conn_jk[x,t]*np.cos(2.0*np.pi*k*x/Lx) for x in range(Lx)]) / Lx \n",
    "                for t in range(r*Lx)]\n",
    "            for k in range(Lx)\n",
    "        ])\n",
    "    #\n",
    "    conn_jk_list_.append(tmp)\n",
    "    ft_jk_list_.append(tmp)\n",
    "ft_jk_list=np.array(ft_jk_list_)\n",
    "conn_jk_list=np.array(conn_jk_list_)"
   ]
  },
  {
   "cell_type": "code",
   "execution_count": 35,
   "id": "2054ff68",
   "metadata": {},
   "outputs": [],
   "source": [
    "ft_jk_mean=np.full(ft_jk_list[0].shape, 0.0)\n",
    "\n",
    "for i_jk in range(n_bins):\n",
    "    ft_jk_mean+=ft_jk_list[i_jk]\n",
    "\n",
    "ft_jk_mean/=n_bins"
   ]
  },
  {
   "cell_type": "code",
   "execution_count": 36,
   "id": "0bcfb88e",
   "metadata": {},
   "outputs": [],
   "source": [
    "ft_jk_var=np.full(ft_jk_list[0].shape, 0.0)\n",
    "\n",
    "for i_jk in range(1,n_bins):\n",
    "    ft_jk_var += ( ft_jk_list[i_jk]-ft_jk_mean )**2\n",
    "\n",
    "ft_jk_var*=(n_bins-1.0)/n_bins\n",
    "ft_jk_err=np.sqrt(ft_jk_var)"
   ]
  },
  {
   "cell_type": "code",
   "execution_count": 37,
   "id": "2205d4a2",
   "metadata": {},
   "outputs": [],
   "source": [
    "# tmax=40\n",
    "\n",
    "# x=np.arange(tmax)\n",
    "\n",
    "# ####\n",
    "\n",
    "# ell=0\n",
    "\n",
    "# y=ft_jk_mean[ell][:tmax]\n",
    "# dy=np.sqrt(ft_jk_var[ell][:tmax])\n",
    "# plt.errorbar(x,y,dy, label=\"$\\\\ell=$\"+str(ell))\n",
    "\n",
    "# delta=1.0\n",
    "# coeff=0.0025\n",
    "# plt.plot(coeff*np.exp(-delta*a_lat*x), ls=\"dashed\")\n",
    "\n",
    "# ####\n",
    "\n",
    "# ell=1\n",
    "\n",
    "# y=ft_jk_mean[ell][:tmax]\n",
    "# dy=np.sqrt(ft_jk_var[ell][:tmax])\n",
    "# plt.errorbar(x,y,dy, label=\"$\\\\ell=$\"+str(ell))\n",
    "\n",
    "# delta=2.0\n",
    "# coeff=0.0028\n",
    "# plt.plot(coeff*np.exp(-delta*a_lat*x), ls=\"dashed\")\n",
    "\n",
    "# ####\n",
    "\n",
    "# ell=2\n",
    "\n",
    "# y=ft_jk_mean[ell][:tmax]\n",
    "# dy=np.sqrt(ft_jk_var[ell][:tmax])\n",
    "# plt.errorbar(x,y,dy, label=\"$\\\\ell=$\"+str(ell))\n",
    "\n",
    "# delta=3.0\n",
    "# coeff=0.0028\n",
    "# plt.plot(coeff*np.exp(-delta*a_lat*x), ls=\"dashed\")\n",
    "\n",
    "# ####\n",
    "\n",
    "# # plt.plot(ft[1][:40], label=\"$\\\\ell=1$\")\n",
    "# # plt.plot(ft[2][:40], label=\"$\\\\ell=2$\")\n",
    "# # plt.plot(ft[3][:40], label=\"$\\\\ell=3$\")\n",
    "\n",
    "# # plt.plot(x, y, label=\"fit\", ls=\"dashed\", linewidth=3)\n",
    "# plt.legend()\n",
    "# # plt.title(\"odd part (sin)\")\n",
    "\n",
    "# plt.yscale(\"log\")\n",
    "\n",
    "# # plt.xlim(0.0,10.0)\n",
    "# plt.ylim(1.0e-6, 1.0e-2)\n",
    "\n",
    "# plt.savefig(\"e1_e1_\"\"cos.pdf\")"
   ]
  },
  {
   "cell_type": "code",
   "execution_count": null,
   "id": "5559d629",
   "metadata": {},
   "outputs": [],
   "source": []
  },
  {
   "cell_type": "code",
   "execution_count": 38,
   "id": "9eca7d20",
   "metadata": {},
   "outputs": [],
   "source": [
    "# x=np.arange(Ly)\n",
    "# ell=5\n",
    "# y=ft_jk_mean[ell]\n",
    "# dy=ft_jk_err[ell]\n",
    "# np.savetxt(\"Lx\"+str(Lx)+\"_E1E1_cos_ell\"+str(ell)+\".dat\", np.array([x,y,dy]).T,\n",
    "#           header=\"t \\t\\t\\t mean \\t\\t\\t  err\")"
   ]
  },
  {
   "cell_type": "code",
   "execution_count": 39,
   "id": "35381439",
   "metadata": {},
   "outputs": [],
   "source": [
    "def ell0_scalar(t, A):\n",
    "    return A * np.exp(-a_lat*t) * ( 1.0 + 1.0/np.tanh(a_lat*t) )\n",
    "\n",
    "def ell1_scalar(t, A):\n",
    "    return A * np.exp(-a_lat*t) * 1.0/np.sinh(a_lat*t)\n",
    "\n",
    "def ell2_scalar(t, A):\n",
    "    return A * np.exp(-a_lat*t) * ( -1.0 + 1.0/np.tanh(a_lat*t) )"
   ]
  },
  {
   "cell_type": "code",
   "execution_count": 40,
   "id": "97d5512f",
   "metadata": {},
   "outputs": [],
   "source": [
    "ellmax=3\n",
    "\n",
    "fit_list2=[\n",
    "    [0, 2, 35],\n",
    "    [1, 2, 20],\n",
    "    [2, 2, 15],\n",
    "]"
   ]
  },
  {
   "cell_type": "code",
   "execution_count": 41,
   "id": "3d8ac102",
   "metadata": {},
   "outputs": [
    {
     "data": {
      "text/plain": [
       "(1e-06, 0.01)"
      ]
     },
     "execution_count": 41,
     "metadata": {},
     "output_type": "execute_result"
    },
    {
     "data": {
      "image/png": "[encoded data removed]",
      "text/plain": [
       "<Figure size 640x480 with 1 Axes>"
      ]
     },
     "metadata": {},
     "output_type": "display_data"
    }
   ],
   "source": [
    "tmax=40\n",
    "\n",
    "x=np.arange(tmax)\n",
    "\n",
    "####\n",
    "\n",
    "ell=0\n",
    "fit_min=fit_list2[ell][1]\n",
    "fit_max=fit_list2[ell][2]\n",
    "\n",
    "y0d=ft_jk_mean[ell][:tmax]\n",
    "dy0d=np.sqrt(ft_jk_var[ell][:tmax])\n",
    "plt.errorbar(x,y0d,dy0d, label=\"$\\\\ell=$\"+str(ell))\n",
    "\n",
    "###################\n",
    "\n",
    "fitm=fit_list2[ell][1]\n",
    "fitM=fit_list2[ell][2]\n",
    "ft_jk_mean[ell][fit_min:fit_max]\n",
    "\n",
    "x=np.arange(fitm, fitM, dtype=int)\n",
    "y=ft_jk_mean[ell][fitm:fitM]\n",
    "dy=np.sqrt(ft_jk_var[ell][fitm:fitM])\n",
    "\n",
    "par, var = sp.optimize.curve_fit(ell0_scalar, x, y, p0=[0.01], sigma=dy)\n",
    "#    par, var = sp.optimize.curve_fit(two_exp, x, y, p0=[1.0, 1.0, 1.0, 1.0], sigma=dy)\n",
    "#     pars_.append(par)\n",
    "#     vars_.append(var)\n",
    "\n",
    "x0f=np.arange(fitm, fitM, dtype=int)\n",
    "y0f=ell0_scalar(x, par[0])\n",
    "plt.plot(x0f, y0f, ls=\"dashed\", linewidth=2)\n",
    "\n",
    "###################\n",
    "\n",
    "plt.yscale(\"log\")\n",
    "plt.ylim(1.0e-6, 1.0e-2)"
   ]
  },
  {
   "cell_type": "code",
   "execution_count": 42,
   "id": "2123eda3",
   "metadata": {},
   "outputs": [],
   "source": [
    "pars0=par[0]\n",
    "errs0=np.sqrt(var[0,0])"
   ]
  },
  {
   "cell_type": "code",
   "execution_count": null,
   "id": "1d0a3531",
   "metadata": {},
   "outputs": [],
   "source": []
  },
  {
   "cell_type": "code",
   "execution_count": 43,
   "id": "26ab9429",
   "metadata": {},
   "outputs": [
    {
     "data": {
      "image/png": "[encoded data removed]",
      "text/plain": [
       "<Figure size 640x480 with 1 Axes>"
      ]
     },
     "metadata": {},
     "output_type": "display_data"
    }
   ],
   "source": [
    "tmax=40\n",
    "\n",
    "x=np.arange(tmax)\n",
    "\n",
    "####\n",
    "\n",
    "ell=1\n",
    "fit_min=fit_list2[ell][1]\n",
    "fit_max=fit_list2[ell][2]\n",
    "\n",
    "y1d=ft_jk_mean[ell][:tmax]\n",
    "dy1d=np.sqrt(ft_jk_var[ell][:tmax])\n",
    "plt.errorbar(x,y1d,dy1d, label=\"$\\\\ell=$\"+str(ell))\n",
    "\n",
    "###################\n",
    "\n",
    "fitm=fit_list2[ell][1]\n",
    "fitM=fit_list2[ell][2]\n",
    "ft_jk_mean[ell][fit_min:fit_max]\n",
    "\n",
    "x=np.arange(fitm, fitM, dtype=int)\n",
    "y=ft_jk_mean[ell][fitm:fitM]\n",
    "dy=np.sqrt(ft_jk_var[ell][fitm:fitM])\n",
    "\n",
    "par, var = sp.optimize.curve_fit(ell1_scalar, x, y, p0=[0.01], sigma=dy)\n",
    "#    par, var = sp.optimize.curve_fit(two_exp, x, y, p0=[1.0, 1.0, 1.0, 1.0], sigma=dy)\n",
    "#     pars_.append(par)\n",
    "#     vars_.append(var)\n",
    "\n",
    "x1f=np.arange(fitm, fitM, dtype=int)\n",
    "y1f=ell1_scalar(x, par[0])\n",
    "plt.plot(x1f, y1f, ls=\"dashed\", linewidth=2)\n",
    "\n",
    "###################\n",
    "\n",
    "plt.yscale(\"log\")\n",
    "plt.ylim(1.0e-6, 1.0e-2)\n",
    "\n",
    "plt1=plt"
   ]
  },
  {
   "cell_type": "code",
   "execution_count": 44,
   "id": "3e42dc41",
   "metadata": {},
   "outputs": [],
   "source": [
    "pars1=par[0]\n",
    "errs1=np.sqrt(var[0,0])"
   ]
  },
  {
   "cell_type": "code",
   "execution_count": null,
   "id": "ca599c4f",
   "metadata": {},
   "outputs": [],
   "source": []
  },
  {
   "cell_type": "code",
   "execution_count": null,
   "id": "8c30ab87",
   "metadata": {},
   "outputs": [],
   "source": []
  },
  {
   "cell_type": "code",
   "execution_count": null,
   "id": "9eebb090",
   "metadata": {},
   "outputs": [],
   "source": []
  },
  {
   "cell_type": "code",
   "execution_count": 45,
   "id": "2a24794a",
   "metadata": {},
   "outputs": [
    {
     "data": {
      "text/plain": [
       "(1e-06, 0.01)"
      ]
     },
     "execution_count": 45,
     "metadata": {},
     "output_type": "execute_result"
    },
    {
     "data": {
      "image/png": "[encoded data removed]",
      "text/plain": [
       "<Figure size 640x480 with 1 Axes>"
      ]
     },
     "metadata": {},
     "output_type": "display_data"
    }
   ],
   "source": [
    "tmax=40\n",
    "\n",
    "x=np.arange(tmax)\n",
    "\n",
    "####\n",
    "\n",
    "ell=2\n",
    "\n",
    "y2d=ft_jk_mean[ell][:tmax]\n",
    "dy2d=np.sqrt(ft_jk_var[ell][:tmax])\n",
    "plt.errorbar(x,y2d,dy2d, label=\"$\\\\ell=$\"+str(ell))\n",
    "\n",
    "###################\n",
    "\n",
    "fitm=fit_list2[ell][1]\n",
    "fitM=fit_list2[ell][2]\n",
    "ft_jk_mean[ell][fit_min:fit_max]\n",
    "\n",
    "x=np.arange(fitm, fitM, dtype=int)\n",
    "y=ft_jk_mean[ell][fitm:fitM]\n",
    "dy=np.sqrt(ft_jk_var[ell][fitm:fitM])\n",
    "\n",
    "par, var = sp.optimize.curve_fit(ell2_scalar, x, y, p0=[0.01], sigma=dy)\n",
    "#    par, var = sp.optimize.curve_fit(two_exp, x, y, p0=[1.0, 1.0, 1.0, 1.0], sigma=dy)\n",
    "#     pars_.append(par)\n",
    "#     vars_.append(var)\n",
    "\n",
    "x2f=np.arange(fitm, fitM, dtype=int)\n",
    "y2f=ell2_scalar(x, par[0])\n",
    "plt.plot(x2f, y2f, ls=\"dashed\", linewidth=2)\n",
    "\n",
    "###################\n",
    "\n",
    "plt.yscale(\"log\")\n",
    "plt.ylim(1.0e-6, 1.0e-2)"
   ]
  },
  {
   "cell_type": "code",
   "execution_count": 46,
   "id": "99bf9bc1",
   "metadata": {},
   "outputs": [],
   "source": [
    "pars2=par[0]\n",
    "errs2=np.sqrt(var[0,0])"
   ]
  },
  {
   "cell_type": "code",
   "execution_count": 47,
   "id": "a435aeaf",
   "metadata": {},
   "outputs": [
    {
     "name": "stdout",
     "output_type": "stream",
     "text": [
      "ell=0 0.013447(42)\n",
      "ell=1 0.012371(74)\n",
      "ell=2 0.01210(15)\n"
     ]
    }
   ],
   "source": [
    "print(\"ell=0\", format_print(pars0,errs0))\n",
    "print(\"ell=1\", format_print(pars1,errs1))\n",
    "print(\"ell=2\", format_print(pars2,errs2))"
   ]
  },
  {
   "cell_type": "code",
   "execution_count": null,
   "id": "2759064f",
   "metadata": {},
   "outputs": [],
   "source": []
  },
  {
   "cell_type": "code",
   "execution_count": null,
   "id": "460d671b",
   "metadata": {},
   "outputs": [],
   "source": []
  },
  {
   "cell_type": "code",
   "execution_count": null,
   "id": "0be57c5d",
   "metadata": {},
   "outputs": [],
   "source": []
  },
  {
   "cell_type": "code",
   "execution_count": 48,
   "id": "ae5d81a7",
   "metadata": {},
   "outputs": [
    {
     "data": {
      "image/png": "[encoded data removed]",
      "text/plain": [
       "<Figure size 640x480 with 1 Axes>"
      ]
     },
     "metadata": {},
     "output_type": "display_data"
    }
   ],
   "source": [
    "tmax=40\n",
    "x=np.arange(tmax)\n",
    "\n",
    "####\n",
    "\n",
    "plt.errorbar(x,y0d,dy0d, label=\"$\\\\ell=$\"+str(0))\n",
    "plt.errorbar(x,y1d,dy1d, label=\"$\\\\ell=$\"+str(1))\n",
    "plt.errorbar(x,y2d,dy2d, label=\"$\\\\ell=$\"+str(2))\n",
    "\n",
    "###################\n",
    "\n",
    "plt.plot(x0f, y0f, ls=\"dashed\", linewidth=2)\n",
    "plt.plot(x1f, y1f, ls=\"dashed\", linewidth=2)\n",
    "plt.plot(x2f, y2f, ls=\"dashed\", linewidth=2)\n",
    "\n",
    "###################\n",
    "\n",
    "plt.yscale(\"log\")\n",
    "plt.ylim(1.0e-6, 1.0e-2)\n",
    "plt.legend()\n",
    "\n",
    "plt.savefig(\"TxxTxx_cos\"+str(Lx)+\".pdf\")"
   ]
  },
  {
   "cell_type": "code",
   "execution_count": null,
   "id": "d0955ead",
   "metadata": {},
   "outputs": [],
   "source": []
  },
  {
   "cell_type": "code",
   "execution_count": null,
   "id": "abd0bb9a",
   "metadata": {},
   "outputs": [],
   "source": []
  },
  {
   "cell_type": "code",
   "execution_count": null,
   "id": "4d5471d3",
   "metadata": {},
   "outputs": [],
   "source": []
  },
  {
   "cell_type": "code",
   "execution_count": null,
   "id": "11c3e58c",
   "metadata": {},
   "outputs": [],
   "source": []
  },
  {
   "cell_type": "code",
   "execution_count": null,
   "id": "2e1e91ce",
   "metadata": {},
   "outputs": [],
   "source": []
  },
  {
   "cell_type": "code",
   "execution_count": null,
   "id": "a6b2b337",
   "metadata": {},
   "outputs": [],
   "source": []
  },
  {
   "cell_type": "code",
   "execution_count": null,
   "id": "d3652a6c",
   "metadata": {},
   "outputs": [],
   "source": []
  },
  {
   "cell_type": "code",
   "execution_count": null,
   "id": "2bb520fc",
   "metadata": {},
   "outputs": [],
   "source": []
  },
  {
   "cell_type": "code",
   "execution_count": null,
   "id": "7c3740cb",
   "metadata": {},
   "outputs": [],
   "source": []
  },
  {
   "cell_type": "code",
   "execution_count": null,
   "id": "3efdef20",
   "metadata": {},
   "outputs": [],
   "source": []
  },
  {
   "cell_type": "code",
   "execution_count": null,
   "id": "c3caa442",
   "metadata": {},
   "outputs": [],
   "source": []
  },
  {
   "cell_type": "code",
   "execution_count": null,
   "id": "1774ec83",
   "metadata": {},
   "outputs": [],
   "source": []
  },
  {
   "cell_type": "code",
   "execution_count": null,
   "id": "79ec2c0c",
   "metadata": {},
   "outputs": [],
   "source": []
  },
  {
   "cell_type": "code",
   "execution_count": null,
   "id": "243caf39",
   "metadata": {},
   "outputs": [],
   "source": []
  },
  {
   "cell_type": "code",
   "execution_count": null,
   "id": "497aaed1",
   "metadata": {},
   "outputs": [],
   "source": []
  },
  {
   "cell_type": "code",
   "execution_count": 43,
   "id": "992f1bec",
   "metadata": {},
   "outputs": [
    {
     "name": "stdout",
     "output_type": "stream",
     "text": [
      "0\n",
      "1\n",
      "2\n",
      "3\n",
      "4\n",
      "5\n",
      "6\n",
      "7\n",
      "8\n",
      "9\n",
      "10\n",
      "11\n",
      "12\n",
      "13\n",
      "14\n",
      "15\n",
      "16\n",
      "17\n",
      "18\n",
      "19\n",
      "20\n",
      "21\n",
      "22\n",
      "23\n",
      "24\n",
      "25\n",
      "26\n",
      "27\n",
      "28\n"
     ]
    }
   ],
   "source": [
    "t1=txx_list\n",
    "t2=txy_list\n",
    "t1t2=txx_txy_list\n",
    "\n",
    "ft_jk_list_=[]\n",
    "\n",
    "for i_jk in range(n_bins):\n",
    "    print(i_jk)\n",
    "    t1t2_jk=np.mean(np.delete(t1t2[nskip:], np.s_[i_jk:i_jk+binsize], axis=0), axis=0)\n",
    "    t1_jk=np.mean(np.delete(t1[nskip:], np.s_[i_jk:i_jk+binsize], axis=0), axis=0)\n",
    "    t2_jk=np.mean(np.delete(t2[nskip:], np.s_[i_jk:i_jk+binsize], axis=0), axis=0)\n",
    "    #\n",
    "    t1t2_conn_jk=t1t2_jk-t1_jk*t2_jk\n",
    "    #\n",
    "    tmp=np.array(\n",
    "        [\n",
    "            [\n",
    "                np.sum([t1t2_conn_jk[x,t]*np.sin(2.0*np.pi*k*x/Lx) for x in range(Lx)]) / Lx \n",
    "                for t in range(r*Lx)]\n",
    "            for k in range(Lx)\n",
    "        ])\n",
    "    #\n",
    "    ft_jk_list_.append(tmp)\n",
    "ft_jk_list=np.array(ft_jk_list_)"
   ]
  },
  {
   "cell_type": "code",
   "execution_count": 44,
   "id": "6e28008b",
   "metadata": {},
   "outputs": [],
   "source": [
    "ft_jk_mean=np.full(ft_jk_list[0].shape, 0.0)\n",
    "\n",
    "for i_jk in range(n_bins):\n",
    "    ft_jk_mean+=ft_jk_list[i_jk]\n",
    "\n",
    "ft_jk_mean/=n_bins"
   ]
  },
  {
   "cell_type": "code",
   "execution_count": 45,
   "id": "5e03d9f3",
   "metadata": {},
   "outputs": [],
   "source": [
    "ft_jk_var=np.full(ft_jk_list[0].shape, 0.0)\n",
    "\n",
    "for i_jk in range(1,n_bins):\n",
    "    ft_jk_var += ( ft_jk_list[i_jk]-ft_jk_mean )**2\n",
    "\n",
    "ft_jk_var*=(n_bins-1.0)/n_bins"
   ]
  },
  {
   "cell_type": "code",
   "execution_count": 46,
   "id": "44ba2c0b",
   "metadata": {},
   "outputs": [
    {
     "data": {
      "image/png": "[encoded data removed]",
      "text/plain": [
       "<Figure size 640x480 with 1 Axes>"
      ]
     },
     "metadata": {},
     "output_type": "display_data"
    }
   ],
   "source": [
    "tmax=40\n",
    "\n",
    "x=np.arange(tmax)\n",
    "\n",
    "####\n",
    "\n",
    "ell=1\n",
    "\n",
    "y=ft_jk_mean[ell][:tmax]\n",
    "dy=np.sqrt(ft_jk_var[ell][:tmax])\n",
    "plt.errorbar(x,y,dy, label=\"$\\\\ell=$\"+str(ell))\n",
    "\n",
    "# delta=2.0\n",
    "# coeff=0.0001\n",
    "# plt.plot(coeff*np.exp(-delta*a_lat*x))\n",
    "\n",
    "####\n",
    "\n",
    "ell=2\n",
    "\n",
    "y=ft_jk_mean[ell][:tmax]\n",
    "dy=np.sqrt(ft_jk_var[ell][:tmax])\n",
    "plt.errorbar(x,y,dy, label=\"$\\\\ell=$\"+str(ell))\n",
    "\n",
    "# delta=5.0\n",
    "# coeff=0.001\n",
    "# plt.plot(coeff*np.exp(-delta*a_lat*x))\n",
    "\n",
    "# ####\n",
    "\n",
    "ell=3\n",
    "\n",
    "y=ft_jk_mean[ell][:tmax]\n",
    "dy=np.sqrt(ft_jk_var[ell][:tmax])\n",
    "plt.errorbar(x,y,dy, label=\"$\\\\ell=$\"+str(ell))\n",
    "\n",
    "####\n",
    "\n",
    "\n",
    "delta=2.0\n",
    "coeff=0.0001\n",
    "plt.plot(coeff*np.exp(-delta*a_lat*x), ls=\"dashed\", label=\"$e^{-2t}$\")\n",
    "\n",
    "\n",
    "\n",
    "# plt.plot(ft[1][:40], label=\"$\\\\ell=1$\")\n",
    "# plt.plot(ft[2][:40], label=\"$\\\\ell=2$\")\n",
    "# plt.plot(ft[3][:40], label=\"$\\\\ell=3$\")\n",
    "\n",
    "# plt.plot(x, y, label=\"fit\", ls=\"dashed\", linewidth=3)\n",
    "plt.legend()\n",
    "# plt.title(\"odd part (sin)\")\n",
    "\n",
    "plt.yscale(\"log\")\n",
    "\n",
    "plt.xlim(0.0,15.0)\n",
    "plt.ylim(1.0e-6, 4.0e-4)\n",
    "\n",
    "plt.legend()\n",
    "plt.savefig(\"TxxTxy_sin\"+str(Lx)+\".pdf\")"
   ]
  },
  {
   "cell_type": "code",
   "execution_count": null,
   "id": "14ccfa77",
   "metadata": {},
   "outputs": [],
   "source": []
  },
  {
   "cell_type": "code",
   "execution_count": null,
   "id": "64f957ba",
   "metadata": {},
   "outputs": [],
   "source": []
  },
  {
   "cell_type": "code",
   "execution_count": null,
   "id": "08e0c18c",
   "metadata": {},
   "outputs": [],
   "source": []
  },
  {
   "cell_type": "code",
   "execution_count": null,
   "id": "a9470886",
   "metadata": {},
   "outputs": [],
   "source": []
  },
  {
   "cell_type": "code",
   "execution_count": null,
   "id": "bd08d400",
   "metadata": {},
   "outputs": [],
   "source": []
  },
  {
   "cell_type": "code",
   "execution_count": null,
   "id": "8f840f82",
   "metadata": {},
   "outputs": [],
   "source": []
  },
  {
   "cell_type": "code",
   "execution_count": null,
   "id": "263239c8",
   "metadata": {},
   "outputs": [],
   "source": []
  },
  {
   "cell_type": "code",
   "execution_count": null,
   "id": "a39f48a2",
   "metadata": {},
   "outputs": [],
   "source": []
  },
  {
   "cell_type": "code",
   "execution_count": null,
   "id": "c8462760",
   "metadata": {},
   "outputs": [],
   "source": []
  },
  {
   "cell_type": "code",
   "execution_count": null,
   "id": "fee76547",
   "metadata": {},
   "outputs": [],
   "source": []
  },
  {
   "cell_type": "code",
   "execution_count": null,
   "id": "e7328490",
   "metadata": {},
   "outputs": [],
   "source": []
  },
  {
   "cell_type": "code",
   "execution_count": null,
   "id": "b35dfc93",
   "metadata": {},
   "outputs": [],
   "source": []
  },
  {
   "cell_type": "code",
   "execution_count": null,
   "id": "f0d287c9",
   "metadata": {},
   "outputs": [],
   "source": []
  },
  {
   "cell_type": "code",
   "execution_count": null,
   "id": "f8f5709c",
   "metadata": {},
   "outputs": [],
   "source": []
  },
  {
   "cell_type": "code",
   "execution_count": null,
   "id": "5690550e",
   "metadata": {},
   "outputs": [],
   "source": []
  },
  {
   "cell_type": "code",
   "execution_count": null,
   "id": "2cc56042",
   "metadata": {},
   "outputs": [],
   "source": []
  },
  {
   "cell_type": "code",
   "execution_count": 47,
   "id": "9db1bdf1",
   "metadata": {},
   "outputs": [
    {
     "data": {
      "text/plain": [
       "'/projectnb/qfe/nmatsumo/QFE_copy/nm/corr_w_ckpt_2'"
      ]
     },
     "execution_count": 47,
     "metadata": {},
     "output_type": "execute_result"
    }
   ],
   "source": [
    "pwd"
   ]
  },
  {
   "cell_type": "code",
   "execution_count": 53,
   "id": "61333dfd",
   "metadata": {},
   "outputs": [],
   "source": [
    "def chisq( data_2d, err_2d ):\n",
    "    ell0m=data_2d[0]\n",
    "    ell0e=err_2d[0]\n",
    "    ell1m=data_2d[1]\n",
    "    ell1e=err_2d[1]\n",
    "    ell2m=data_2d[2]\n",
    "    ell2e=err_2d[2]\n",
    "    \n",
    "    "
   ]
  },
  {
   "cell_type": "code",
   "execution_count": 54,
   "id": "60aef90e",
   "metadata": {},
   "outputs": [
    {
     "ename": "SyntaxError",
     "evalue": "invalid syntax (2212925853.py, line 1)",
     "output_type": "error",
     "traceback": [
      "\u001b[0;36m  Cell \u001b[0;32mIn[54], line 1\u001b[0;36m\u001b[0m\n\u001b[0;31m    ell0m=\u001b[0m\n\u001b[0m          ^\u001b[0m\n\u001b[0;31mSyntaxError\u001b[0m\u001b[0;31m:\u001b[0m invalid syntax\n"
     ]
    }
   ],
   "source": [
    "ell0m="
   ]
  },
  {
   "cell_type": "code",
   "execution_count": null,
   "id": "42f5b6bc",
   "metadata": {},
   "outputs": [],
   "source": []
  },
  {
   "cell_type": "code",
   "execution_count": null,
   "id": "eaaf3151",
   "metadata": {},
   "outputs": [],
   "source": []
  },
  {
   "cell_type": "code",
   "execution_count": 78,
   "id": "bbda9c26",
   "metadata": {},
   "outputs": [
    {
     "name": "stdout",
     "output_type": "stream",
     "text": [
      "0\n",
      "1\n",
      "2\n",
      "3\n",
      "4\n",
      "5\n",
      "6\n",
      "7\n",
      "8\n",
      "9\n",
      "10\n",
      "11\n",
      "12\n",
      "13\n",
      "14\n",
      "15\n",
      "16\n",
      "17\n",
      "18\n"
     ]
    }
   ],
   "source": [
    "t1=txx_list\n",
    "t2=txy_list\n",
    "t1t2=txx_txy_list\n",
    "\n",
    "ft_jk_list_=[]\n",
    "\n",
    "for i_jk in range(n_bins):\n",
    "    print(i_jk)\n",
    "    t1t2_jk=np.mean(np.delete(t1t2[nskip:], i_jk, axis=0), axis=0)\n",
    "    t1_jk=np.mean(np.delete(t1[nskip:], i_jk, axis=0), axis=0)\n",
    "    t2_jk=np.mean(np.delete(t2[nskip:], i_jk, axis=0), axis=0)\n",
    "    #\n",
    "    t1t2_conn_jk=t1t2_jk-t1_jk*t2_jk\n",
    "    #\n",
    "    tmp=np.array(\n",
    "        [\n",
    "            [\n",
    "                np.sum([t1t2_conn_jk[x,t]*np.sin(2.0*np.pi*k*x/Lx) for x in range(Lx)]) / Lx \n",
    "                for t in range(r*Lx)]\n",
    "            for k in range(Lx)\n",
    "        ])\n",
    "    #\n",
    "    ft_jk_list_.append(tmp)\n",
    "ft_jk_list=np.array(ft_jk_list_)"
   ]
  },
  {
   "cell_type": "code",
   "execution_count": 79,
   "id": "6596fb8e",
   "metadata": {},
   "outputs": [],
   "source": [
    "ft_jk_mean=np.full(ft_jk_list[0].shape, 0.0)\n",
    "\n",
    "for i_jk in range(n_bins):\n",
    "    ft_jk_mean+=ft_jk_list[i_jk]\n",
    "\n",
    "ft_jk_mean/=n_bins"
   ]
  },
  {
   "cell_type": "code",
   "execution_count": 80,
   "id": "6cf7e303",
   "metadata": {},
   "outputs": [],
   "source": [
    "ft_jk_var=np.full(ft_jk_list[0].shape, 0.0)\n",
    "\n",
    "for i_jk in range(1,n_bins):\n",
    "    ft_jk_var += ( ft_jk_list[i_jk]-ft_jk_mean )**2\n",
    "\n",
    "ft_jk_var*=(n_bins-1.0)/n_bins"
   ]
  },
  {
   "cell_type": "code",
   "execution_count": 81,
   "id": "f06e0e59",
   "metadata": {},
   "outputs": [
    {
     "data": {
      "text/plain": [
       "(1e-06, 0.0004)"
      ]
     },
     "execution_count": 81,
     "metadata": {},
     "output_type": "execute_result"
    },
    {
     "data": {
      "image/png": "[encoded data removed]",
      "text/plain": [
       "<Figure size 640x480 with 1 Axes>"
      ]
     },
     "metadata": {},
     "output_type": "display_data"
    }
   ],
   "source": [
    "tmax=40\n",
    "\n",
    "x=np.arange(tmax)\n",
    "\n",
    "####\n",
    "\n",
    "ell=1\n",
    "\n",
    "y=ft_jk_mean[ell][:tmax]\n",
    "dy=np.sqrt(ft_jk_var[ell][:tmax])\n",
    "plt.errorbar(x,y,dy, label=\"$\\\\ell=$\"+str(ell), ls=\"dashed\")\n",
    "\n",
    "# delta=2.0\n",
    "# coeff=0.0001\n",
    "# plt.plot(coeff*np.exp(-delta*a_lat*x))\n",
    "\n",
    "####\n",
    "\n",
    "ell=2\n",
    "\n",
    "y=ft_jk_mean[ell][:tmax]\n",
    "dy=np.sqrt(ft_jk_var[ell][:tmax])\n",
    "plt.errorbar(x,y,dy, label=\"$\\\\ell=$\"+str(ell), ls=\"dashed\")\n",
    "\n",
    "delta=3.0\n",
    "coeff=0.0001\n",
    "plt.plot(coeff*np.exp(-delta*a_lat*x))\n",
    "\n",
    "####\n",
    "\n",
    "# plt.plot(ft[1][:40], label=\"$\\\\ell=1$\")\n",
    "# plt.plot(ft[2][:40], label=\"$\\\\ell=2$\")\n",
    "# plt.plot(ft[3][:40], label=\"$\\\\ell=3$\")\n",
    "\n",
    "# plt.plot(x, y, label=\"fit\", ls=\"dashed\", linewidth=3)\n",
    "# plt.legend()\n",
    "# plt.title(\"odd part (sin)\")\n",
    "\n",
    "plt.yscale(\"log\")\n",
    "plt.legend()\n",
    "plt.xlim(0.0,15.0)\n",
    "plt.ylim(1.0e-6, 4.0e-4)"
   ]
  },
  {
   "cell_type": "code",
   "execution_count": 82,
   "id": "a76de28f",
   "metadata": {},
   "outputs": [
    {
     "ename": "SyntaxError",
     "evalue": "invalid syntax. Perhaps you forgot a comma? (3470904177.py, line 1)",
     "output_type": "error",
     "traceback": [
      "\u001b[0;36m  Cell \u001b[0;32mIn[82], line 1\u001b[0;36m\u001b[0m\n\u001b[0;31m    sum_theta [sin(ell*theta) <txx(0,0) txy(t,theta)>]\u001b[0m\n\u001b[0m               ^\u001b[0m\n\u001b[0;31mSyntaxError\u001b[0m\u001b[0;31m:\u001b[0m invalid syntax. Perhaps you forgot a comma?\n"
     ]
    }
   ],
   "source": [
    "sum_theta [sin(ell*theta) <txx(0,0) txy(t,theta)>]"
   ]
  },
  {
   "cell_type": "code",
   "execution_count": null,
   "id": "47fec7e7",
   "metadata": {},
   "outputs": [],
   "source": []
  },
  {
   "cell_type": "code",
   "execution_count": null,
   "id": "83f771e8",
   "metadata": {},
   "outputs": [],
   "source": []
  },
  {
   "cell_type": "code",
   "execution_count": null,
   "id": "c832a337",
   "metadata": {},
   "outputs": [],
   "source": []
  },
  {
   "cell_type": "code",
   "execution_count": null,
   "id": "912142d8",
   "metadata": {},
   "outputs": [],
   "source": []
  },
  {
   "cell_type": "code",
   "execution_count": null,
   "id": "5fb76d83",
   "metadata": {},
   "outputs": [],
   "source": []
  },
  {
   "cell_type": "code",
   "execution_count": null,
   "id": "b220f306",
   "metadata": {},
   "outputs": [],
   "source": []
  },
  {
   "cell_type": "code",
   "execution_count": null,
   "id": "630d43a1",
   "metadata": {},
   "outputs": [],
   "source": []
  },
  {
   "cell_type": "code",
   "execution_count": null,
   "id": "4ebcd6b8",
   "metadata": {},
   "outputs": [],
   "source": [
    "1.0 + 1.0/np.tanh(a_lat*t)"
   ]
  },
  {
   "cell_type": "code",
   "execution_count": null,
   "id": "58764659",
   "metadata": {},
   "outputs": [],
   "source": []
  },
  {
   "cell_type": "code",
   "execution_count": null,
   "id": "e68c011c",
   "metadata": {},
   "outputs": [],
   "source": []
  },
  {
   "cell_type": "code",
   "execution_count": null,
   "id": "60206a3a",
   "metadata": {},
   "outputs": [],
   "source": []
  },
  {
   "cell_type": "code",
   "execution_count": null,
   "id": "4722ca81",
   "metadata": {},
   "outputs": [],
   "source": [
    "# conn_jk_mean=np.full(conn_jk_list[0].shape, 0.0)\n",
    "\n",
    "# for i_jk in range(n_bins):\n",
    "#     conn_jk_mean+=conn_jk_list[i_jk]\n",
    "\n",
    "# conn_jk_mean/=n_bins"
   ]
  },
  {
   "cell_type": "code",
   "execution_count": null,
   "id": "0d9f8d4e",
   "metadata": {},
   "outputs": [],
   "source": [
    "# conn_jk_var=np.full(conn_jk_list[0].shape, 0.0)\n",
    "\n",
    "# for i_jk in range(1,n_bins):\n",
    "#     conn_jk_var += ( conn_jk_list[i_jk]-conn_jk_mean )**2\n",
    "\n",
    "# conn_jk_var*=(n_bins-1.0)/n_bins\n",
    "# conn_jk_err=np.sqrt(conn_jk_var)"
   ]
  },
  {
   "cell_type": "code",
   "execution_count": null,
   "id": "1020e6de",
   "metadata": {},
   "outputs": [],
   "source": [
    "# conn_jk_mean.shape"
   ]
  },
  {
   "cell_type": "code",
   "execution_count": null,
   "id": "51437cb0",
   "metadata": {},
   "outputs": [],
   "source": [
    "# xy=np.array([[[x,y] for x in range(Lx)] for y in range(Ly)])"
   ]
  },
  {
   "cell_type": "code",
   "execution_count": null,
   "id": "cf942248",
   "metadata": {},
   "outputs": [],
   "source": [
    "xy.T[0].flatten()"
   ]
  },
  {
   "cell_type": "code",
   "execution_count": null,
   "id": "64707321",
   "metadata": {},
   "outputs": [],
   "source": [
    "xy.T[1].flatten()"
   ]
  },
  {
   "cell_type": "code",
   "execution_count": null,
   "id": "3f64485f",
   "metadata": {},
   "outputs": [],
   "source": [
    "conn_jk_mean[0]"
   ]
  },
  {
   "cell_type": "code",
   "execution_count": null,
   "id": "10477d9d",
   "metadata": {},
   "outputs": [],
   "source": [
    "data=np.array(\n",
    "    [xy.T[0].flatten(), xy.T[1].flatten(),\n",
    "     conn_jk_mean.flatten(), conn_jk_mean.flatten()])"
   ]
  },
  {
   "cell_type": "code",
   "execution_count": null,
   "id": "048ea139",
   "metadata": {},
   "outputs": [],
   "source": [
    "data.T"
   ]
  },
  {
   "cell_type": "code",
   "execution_count": null,
   "id": "8159f930",
   "metadata": {},
   "outputs": [],
   "source": [
    "np.savetxt(\"Lx40_E1E1.dat\", data.T,\n",
    "            header=\"theta \\t\\t\\t  t  \\t\\t\\t  mean  \\t\\t\\t  err\")"
   ]
  },
  {
   "cell_type": "code",
   "execution_count": null,
   "id": "bd1e13ba",
   "metadata": {},
   "outputs": [],
   "source": []
  },
  {
   "cell_type": "code",
   "execution_count": null,
   "id": "587f8846",
   "metadata": {},
   "outputs": [],
   "source": [
    "pwd"
   ]
  },
  {
   "cell_type": "code",
   "execution_count": null,
   "id": "e8a0338d",
   "metadata": {},
   "outputs": [],
   "source": []
  },
  {
   "cell_type": "code",
   "execution_count": null,
   "id": "bff27b63",
   "metadata": {},
   "outputs": [],
   "source": [
    "ellmax=3\n",
    "\n",
    "fit_list2=[\n",
    "    [0, 6, 24],\n",
    "    [1, 4, 20],\n",
    "    [2, 2, 10],\n",
    "#     [3, 10.0, 30.0],\n",
    "#     [4, 10.0, 30.0],\n",
    "]"
   ]
  },
  {
   "cell_type": "code",
   "execution_count": null,
   "id": "c3ba3a19",
   "metadata": {},
   "outputs": [],
   "source": []
  },
  {
   "cell_type": "code",
   "execution_count": null,
   "id": "5743d1f9",
   "metadata": {},
   "outputs": [],
   "source": [
    "fit_min=fit_list2[ell][1]\n",
    "fit_max=fit_list2[ell][2]\n",
    "ft_jk_mean[ell][fit_min:fit_max]"
   ]
  },
  {
   "cell_type": "code",
   "execution_count": null,
   "id": "59968595",
   "metadata": {},
   "outputs": [],
   "source": []
  },
  {
   "cell_type": "code",
   "execution_count": null,
   "id": "b28f1200",
   "metadata": {},
   "outputs": [],
   "source": []
  },
  {
   "cell_type": "code",
   "execution_count": null,
   "id": "be3a4081",
   "metadata": {},
   "outputs": [],
   "source": [
    "ell=2\n",
    "\n",
    "fitm=fit_list2[ell][1]\n",
    "fitM=fit_list2[ell][2]\n",
    "ft_jk_mean[ell][fitm:fitM]\n",
    "\n",
    "x=np.arange(fitm, fitM, dtype=int)\n",
    "y=ft_jk_mean[ell][fitm:fitM]\n",
    "dy=np.sqrt(ft_jk_var[ell][fitm:fitM])\n",
    "\n",
    "par, var = sp.optimize.curve_fit(two_exp, x, y, p0=[1.0, 2.0, 0.001, 1.0+ell], sigma=dy)\n",
    "# par = pars[i]\n",
    "# var = vars[i]"
   ]
  },
  {
   "cell_type": "code",
   "execution_count": null,
   "id": "94cb5665",
   "metadata": {},
   "outputs": [],
   "source": [
    "par, var"
   ]
  },
  {
   "cell_type": "code",
   "execution_count": null,
   "id": "b55b79c3",
   "metadata": {},
   "outputs": [],
   "source": []
  },
  {
   "cell_type": "code",
   "execution_count": null,
   "id": "210abcfd",
   "metadata": {},
   "outputs": [],
   "source": []
  },
  {
   "cell_type": "code",
   "execution_count": null,
   "id": "4a6afd85",
   "metadata": {},
   "outputs": [],
   "source": [
    "tmax=40\n",
    "\n",
    "pars_=[]\n",
    "vars_=[]\n",
    "\n",
    "for ell in range(ellmax):\n",
    "    print(ell)\n",
    "    fitm=fit_list2[ell][1]\n",
    "    fitM=fit_list2[ell][2]\n",
    "    \n",
    "    ####\n",
    "    x=np.arange(tmax)\n",
    "    y=ft_jk_mean[ell][:tmax]\n",
    "    dy=np.sqrt(ft_jk_var[ell][:tmax])\n",
    "    plt.errorbar(x,y,dy, label=\"$\\\\ell=$\"+str(ell))\n",
    "    \n",
    "    x=np.arange(fitm, fitM, dtype=int)\n",
    "    y=ft_jk_mean[ell][fitm:fitM]\n",
    "    dy=np.sqrt(ft_jk_var[ell][fitm:fitM])\n",
    "    \n",
    "    par, var = sp.optimize.curve_fit(two_exp, x, y, p0=[1.0, 2.0, 0.2, 1.0+ell], sigma=dy)\n",
    "#    par, var = sp.optimize.curve_fit(two_exp, x, y, p0=[1.0, 1.0, 1.0, 1.0], sigma=dy)\n",
    "#     pars_.append(par)\n",
    "#     vars_.append(var)\n",
    "    \n",
    "    x=np.arange(fitm, fitM, dtype=int)\n",
    "    y=two_exp(x, par[0], par[1], par[2], par[3])\n",
    "    plt.plot(x, y, ls=\"dashed\", linewidth=2)\n",
    "\n",
    "# plt.ylim(0.15, 0.8)\n",
    "# plt.xlim(0, 15)\n",
    "\n",
    "plt.legend()\n",
    "plt.yscale(\"log\")\n",
    "plt.ylim(1.0e-6, 1.0e-2)\n",
    "\n",
    "plt.legend()\n",
    "# plt.savefig(\"./figs/64I_all.pdf\")\n",
    "plt.savefig(\"e1_e1_cos_fitted.pdf\")\n",
    "plt.show()"
   ]
  },
  {
   "cell_type": "code",
   "execution_count": null,
   "id": "3ba223cb",
   "metadata": {},
   "outputs": [],
   "source": []
  },
  {
   "cell_type": "code",
   "execution_count": null,
   "id": "da1029c1",
   "metadata": {},
   "outputs": [],
   "source": []
  },
  {
   "cell_type": "code",
   "execution_count": null,
   "id": "4958e477",
   "metadata": {},
   "outputs": [],
   "source": [
    "ellmax=3"
   ]
  },
  {
   "cell_type": "code",
   "execution_count": null,
   "id": "78cd7cd2",
   "metadata": {},
   "outputs": [],
   "source": [
    "data = [ft_jk_mean[ell][ fit_list2[ell][1] : fit_list2[ell][2] ] for ell in range(ellmax)]"
   ]
  },
  {
   "cell_type": "code",
   "execution_count": null,
   "id": "487bf2e6",
   "metadata": {},
   "outputs": [],
   "source": [
    "err = ft_jk_var[ell][ fit_list2[ell][1] : fit_list2[ell][2] ]"
   ]
  },
  {
   "cell_type": "code",
   "execution_count": null,
   "id": "47d5b740",
   "metadata": {},
   "outputs": [],
   "source": [
    "def chisq( data_2d, err_2d ):\n",
    "    "
   ]
  },
  {
   "cell_type": "code",
   "execution_count": null,
   "id": "42fa9a6c",
   "metadata": {},
   "outputs": [],
   "source": []
  },
  {
   "cell_type": "code",
   "execution_count": null,
   "id": "7d2ae5e1",
   "metadata": {},
   "outputs": [],
   "source": []
  },
  {
   "cell_type": "code",
   "execution_count": null,
   "id": "8421b907",
   "metadata": {},
   "outputs": [],
   "source": []
  },
  {
   "cell_type": "code",
   "execution_count": null,
   "id": "d05170d8",
   "metadata": {},
   "outputs": [],
   "source": []
  },
  {
   "cell_type": "code",
   "execution_count": null,
   "id": "c9f8b3b5",
   "metadata": {},
   "outputs": [],
   "source": []
  },
  {
   "cell_type": "code",
   "execution_count": null,
   "id": "98cc9b42",
   "metadata": {},
   "outputs": [],
   "source": []
  },
  {
   "cell_type": "code",
   "execution_count": null,
   "id": "bfdfaf85",
   "metadata": {},
   "outputs": [],
   "source": []
  },
  {
   "cell_type": "code",
   "execution_count": null,
   "id": "aed29610",
   "metadata": {},
   "outputs": [],
   "source": []
  },
  {
   "cell_type": "code",
   "execution_count": null,
   "id": "7ee197d6",
   "metadata": {},
   "outputs": [],
   "source": []
  },
  {
   "cell_type": "code",
   "execution_count": null,
   "id": "8120cf70",
   "metadata": {},
   "outputs": [],
   "source": []
  },
  {
   "cell_type": "code",
   "execution_count": 77,
   "id": "b88e006f",
   "metadata": {},
   "outputs": [
    {
     "name": "stdout",
     "output_type": "stream",
     "text": [
      "0\n",
      "1\n",
      "2\n",
      "3\n",
      "4\n",
      "5\n",
      "6\n",
      "7\n",
      "8\n",
      "9\n",
      "10\n",
      "11\n",
      "12\n",
      "13\n",
      "14\n",
      "15\n",
      "16\n",
      "17\n",
      "18\n"
     ]
    }
   ],
   "source": [
    "t1=txx_list\n",
    "t2=txx_list\n",
    "t1t2=txx_txx_list\n",
    "\n",
    "ft_jk_list_=[]\n",
    "\n",
    "for i_jk in range(n_bins):\n",
    "    print(i_jk)\n",
    "    t1t2_jk=np.mean(np.delete(t1t2[nskip:], i_jk, axis=0), axis=0)\n",
    "    t1_jk=np.mean(np.delete(t1[nskip:], i_jk, axis=0), axis=0)\n",
    "    t2_jk=np.mean(np.delete(t2[nskip:], i_jk, axis=0), axis=0)\n",
    "    #\n",
    "    t1t2_conn_jk=t1t2_jk-t1_jk*t2_jk\n",
    "    #\n",
    "    tmp=np.array(\n",
    "        [\n",
    "            [\n",
    "                np.sum([t1t2_conn_jk[x,t]*np.sin(2.0*np.pi*k*x/Lx) for x in range(Lx)]) / Lx \n",
    "                for t in range(r*Lx)]\n",
    "            for k in range(Lx)\n",
    "        ])\n",
    "    #\n",
    "    ft_jk_list_.append(tmp)\n",
    "ft_jk_list=np.array(ft_jk_list_)"
   ]
  },
  {
   "cell_type": "code",
   "execution_count": null,
   "id": "27ad217e",
   "metadata": {},
   "outputs": [],
   "source": [
    "ft_jk_mean=np.full(ft_jk_list[0].shape, 0.0)\n",
    "\n",
    "for i_jk in range(n_bins):\n",
    "    ft_jk_mean+=ft_jk_list[i_jk]\n",
    "\n",
    "ft_jk_mean/=n_bins"
   ]
  },
  {
   "cell_type": "code",
   "execution_count": null,
   "id": "20b0ed55",
   "metadata": {},
   "outputs": [],
   "source": [
    "ft_jk_var=np.full(ft_jk_list[0].shape, 0.0)\n",
    "\n",
    "for i_jk in range(1,n_bins):\n",
    "    ft_jk_var += ( ft_jk_list[i_jk]-ft_jk_mean )**2\n",
    "\n",
    "ft_jk_var*=(n_bins-1.0)/n_bins"
   ]
  },
  {
   "cell_type": "code",
   "execution_count": null,
   "id": "3019bbab",
   "metadata": {},
   "outputs": [],
   "source": [
    "tmax=40\n",
    "\n",
    "x=np.arange(tmax)\n",
    "\n",
    "####\n",
    "\n",
    "ell=0\n",
    "\n",
    "y=ft_jk_mean[ell][:tmax]\n",
    "dy=np.sqrt(ft_jk_var[ell][:tmax])\n",
    "plt.errorbar(x,y,dy, label=\"$\\\\ell=0$\")\n",
    "\n",
    "delta=1.0\n",
    "coeff=0.0025\n",
    "plt.plot(coeff*np.exp(-delta*a_lat*x), ls=\"dashed\")\n",
    "\n",
    "####\n",
    "\n",
    "ell=1\n",
    "\n",
    "y=ft_jk_mean[ell][:tmax]\n",
    "dy=np.sqrt(ft_jk_var[ell][:tmax])\n",
    "plt.errorbar(x,y,dy, label=\"$\\\\ell=0$\", ls=\"dashed\")\n",
    "\n",
    "delta=2.0\n",
    "coeff=0.0028\n",
    "plt.plot(coeff*np.exp(-delta*a_lat*x))\n",
    "\n",
    "####\n",
    "\n",
    "ell=2\n",
    "\n",
    "y=ft_jk_mean[ell][:tmax]\n",
    "dy=np.sqrt(ft_jk_var[ell][:tmax])\n",
    "plt.errorbar(x,y,dy, label=\"$\\\\ell=0$\", ls=\"dashed\")\n",
    "\n",
    "delta=3.0\n",
    "coeff=0.0028\n",
    "plt.plot(coeff*np.exp(-delta*a_lat*x))\n",
    "\n",
    "####\n",
    "\n",
    "# plt.plot(ft[1][:40], label=\"$\\\\ell=1$\")\n",
    "# plt.plot(ft[2][:40], label=\"$\\\\ell=2$\")\n",
    "# plt.plot(ft[3][:40], label=\"$\\\\ell=3$\")\n",
    "\n",
    "# plt.plot(x, y, label=\"fit\", ls=\"dashed\", linewidth=3)\n",
    "# plt.legend()\n",
    "# plt.title(\"odd part (sin)\")\n",
    "\n",
    "plt.yscale(\"log\")\n",
    "\n",
    "# plt.xlim(0.0,10.0)\n",
    "plt.ylim(1.0e-6, 1.0e-2)"
   ]
  },
  {
   "cell_type": "code",
   "execution_count": null,
   "id": "bbbc98c7",
   "metadata": {},
   "outputs": [],
   "source": []
  },
  {
   "cell_type": "code",
   "execution_count": null,
   "id": "a6915e9c",
   "metadata": {},
   "outputs": [],
   "source": []
  },
  {
   "cell_type": "code",
   "execution_count": null,
   "id": "da0622e5",
   "metadata": {},
   "outputs": [],
   "source": []
  },
  {
   "cell_type": "code",
   "execution_count": null,
   "id": "74f9d44b",
   "metadata": {},
   "outputs": [],
   "source": []
  },
  {
   "cell_type": "code",
   "execution_count": null,
   "id": "99c67249",
   "metadata": {},
   "outputs": [],
   "source": []
  },
  {
   "cell_type": "code",
   "execution_count": null,
   "id": "0b48b492",
   "metadata": {},
   "outputs": [],
   "source": []
  },
  {
   "cell_type": "code",
   "execution_count": null,
   "id": "cfc69138",
   "metadata": {},
   "outputs": [],
   "source": []
  },
  {
   "cell_type": "code",
   "execution_count": null,
   "id": "510828b2",
   "metadata": {},
   "outputs": [],
   "source": []
  },
  {
   "cell_type": "code",
   "execution_count": null,
   "id": "ea20c20c",
   "metadata": {},
   "outputs": [],
   "source": []
  },
  {
   "cell_type": "code",
   "execution_count": null,
   "id": "742ad00b",
   "metadata": {},
   "outputs": [],
   "source": []
  },
  {
   "cell_type": "code",
   "execution_count": null,
   "id": "25f417ee",
   "metadata": {},
   "outputs": [],
   "source": []
  },
  {
   "cell_type": "code",
   "execution_count": null,
   "id": "88b2627d",
   "metadata": {},
   "outputs": [],
   "source": []
  },
  {
   "cell_type": "code",
   "execution_count": null,
   "id": "48871318",
   "metadata": {},
   "outputs": [],
   "source": []
  },
  {
   "cell_type": "code",
   "execution_count": null,
   "id": "3229ea66",
   "metadata": {},
   "outputs": [],
   "source": [
    "ft=ft_jk"
   ]
  },
  {
   "cell_type": "code",
   "execution_count": null,
   "id": "3b1020ab",
   "metadata": {},
   "outputs": [],
   "source": [
    "plt.plot(ft[0][:40], label=\"$\\\\ell=0$\")\n",
    "plt.plot(ft[1][:40], label=\"$\\\\ell=1$\")\n",
    "plt.plot(ft[2][:40], label=\"$\\\\ell=2$\")\n",
    "plt.plot(ft[3][:40], label=\"$\\\\ell=3$\")\n",
    "\n",
    "# plt.plot(x, y, label=\"fit\", ls=\"dashed\", linewidth=3)\n",
    "# plt.legend()\n",
    "# plt.title(\"odd part (sin)\")\n",
    "\n",
    "plt.xlim(0.0,10.0)\n",
    "plt.ylim(-0.0001, 0.004)"
   ]
  },
  {
   "cell_type": "code",
   "execution_count": null,
   "id": "ba23d467",
   "metadata": {},
   "outputs": [],
   "source": []
  },
  {
   "cell_type": "code",
   "execution_count": null,
   "id": "9f16ff5f",
   "metadata": {},
   "outputs": [],
   "source": []
  },
  {
   "cell_type": "code",
   "execution_count": null,
   "id": "8a1c824a",
   "metadata": {},
   "outputs": [],
   "source": []
  },
  {
   "cell_type": "code",
   "execution_count": null,
   "id": "f383d1c4",
   "metadata": {},
   "outputs": [],
   "source": [
    "txx_txy_list[nskip:][:i_jk]"
   ]
  },
  {
   "cell_type": "code",
   "execution_count": null,
   "id": "0bd763c6",
   "metadata": {},
   "outputs": [],
   "source": []
  },
  {
   "cell_type": "code",
   "execution_count": null,
   "id": "2834dc0b",
   "metadata": {},
   "outputs": [],
   "source": []
  },
  {
   "cell_type": "code",
   "execution_count": null,
   "id": "4fa300ef",
   "metadata": {},
   "outputs": [],
   "source": [
    "nskip=1\n",
    "txx_txy=np.mean(txx_txy_list[nskip:], axis=0) - np.mean(txx_list[nskip:], axis=0)*np.mean(txy_list[nskip:], axis=0)"
   ]
  },
  {
   "cell_type": "code",
   "execution_count": null,
   "id": "26ed869e",
   "metadata": {},
   "outputs": [],
   "source": [
    "tmp=txx_txy\n",
    "ft=np.array(\n",
    "    [\n",
    "        [\n",
    "            np.sum([txx_txy[x,t]*np.sin(2.0*np.pi*k*x/Lx) for x in range(Lx)]) / Lx \n",
    "            for t in range(r*Lx)]\n",
    "        for k in range(Lx)])"
   ]
  },
  {
   "cell_type": "code",
   "execution_count": null,
   "id": "8efdee9c",
   "metadata": {},
   "outputs": [],
   "source": []
  },
  {
   "cell_type": "code",
   "execution_count": null,
   "id": "feb3a1c0",
   "metadata": {},
   "outputs": [],
   "source": [
    "def const_exp(x, E0, A, dE):\n",
    "    return E0 + A*np.exp(-alat*dE*x)"
   ]
  },
  {
   "cell_type": "code",
   "execution_count": null,
   "id": "25d27d70",
   "metadata": {},
   "outputs": [],
   "source": [
    "xmin=2\n",
    "xmax=10"
   ]
  },
  {
   "cell_type": "code",
   "execution_count": null,
   "id": "42e3c440",
   "metadata": {},
   "outputs": [],
   "source": [
    "# x=np.arange(ft[1][:40].shape[0])\n",
    "# y=ft[1][:40]\n",
    "# par, var = sp.optimize.curve_fit(const_exp, x, y, p0=[0.2, 0.4, 0.6])\n",
    "x=np.arange(xmin,xmax)\n",
    "y=ft[1][xmin:xmax]\n",
    "par, var = sp.optimize.curve_fit(const_exp, x, y, p0=[0.0, 0.4, 1.0])"
   ]
  },
  {
   "cell_type": "code",
   "execution_count": null,
   "id": "6cbf1d54",
   "metadata": {},
   "outputs": [],
   "source": [
    "par"
   ]
  },
  {
   "cell_type": "code",
   "execution_count": null,
   "id": "0f975bf6",
   "metadata": {},
   "outputs": [],
   "source": [
    "y=const_exp(x, par[0], par[1], par[2])\n",
    "\n",
    "plt.plot(ft[0][:40], label=\"$\\\\ell=0$\")\n",
    "plt.plot(ft[1][:40], label=\"$\\\\ell=1$\")\n",
    "plt.plot(ft[2][:40], label=\"$\\\\ell=2$\")\n",
    "plt.plot(ft[3][:40], label=\"$\\\\ell=3$\")\n",
    "\n",
    "plt.plot(x, y, label=\"fit\", ls=\"dashed\", linewidth=3)\n",
    "plt.legend()\n",
    "plt.title(\"odd part (sin)\")\n",
    "\n",
    "plt.xlim(0.0,10.0)\n",
    "plt.ylim(-0.0001, 0.004)"
   ]
  },
  {
   "cell_type": "code",
   "execution_count": null,
   "id": "64c4449d",
   "metadata": {},
   "outputs": [],
   "source": []
  },
  {
   "cell_type": "code",
   "execution_count": null,
   "id": "1c4e6e64",
   "metadata": {},
   "outputs": [],
   "source": []
  },
  {
   "cell_type": "code",
   "execution_count": null,
   "id": "9bdd3ee4",
   "metadata": {},
   "outputs": [],
   "source": []
  },
  {
   "cell_type": "code",
   "execution_count": null,
   "id": "cfbcaf35",
   "metadata": {},
   "outputs": [],
   "source": [
    "plt.plot(ft[0][:40], label=\"$\\\\ell=0$\")\n",
    "plt.plot(ft[1][:40], label=\"$\\\\ell=1$\")\n",
    "plt.plot(ft[2][:40], label=\"$\\\\ell=2$\")\n",
    "# plt.plot(ft[3][:40], label=\"$\\\\ell=3$\")\n",
    "# plt.plot(ft[4][:40], label=\"$\\\\ell=4$\")\n",
    "# plt.plot(ft[5][:40], label=\"$\\\\ell=5$\")\n",
    "\n",
    "\n",
    "t = np.arange(0,40)\n",
    "Delta=3.0\n",
    "ct = 0.004*np.exp(-t*alat*Delta)\n",
    "plt.plot(t,ct, ls=\"dashed\", label=\"$e^{-3t}$\")\n",
    "\n",
    "# plt.ylim(0.00001, 1.0)\n",
    "# plt.xlim(0.0, 40.0)\n",
    "\n",
    "plt.ylabel(\"FT $\\\\langle T_{xx}(0) \\cdot T_{xy}(t,x) \\\\rangle$\")\n",
    "plt.xlabel(\"$t$\")\n",
    "\n",
    "plt.title(\"32x384\")\n",
    "\n",
    "plt.legend()\n",
    "\n",
    "plt.yscale(\"log\")\n",
    "plt.xlim(0.0,10.0)\n",
    "plt.ylim(0.00001, 0.01)\n",
    "\n",
    "plt.savefig(\"txx_txy.pdf\", bbox_inches=\"tight\")"
   ]
  },
  {
   "cell_type": "code",
   "execution_count": null,
   "id": "27417ea2",
   "metadata": {},
   "outputs": [],
   "source": [
    "tmp=txx_txy\n",
    "ft=np.array(\n",
    "    [\n",
    "        [\n",
    "            np.sum([txx_txy[x,t]*np.cos(2.0*np.pi*k*x/Lx) for x in range(Lx)]) / Lx \n",
    "            for t in range(r*Lx)]\n",
    "        for k in range(Lx)])"
   ]
  },
  {
   "cell_type": "code",
   "execution_count": null,
   "id": "754f0a03",
   "metadata": {},
   "outputs": [],
   "source": [
    "plt.plot(ft[0][:40], label=\"$\\\\ell=0$\")\n",
    "plt.plot(ft[1][:40], label=\"$\\\\ell=1$\")\n",
    "plt.plot(ft[2][:40], label=\"$\\\\ell=2$\")\n",
    "# plt.plot(ft[3][:40], label=\"$\\\\ell=3$\")\n",
    "# plt.plot(ft[4][:40], label=\"$\\\\ell=4$\")\n",
    "# plt.plot(ft[5][:40], label=\"$\\\\ell=5$\")\n",
    "\n",
    "\n",
    "t = np.arange(0,40)\n",
    "Delta=3.0\n",
    "ct = 0.004*np.exp(-t*alat*Delta)\n",
    "plt.plot(t,ct, ls=\"dashed\", label=\"$e^{-t}$\")\n",
    "\n",
    "# plt.ylim(0.00001, 1.0)\n",
    "# plt.xlim(0.0, 40.0)\n",
    "\n",
    "plt.ylabel(\"FT $\\\\langle T_{xx}(0) \\cdot T_{xy}(t,x) \\\\rangle$\")\n",
    "plt.xlabel(\"$t$\")\n",
    "\n",
    "plt.title(\"32x384\")\n",
    "\n",
    "plt.legend()\n",
    "\n",
    "plt.yscale(\"log\")\n",
    "plt.xlim(0.0,10.0)\n",
    "plt.ylim(0.00001, 0.01)\n",
    "\n",
    "plt.savefig(\"txx_txy.pdf\", bbox_inches=\"tight\")"
   ]
  },
  {
   "cell_type": "code",
   "execution_count": null,
   "id": "a2c01e79",
   "metadata": {},
   "outputs": [],
   "source": []
  },
  {
   "cell_type": "code",
   "execution_count": null,
   "id": "a9ae370e",
   "metadata": {},
   "outputs": [],
   "source": [
    "np.mean(txx_list[nskip:], axis=0)"
   ]
  },
  {
   "cell_type": "code",
   "execution_count": null,
   "id": "c23f5c14",
   "metadata": {},
   "outputs": [],
   "source": [
    "nskip=1\n",
    "txx_txx=np.mean(txx_txx_list[nskip:], axis=0) - np.mean(txx_list[nskip:], axis=0)*np.mean(txx_list[nskip:], axis=0) - 0.004"
   ]
  },
  {
   "cell_type": "code",
   "execution_count": null,
   "id": "ab649c9a",
   "metadata": {},
   "outputs": [],
   "source": [
    "tmp=txx_txx\n",
    "ft=np.array(\n",
    "    [\n",
    "        [\n",
    "            np.sum([txx_txx[x,t]*np.cos(2.0*np.pi*k*x/Lx) for x in range(Lx)]) / Lx \n",
    "            for t in range(r*Lx)]\n",
    "        for k in range(Lx)])"
   ]
  },
  {
   "cell_type": "code",
   "execution_count": null,
   "id": "077d9a69",
   "metadata": {},
   "outputs": [],
   "source": [
    "alat=2.0*np.pi/Lx"
   ]
  },
  {
   "cell_type": "code",
   "execution_count": null,
   "id": "9453aec0",
   "metadata": {},
   "outputs": [],
   "source": [
    "plt.plot(ft[0][:40], label=\"$\\\\ell=0$\")"
   ]
  },
  {
   "cell_type": "code",
   "execution_count": null,
   "id": "9ee27613",
   "metadata": {},
   "outputs": [],
   "source": [
    "def const_exp(x, E0, A, dE):\n",
    "    return E0 + A*np.exp(-alat*dE*x)"
   ]
  },
  {
   "cell_type": "code",
   "execution_count": null,
   "id": "978e4b08",
   "metadata": {},
   "outputs": [],
   "source": [
    "np.arange(ft[0][:40].shape[0])"
   ]
  },
  {
   "cell_type": "code",
   "execution_count": null,
   "id": "44687c89",
   "metadata": {},
   "outputs": [],
   "source": [
    "xmin=6\n",
    "xmax=16"
   ]
  },
  {
   "cell_type": "code",
   "execution_count": null,
   "id": "72215644",
   "metadata": {},
   "outputs": [],
   "source": [
    "ell_fit=0\n",
    "\n",
    "x=np.arange(xmin,xmax)\n",
    "y=ft[ell_fit][xmin:xmax]\n",
    "par, var = sp.optimize.curve_fit(const_exp, x, y, p0=[0.0, 0.4, 1.0])"
   ]
  },
  {
   "cell_type": "code",
   "execution_count": null,
   "id": "6854cc66",
   "metadata": {},
   "outputs": [],
   "source": [
    "par"
   ]
  },
  {
   "cell_type": "code",
   "execution_count": null,
   "id": "45e73a6d",
   "metadata": {},
   "outputs": [],
   "source": [
    "y=const_exp(x, par[0], par[1], par[2])\n",
    "\n",
    "plt.plot(ft[0][:40], label=\"$\\\\ell=0$\")\n",
    "plt.plot(ft[1][:40], label=\"$\\\\ell=1$\")\n",
    "plt.plot(ft[2][:40], label=\"$\\\\ell=2$\")\n",
    "\n",
    "plt.plot(x, y, label=\"fit\", ls=\"dashed\", linewidth=3)\n",
    "plt.legend()\n",
    "\n",
    "plt.title(\"even part (cos)\")\n",
    "\n",
    "plt.xlim(0.0, xmax+2)\n",
    "plt.ylim(-0.005, 0.04)"
   ]
  },
  {
   "cell_type": "code",
   "execution_count": null,
   "id": "760b025d",
   "metadata": {},
   "outputs": [],
   "source": []
  },
  {
   "cell_type": "code",
   "execution_count": null,
   "id": "7e39c41d",
   "metadata": {},
   "outputs": [],
   "source": []
  },
  {
   "cell_type": "code",
   "execution_count": null,
   "id": "6cc54781",
   "metadata": {},
   "outputs": [],
   "source": []
  },
  {
   "cell_type": "code",
   "execution_count": null,
   "id": "1647ea62",
   "metadata": {},
   "outputs": [],
   "source": []
  },
  {
   "cell_type": "code",
   "execution_count": null,
   "id": "c5e68da2",
   "metadata": {},
   "outputs": [],
   "source": []
  },
  {
   "cell_type": "code",
   "execution_count": null,
   "id": "80d39ec1",
   "metadata": {},
   "outputs": [],
   "source": []
  },
  {
   "cell_type": "code",
   "execution_count": null,
   "id": "e50342fa",
   "metadata": {},
   "outputs": [],
   "source": []
  },
  {
   "cell_type": "code",
   "execution_count": null,
   "id": "492d99cb",
   "metadata": {},
   "outputs": [],
   "source": []
  },
  {
   "cell_type": "code",
   "execution_count": null,
   "id": "98543e02",
   "metadata": {},
   "outputs": [],
   "source": []
  },
  {
   "cell_type": "code",
   "execution_count": null,
   "id": "c8944e95",
   "metadata": {},
   "outputs": [],
   "source": []
  },
  {
   "cell_type": "code",
   "execution_count": null,
   "id": "92862713",
   "metadata": {},
   "outputs": [],
   "source": []
  },
  {
   "cell_type": "code",
   "execution_count": null,
   "id": "7eed0a45",
   "metadata": {},
   "outputs": [],
   "source": []
  },
  {
   "cell_type": "code",
   "execution_count": null,
   "id": "23f31f60",
   "metadata": {},
   "outputs": [],
   "source": []
  },
  {
   "cell_type": "code",
   "execution_count": null,
   "id": "aed10b3e",
   "metadata": {},
   "outputs": [],
   "source": [
    "plt.plot(ft[0][:40], label=\"$\\\\ell=0$\")\n",
    "plt.plot(ft[1][:40], label=\"$\\\\ell=1$\")\n",
    "plt.plot(ft[2][:40], label=\"$\\\\ell=2$\")\n",
    "# plt.plot(ft[3][:40], label=\"$\\\\ell=3$\")\n",
    "# plt.plot(ft[4][:40], label=\"$\\\\ell=4$\")\n",
    "# plt.plot(ft[5][:40], label=\"$\\\\ell=5$\")\n",
    "\n",
    "\n",
    "t = np.arange(0,40)\n",
    "Delta=1.0\n",
    "ct = 0.004*np.exp(-t*alat*Delta)\n",
    "plt.plot(t,ct, ls=\"dashed\", label=\"$e^{-3t}$\")\n",
    "\n",
    "# plt.ylim(0.00001, 1.0)\n",
    "# plt.xlim(0.0, 40.0)\n",
    "\n",
    "plt.ylabel(\"FT $\\\\langle T_{xx}(0) \\cdot T_{xy}(t,x) \\\\rangle$\")\n",
    "plt.xlabel(\"$t$\")\n",
    "\n",
    "plt.title(\"32x384\")\n",
    "\n",
    "plt.legend()\n",
    "\n",
    "plt.yscale(\"log\")\n",
    "plt.xlim(0.0,10.0)\n",
    "plt.ylim(0.00001, 0.01)\n",
    "\n",
    "# plt.savefig(\"txx_txy.pdf\", bbox_inches=\"tight\")"
   ]
  },
  {
   "cell_type": "code",
   "execution_count": null,
   "id": "20e6e2c0",
   "metadata": {},
   "outputs": [],
   "source": []
  },
  {
   "cell_type": "code",
   "execution_count": null,
   "id": "4dda8bbc",
   "metadata": {},
   "outputs": [],
   "source": []
  },
  {
   "cell_type": "code",
   "execution_count": null,
   "id": "414e86cb",
   "metadata": {},
   "outputs": [],
   "source": []
  },
  {
   "cell_type": "code",
   "execution_count": null,
   "id": "538a9278",
   "metadata": {},
   "outputs": [],
   "source": []
  },
  {
   "cell_type": "code",
   "execution_count": null,
   "id": "cebbfada",
   "metadata": {},
   "outputs": [],
   "source": []
  },
  {
   "cell_type": "code",
   "execution_count": null,
   "id": "d3aa78f3",
   "metadata": {},
   "outputs": [],
   "source": [
    "nskip=1\n",
    "txy_txx=np.mean(txy_txx_list[nskip:], axis=0)"
   ]
  },
  {
   "cell_type": "code",
   "execution_count": null,
   "id": "5b824123",
   "metadata": {},
   "outputs": [],
   "source": [
    "tmp=txy_txx\n",
    "ft=np.array(\n",
    "    [\n",
    "        [\n",
    "            np.sum([txy_txx[x,t]*np.cos(2.0*np.pi*k*x/Lx) for x in range(Lx)]) / Lx \n",
    "            for t in range(r*Lx)]\n",
    "        for k in range(Lx)])"
   ]
  },
  {
   "cell_type": "code",
   "execution_count": null,
   "id": "358a4d41",
   "metadata": {},
   "outputs": [],
   "source": [
    "alat=2.0*np.pi/Lx"
   ]
  },
  {
   "cell_type": "code",
   "execution_count": null,
   "id": "ef2e60af",
   "metadata": {},
   "outputs": [],
   "source": [
    "nskip=1\n",
    "txx_txy=np.mean(txx_txy_list[nskip:], axis=0)"
   ]
  },
  {
   "cell_type": "code",
   "execution_count": null,
   "id": "e028afc1",
   "metadata": {},
   "outputs": [],
   "source": [
    "tmp=txx_txy\n",
    "ft=np.array(\n",
    "    [\n",
    "        [\n",
    "            np.sum([txx_txy[x,t]*np.cos(2.0*np.pi*k*x/Lx) for x in range(Lx)]) / Lx \n",
    "            for t in range(r*Lx)]\n",
    "        for k in range(Lx)])"
   ]
  },
  {
   "cell_type": "code",
   "execution_count": null,
   "id": "b478e919",
   "metadata": {},
   "outputs": [],
   "source": [
    "alat=2.0*np.pi/Lx"
   ]
  },
  {
   "cell_type": "code",
   "execution_count": null,
   "id": "09e114ab",
   "metadata": {},
   "outputs": [],
   "source": [
    "Ly"
   ]
  },
  {
   "cell_type": "code",
   "execution_count": null,
   "id": "dfbf330b",
   "metadata": {},
   "outputs": [],
   "source": [
    "plt.plot(ft[0][:40], label=\"$\\\\ell=0$\")"
   ]
  },
  {
   "cell_type": "code",
   "execution_count": null,
   "id": "eee6f189",
   "metadata": {},
   "outputs": [],
   "source": [
    "plt.plot(ft[0][:40], label=\"$\\\\ell=0$\")\n",
    "plt.plot(ft[1][:40], label=\"$\\\\ell=1$\")\n",
    "plt.plot(ft[2][:40], label=\"$\\\\ell=2$\")\n",
    "# plt.plot(ft[3][:40], label=\"$\\\\ell=3$\")\n",
    "# plt.plot(ft[4][:40], label=\"$\\\\ell=4$\")\n",
    "# plt.plot(ft[5][:40], label=\"$\\\\ell=5$\")\n",
    "\n",
    "\n",
    "t = np.arange(0,40)\n",
    "Delta=6.0\n",
    "ct = 0.0016*np.exp(-t*alat*Delta)\n",
    "plt.plot(t,ct, ls=\"dashed\", label=\"$e^{-6t}$\")\n",
    "\n",
    "# plt.ylim(0.00001, 1.0)\n",
    "# plt.xlim(0.0, 40.0)\n",
    "\n",
    "plt.ylabel(\"FT $\\\\langle T_{xx}(0) \\cdot T_{xy}(t,x) \\\\rangle$\")\n",
    "plt.xlabel(\"$t$\")\n",
    "\n",
    "plt.title(\"48x384\")\n",
    "\n",
    "plt.legend()\n",
    "\n",
    "plt.yscale(\"log\")\n",
    "plt.xlim(0.0,10.0)\n",
    "plt.ylim(0.00001, 0.01)\n",
    "\n",
    "plt.savefig(\"txx_txy.pdf\", bbox_inches=\"tight\")"
   ]
  },
  {
   "cell_type": "code",
   "execution_count": null,
   "id": "78261bfe",
   "metadata": {},
   "outputs": [],
   "source": [
    "Ly"
   ]
  },
  {
   "cell_type": "code",
   "execution_count": null,
   "id": "65284b0a",
   "metadata": {},
   "outputs": [],
   "source": [
    "# plt.plot(ft[0][:40], label=\"$\\\\ell=0$\")\n",
    "plt.plot(-ft[1][:40], label=\"$\\\\ell=1$\")\n",
    "plt.plot(-ft[2][:40], label=\"$\\\\ell=2$\")\n",
    "# plt.plot(ft[3][:40], label=\"$\\\\ell=3$\")\n",
    "# plt.plot(ft[4][:40], label=\"$\\\\ell=4$\")\n",
    "# plt.plot(ft[5][:40], label=\"$\\\\ell=5$\")\n",
    "\n",
    "\n",
    "t = np.arange(0,40)\n",
    "Delta=6.0\n",
    "ct = 0.002*np.exp(-t*alat*Delta)\n",
    "plt.plot(t,ct, ls=\"dashed\", label=\"$e^{-6t}$\")\n",
    "\n",
    "# plt.ylim(0.00001, 1.0)\n",
    "# plt.xlim(0.0, 40.0)\n",
    "\n",
    "plt.ylabel(\"- FT $\\\\langle T_{xy}(0) \\cdot T_{xx}(t,x) \\\\rangle$\")\n",
    "plt.xlabel(\"$t$\")\n",
    "\n",
    "plt.title(\"48x384\")\n",
    "\n",
    "plt.legend()\n",
    "\n",
    "plt.yscale(\"log\")\n",
    "plt.xlim(0.0,10.0)\n",
    "plt.ylim(0.00001, 0.01)\n",
    "\n",
    "plt.savefig(\"txy_txx.pdf\", bbox_inches=\"tight\")"
   ]
  },
  {
   "cell_type": "code",
   "execution_count": null,
   "id": "51773adf",
   "metadata": {},
   "outputs": [],
   "source": []
  },
  {
   "cell_type": "code",
   "execution_count": null,
   "id": "29057f4c",
   "metadata": {},
   "outputs": [],
   "source": []
  },
  {
   "cell_type": "code",
   "execution_count": null,
   "id": "76c3acdc",
   "metadata": {},
   "outputs": [],
   "source": []
  },
  {
   "cell_type": "code",
   "execution_count": null,
   "id": "8632391f",
   "metadata": {},
   "outputs": [],
   "source": [
    "nskip=1\n",
    "tyy_txy=np.mean(tyy_txy_list[nskip:], axis=0)"
   ]
  },
  {
   "cell_type": "code",
   "execution_count": null,
   "id": "dfbb6f32",
   "metadata": {},
   "outputs": [],
   "source": [
    "tmp=tyy_txy\n",
    "ft=np.array(\n",
    "    [\n",
    "        [\n",
    "            np.sum([tyy_txy[x,t]*np.sin(2.0*np.pi*k*x/Lx) for x in range(Lx)]) / Lx \n",
    "            for t in range(r*Lx)]\n",
    "        for k in range(Lx)])"
   ]
  },
  {
   "cell_type": "code",
   "execution_count": null,
   "id": "86088303",
   "metadata": {},
   "outputs": [],
   "source": [
    "alat=2.0*np.pi/Lx"
   ]
  },
  {
   "cell_type": "code",
   "execution_count": null,
   "id": "0e3b50e8",
   "metadata": {},
   "outputs": [],
   "source": [
    "Ly"
   ]
  },
  {
   "cell_type": "code",
   "execution_count": null,
   "id": "2a04d97a",
   "metadata": {},
   "outputs": [],
   "source": [
    "plt.plot(ft[1][:40], label=\"$\\\\ell=1$\")\n",
    "plt.plot(ft[2][:40], label=\"$\\\\ell=2$\")"
   ]
  },
  {
   "cell_type": "code",
   "execution_count": null,
   "id": "ea1ea3cc",
   "metadata": {},
   "outputs": [],
   "source": [
    "# plt.plot(ft[0][:40], label=\"$\\\\ell=0$\")\n",
    "plt.plot(ft[1][:40], label=\"$\\\\ell=1$\")\n",
    "plt.plot(ft[2][:40], label=\"$\\\\ell=2$\")\n",
    "# plt.plot(ft[3][:40], label=\"$\\\\ell=3$\")\n",
    "# plt.plot(ft[4][:40], label=\"$\\\\ell=4$\")\n",
    "# plt.plot(ft[5][:40], label=\"$\\\\ell=5$\")\n",
    "\n",
    "\n",
    "t = np.arange(0,40)\n",
    "Delta=6.0\n",
    "ct = 0.0014*np.exp(-t*alat*Delta)\n",
    "plt.plot(t,ct, ls=\"dashed\", label=\"$e^{-6t}$\")\n",
    "\n",
    "# plt.ylim(0.00001, 1.0)\n",
    "# plt.xlim(0.0, 40.0)\n",
    "\n",
    "plt.ylabel(\"FT $\\\\langle T_{yy}(0) \\cdot T_{xy}(t,x) \\\\rangle$\")\n",
    "plt.xlabel(\"$t$\")\n",
    "\n",
    "plt.title(\"48x384\")\n",
    "\n",
    "plt.legend()\n",
    "\n",
    "plt.yscale(\"log\")\n",
    "# plt.xlim(0.0,10.0)\n",
    "# plt.ylim(0.00001, 0.01)\n",
    "\n",
    "plt.savefig(\"tyy_txy.pdf\", bbox_inches=\"tight\")"
   ]
  },
  {
   "cell_type": "code",
   "execution_count": null,
   "id": "6b9d5c00",
   "metadata": {},
   "outputs": [],
   "source": []
  },
  {
   "cell_type": "code",
   "execution_count": null,
   "id": "62a31dea",
   "metadata": {},
   "outputs": [],
   "source": []
  },
  {
   "cell_type": "code",
   "execution_count": null,
   "id": "fb7b0b03",
   "metadata": {},
   "outputs": [],
   "source": [
    "nskip=1\n",
    "txy_tyy=np.mean(txy_tyy_list[nskip:], axis=0)"
   ]
  },
  {
   "cell_type": "code",
   "execution_count": null,
   "id": "c6f14dd3",
   "metadata": {},
   "outputs": [],
   "source": [
    "tmp=txy_tyy\n",
    "ft=np.array(\n",
    "    [\n",
    "        [\n",
    "            np.sum([txy_tyy[x,t]*np.sin(2.0*np.pi*k*x/Lx) for x in range(Lx)]) / Lx \n",
    "            for t in range(r*Lx)]\n",
    "        for k in range(Lx)])"
   ]
  },
  {
   "cell_type": "code",
   "execution_count": null,
   "id": "dae206f9",
   "metadata": {},
   "outputs": [],
   "source": [
    "alat=2.0*np.pi/Lx"
   ]
  },
  {
   "cell_type": "code",
   "execution_count": null,
   "id": "ca094c27",
   "metadata": {},
   "outputs": [],
   "source": [
    "Ly"
   ]
  },
  {
   "cell_type": "code",
   "execution_count": null,
   "id": "b8bb4109",
   "metadata": {},
   "outputs": [],
   "source": [
    "# plt.plot(ft[0][:40], label=\"$\\\\ell=0$\")\n",
    "plt.plot(-ft[1][:40], label=\"$\\\\ell=1$\")\n",
    "plt.plot(-ft[2][:40], label=\"$\\\\ell=2$\")\n",
    "# plt.plot(ft[3][:40], label=\"$\\\\ell=3$\")\n",
    "# plt.plot(ft[4][:40], label=\"$\\\\ell=4$\")\n",
    "# plt.plot(ft[5][:40], label=\"$\\\\ell=5$\")\n",
    "\n",
    "\n",
    "t = np.arange(0,40)\n",
    "Delta=6.0\n",
    "ct = 0.0014*np.exp(-t*alat*Delta)\n",
    "plt.plot(t,ct, ls=\"dashed\", label=\"$e^{-6t}$\")\n",
    "\n",
    "# plt.ylim(0.00001, 1.0)\n",
    "# plt.xlim(0.0, 40.0)\n",
    "\n",
    "plt.ylabel(\"-FT $\\\\langle T_{xy}(0) \\cdot T_{yy}(t,x) \\\\rangle$\")\n",
    "plt.xlabel(\"$t$\")\n",
    "\n",
    "plt.title(\"48x384\")\n",
    "\n",
    "plt.legend()\n",
    "\n",
    "plt.yscale(\"log\")\n",
    "plt.xlim(0.0,10.0)\n",
    "plt.ylim(0.00001, 0.01)\n",
    "\n",
    "plt.savefig(\"txy_tyy.pdf\", bbox_inches=\"tight\")"
   ]
  },
  {
   "cell_type": "code",
   "execution_count": null,
   "id": "ea68cecc",
   "metadata": {},
   "outputs": [],
   "source": []
  },
  {
   "cell_type": "code",
   "execution_count": null,
   "id": "702f972a",
   "metadata": {},
   "outputs": [],
   "source": []
  },
  {
   "cell_type": "code",
   "execution_count": null,
   "id": "fbc052d6",
   "metadata": {},
   "outputs": [],
   "source": []
  },
  {
   "cell_type": "code",
   "execution_count": null,
   "id": "0cedf9e1",
   "metadata": {},
   "outputs": [],
   "source": []
  },
  {
   "cell_type": "code",
   "execution_count": null,
   "id": "8294f19e",
   "metadata": {},
   "outputs": [],
   "source": []
  },
  {
   "cell_type": "code",
   "execution_count": null,
   "id": "3b74208e",
   "metadata": {},
   "outputs": [],
   "source": []
  },
  {
   "cell_type": "code",
   "execution_count": null,
   "id": "d336308e",
   "metadata": {},
   "outputs": [],
   "source": []
  },
  {
   "cell_type": "code",
   "execution_count": null,
   "id": "fab8af2f",
   "metadata": {},
   "outputs": [],
   "source": []
  },
  {
   "cell_type": "code",
   "execution_count": null,
   "id": "6827c124",
   "metadata": {},
   "outputs": [],
   "source": []
  },
  {
   "cell_type": "code",
   "execution_count": null,
   "id": "3327e06a",
   "metadata": {},
   "outputs": [],
   "source": []
  },
  {
   "cell_type": "code",
   "execution_count": null,
   "id": "3e270052",
   "metadata": {},
   "outputs": [],
   "source": []
  },
  {
   "cell_type": "code",
   "execution_count": null,
   "id": "babf065b",
   "metadata": {},
   "outputs": [],
   "source": []
  },
  {
   "cell_type": "code",
   "execution_count": null,
   "id": "a266257f",
   "metadata": {},
   "outputs": [],
   "source": []
  },
  {
   "cell_type": "code",
   "execution_count": null,
   "id": "0bddb1c5",
   "metadata": {},
   "outputs": [],
   "source": [
    "nskip=1\n",
    "s_s=np.mean(s_s_list[nskip:], axis=0)"
   ]
  },
  {
   "cell_type": "code",
   "execution_count": null,
   "id": "7d9d39db",
   "metadata": {},
   "outputs": [],
   "source": []
  },
  {
   "cell_type": "code",
   "execution_count": null,
   "id": "02d3bec2",
   "metadata": {},
   "outputs": [],
   "source": [
    "tmp=s_s\n",
    "ft=np.array(\n",
    "    [\n",
    "        [\n",
    "            np.sum([s_s[x,t]*np.cos(2.0*np.pi*k*x/Lx) for x in range(Lx)]) / Lx \n",
    "            for t in range(r*Lx)]\n",
    "        for k in range(Lx)])"
   ]
  },
  {
   "cell_type": "code",
   "execution_count": null,
   "id": "f2b985af",
   "metadata": {},
   "outputs": [],
   "source": [
    "alat=2.0*np.pi/Lx"
   ]
  },
  {
   "cell_type": "code",
   "execution_count": null,
   "id": "c7259385",
   "metadata": {},
   "outputs": [],
   "source": [
    "plt.plot(ft[0][:40], label=\"$\\\\ell=0$\")\n",
    "plt.plot(ft[1][:40], label=\"$\\\\ell=1$\")\n",
    "plt.plot(ft[2][:40], label=\"$\\\\ell=2$\")\n",
    "plt.plot(ft[3][:40], label=\"$\\\\ell=3$\")\n",
    "plt.plot(ft[4][:40], label=\"$\\\\ell=4$\")\n",
    "plt.plot(ft[5][:40], label=\"$\\\\ell=5$\")\n",
    "\n",
    "# t = np.arange(0,40)\n",
    "# Delta=1.0/8.0\n",
    "# ct = 100.0*np.exp(-t*alat*Delta)\n",
    "# plt.plot(t,ct, ls=\"dashed\")\n",
    "\n",
    "plt.ylim(0.00001, 1.0)\n",
    "plt.xlim(0.0, 40.0)\n",
    "\n",
    "plt.ylabel(\"$\\\\langle \\\\sigma_{\\\\ell,t=0} \\cdot \\\\sigma_{\\\\ell,t} \\\\rangle$\")\n",
    "plt.xlabel(\"$t$\")\n",
    "\n",
    "plt.title(\"48x384\")\n",
    "\n",
    "plt.legend()\n",
    "\n",
    "plt.yscale(\"log\")\n",
    "\n",
    "# plt.savefig(\"sigma.eps\", bbox_inches=\"tight\")"
   ]
  },
  {
   "cell_type": "code",
   "execution_count": null,
   "id": "f071f9ce",
   "metadata": {},
   "outputs": [],
   "source": []
  },
  {
   "cell_type": "code",
   "execution_count": null,
   "id": "f327f130",
   "metadata": {},
   "outputs": [],
   "source": [
    "# plt.plot(ft[0][:15], label=\"$\\\\ell=0$\")\n",
    "# plt.plot(ft[1][:15], label=\"$\\\\ell=1$\")\n",
    "# plt.plot(ft[2][:15], label=\"$\\\\ell=2$\")\n",
    "# plt.plot(ft[3][:15], label=\"$\\\\ell=3$\")\n",
    "# plt.plot(ft[4][:15], label=\"$\\\\ell=4$\")\n",
    "# plt.plot(ft[5][:15], label=\"$\\\\ell=5$\")\n",
    "# plt.plot(ft[6][:15], label=\"$\\\\ell=6$\")\n",
    "\n",
    "\n",
    "# # for ell in range(7):\n",
    "# #     t = np.arange(0,16)\n",
    "# #     ct = np.exp(-t*alat*(Delta+ell))\n",
    "# #     plt.plot(t, ct/ct[0], ls=\"dashed\", c=\"gray\", \n",
    "# #              alpha=0.5,\n",
    "# #              label=\"$\\\\ell=$\"+str(ell)+\" analytic\")\n",
    "\n",
    "# plt.yscale(\"log\")\n",
    "\n",
    "# plt.ylabel(\"$\\\\langle \\\\sigma_{k,t=0} \\cdot \\\\sigma_{k,t} \\\\rangle$\")\n",
    "# plt.xlabel(\"$t$\")\n",
    "\n",
    "# plt.title(\"32x256\")\n",
    "\n",
    "# plt.legend()\n",
    "\n",
    "# plt.xlim(0.0,16.0)\n",
    "# plt.ylim(1.0e-3,1.0)\n",
    "\n",
    "# # plt.savefig(\"sigma.eps\", bbox_inches=\"tight\")"
   ]
  },
  {
   "cell_type": "code",
   "execution_count": null,
   "id": "d7e3c887",
   "metadata": {},
   "outputs": [],
   "source": []
  },
  {
   "cell_type": "code",
   "execution_count": null,
   "id": "d1995bc8",
   "metadata": {},
   "outputs": [],
   "source": [
    "def axpb(x, a, b):\n",
    "    return a*x + b"
   ]
  },
  {
   "cell_type": "code",
   "execution_count": null,
   "id": "b3d09688",
   "metadata": {},
   "outputs": [],
   "source": [
    "def caexp_mex(x, c, a, e):\n",
    "    return c + a*np.exp(-e*x)"
   ]
  },
  {
   "cell_type": "code",
   "execution_count": null,
   "id": "488abf82",
   "metadata": {},
   "outputs": [],
   "source": [
    "delta_list=[]"
   ]
  },
  {
   "cell_type": "code",
   "execution_count": null,
   "id": "e1abc42c",
   "metadata": {},
   "outputs": [],
   "source": [
    "ell=0\n",
    "\n",
    "y=ft[ell]\n",
    "\n",
    "plt.plot(y, label=\"$\\\\ell=$\"+str(ell))\n",
    "\n",
    "xmin=10\n",
    "xmax=30\n",
    "x=np.arange(xmin, xmax)\n",
    "[a, b], var = sp.optimize.curve_fit( axpb, x, np.log(y[xmin:xmax]) )\n",
    "plt.plot( x, np.exp( axpb(x, a, b) ), label=\"fit\" )\n",
    "\n",
    "plt.legend()\n",
    "plt.xlim(0, 40)\n",
    "plt.ylim(1.0e-1, 1.0)\n",
    "plt.yscale(\"log\")\n",
    "\n",
    "print(-a, b)\n",
    "delta_list.append([ell,-a])"
   ]
  },
  {
   "cell_type": "code",
   "execution_count": null,
   "id": "0c9e018a",
   "metadata": {},
   "outputs": [],
   "source": [
    "mass0=-a"
   ]
  },
  {
   "cell_type": "code",
   "execution_count": null,
   "id": "68d1f71d",
   "metadata": {},
   "outputs": [],
   "source": [
    "ell=0\n",
    "\n",
    "y=ft[ell]\n",
    "x=np.arange(y.shape[0])\n",
    "# plt.plot(y, label=\"$\\\\ell=$\"+str(ell))\n",
    "leading=np.exp(-mass0 * x)\n",
    "yp = y/leading\n",
    "plt.plot(yp, label=\"$\\\\ell=$\"+str(ell)+\", $C(t)/\\\\exp(-E_0 t)$\")\n",
    "\n",
    "xmin=3\n",
    "xmax=20\n",
    "x=np.arange(xmin, xmax)\n",
    "par, var = sp.optimize.curve_fit( caexp_mex, x, yp[xmin:xmax] )\n",
    "plt.plot( x, caexp_mex(x, par[0], par[1], par[2]), label=\"$A + C e^{-E_1 t}$\" )\n",
    "\n",
    "plt.legend()\n",
    "plt.xlim(0, 40)\n",
    "plt.ylim(0.42, 0.45)\n",
    "\n",
    "plt.savefig(\"ell0_leading_divided.png\")"
   ]
  },
  {
   "cell_type": "code",
   "execution_count": null,
   "id": "4ac77e45",
   "metadata": {},
   "outputs": [],
   "source": [
    "print(par[2]/a_lat, 2.0+1.0/8)"
   ]
  },
  {
   "cell_type": "code",
   "execution_count": null,
   "id": "15526c9d",
   "metadata": {},
   "outputs": [],
   "source": [
    "print(mass0/a_lat, 1.0/8)"
   ]
  },
  {
   "cell_type": "code",
   "execution_count": null,
   "id": "eb0e2290",
   "metadata": {},
   "outputs": [],
   "source": []
  },
  {
   "cell_type": "code",
   "execution_count": null,
   "id": "52f9f0dc",
   "metadata": {},
   "outputs": [],
   "source": [
    "ell=1\n",
    "\n",
    "y=ft[ell]\n",
    "\n",
    "plt.plot(y, label=\"$\\\\ell=$\"+str(ell))\n",
    "\n",
    "xmin=4\n",
    "xmax=12\n",
    "x=np.arange(xmin, xmax)\n",
    "[a, b], var = sp.optimize.curve_fit( axpb, x, np.log(y[xmin:xmax]) )\n",
    "plt.plot( x, np.exp( axpb(x, a, b) ), label=\"fit\" )\n",
    "\n",
    "plt.legend()\n",
    "plt.xlim(0, 40)\n",
    "plt.ylim(1.0e-6, 1.0)\n",
    "plt.yscale(\"log\")\n",
    "\n",
    "print(-a, b)\n",
    "delta_list.append([ell,-a])"
   ]
  },
  {
   "cell_type": "code",
   "execution_count": null,
   "id": "89e33ccf",
   "metadata": {},
   "outputs": [],
   "source": []
  },
  {
   "cell_type": "code",
   "execution_count": null,
   "id": "e19926aa",
   "metadata": {},
   "outputs": [],
   "source": [
    "mass0=-a"
   ]
  },
  {
   "cell_type": "code",
   "execution_count": null,
   "id": "eb9365fd",
   "metadata": {},
   "outputs": [],
   "source": [
    "ell=1\n",
    "\n",
    "y=ft[ell]\n",
    "x=np.arange(y.shape[0])\n",
    "# plt.plot(y, label=\"$\\\\ell=$\"+str(ell))\n",
    "leading=np.exp(-mass0 * x)\n",
    "yp = y/leading\n",
    "plt.plot(yp, label=\"$\\\\ell=$\"+str(ell))\n",
    "\n",
    "xmin=2\n",
    "xmax=8\n",
    "x=np.arange(xmin, xmax)\n",
    "par, var = sp.optimize.curve_fit( caexp_mex, x, yp[xmin:xmax] )\n",
    "plt.plot( x, caexp_mex(x, par[0], par[1], par[2]), label=\"fit\" )\n",
    "\n",
    "plt.legend()\n",
    "plt.xlim(0, 20)\n",
    "plt.ylim(0.04, 0.08)"
   ]
  },
  {
   "cell_type": "code",
   "execution_count": null,
   "id": "aa068abf",
   "metadata": {},
   "outputs": [],
   "source": [
    "par"
   ]
  },
  {
   "cell_type": "code",
   "execution_count": null,
   "id": "0511f086",
   "metadata": {},
   "outputs": [],
   "source": [
    "print(par[2]/a_lat, 3.0+1.0/8)"
   ]
  },
  {
   "cell_type": "code",
   "execution_count": null,
   "id": "9d38c651",
   "metadata": {},
   "outputs": [],
   "source": [
    "print(mass0/a_lat, 1.0 + 1.0/8)"
   ]
  },
  {
   "cell_type": "code",
   "execution_count": null,
   "id": "26d49512",
   "metadata": {},
   "outputs": [],
   "source": []
  },
  {
   "cell_type": "code",
   "execution_count": null,
   "id": "1f24214b",
   "metadata": {},
   "outputs": [],
   "source": []
  },
  {
   "cell_type": "code",
   "execution_count": null,
   "id": "77f41b1f",
   "metadata": {},
   "outputs": [],
   "source": [
    "ell=2\n",
    "\n",
    "y=ft[ell]\n",
    "\n",
    "plt.plot(y, label=\"$\\\\ell=$\"+str(ell))\n",
    "\n",
    "xmin=4\n",
    "xmax=10\n",
    "x=np.arange(xmin, xmax)\n",
    "[a, b], var = sp.optimize.curve_fit( axpb, x, np.log(y[xmin:xmax]) )\n",
    "plt.plot( x, np.exp( axpb(x, a, b) ), label=\"fit\" )\n",
    "\n",
    "plt.legend()\n",
    "plt.xlim(0, 40)\n",
    "plt.ylim(1.0e-6, 1.0)\n",
    "plt.yscale(\"log\")\n",
    "\n",
    "print(-a, b)\n",
    "delta_list.append([ell,-a])"
   ]
  },
  {
   "cell_type": "code",
   "execution_count": null,
   "id": "7b677bba",
   "metadata": {},
   "outputs": [],
   "source": [
    "ell=3\n",
    "\n",
    "y=ft[ell]\n",
    "\n",
    "plt.plot(y, label=\"$\\\\ell=$\"+str(ell))\n",
    "\n",
    "xmin=2\n",
    "xmax=8\n",
    "x=np.arange(xmin, xmax)\n",
    "[a, b], var = sp.optimize.curve_fit( axpb, x, np.log(y[xmin:xmax]) )\n",
    "plt.plot( x, np.exp( axpb(x, a, b) ), label=\"fit\" )\n",
    "\n",
    "plt.legend()\n",
    "plt.xlim(0, 40)\n",
    "plt.ylim(1.0e-6, 1.0)\n",
    "plt.yscale(\"log\")\n",
    "\n",
    "print(-a, b)\n",
    "delta_list.append([ell,-a])"
   ]
  },
  {
   "cell_type": "code",
   "execution_count": null,
   "id": "3d5b4aea",
   "metadata": {},
   "outputs": [],
   "source": [
    "ell=4\n",
    "\n",
    "y=ft[ell]\n",
    "\n",
    "plt.plot(y, label=\"$\\\\ell=$\"+str(ell))\n",
    "\n",
    "xmin=1\n",
    "xmax=5\n",
    "x=np.arange(xmin, xmax)\n",
    "[a, b], var = sp.optimize.curve_fit( axpb, x, np.log(y[xmin:xmax]) )\n",
    "plt.plot( x, np.exp( axpb(x, a, b) ), label=\"fit\" )\n",
    "\n",
    "plt.legend()\n",
    "plt.xlim(0, 40)\n",
    "plt.ylim(1.0e-6, 1.0)\n",
    "plt.yscale(\"log\")\n",
    "\n",
    "print(-a, b)\n",
    "delta_list.append([ell,-a])"
   ]
  },
  {
   "cell_type": "code",
   "execution_count": null,
   "id": "5525c9fa",
   "metadata": {},
   "outputs": [],
   "source": [
    "delta_list"
   ]
  },
  {
   "cell_type": "code",
   "execution_count": null,
   "id": "49cfa8f6",
   "metadata": {},
   "outputs": [],
   "source": [
    "a32_list=np.array([[0, 0.02389256709118499],\n",
    " [1, 0.22255784720193167],\n",
    " [2, 0.4137005128984015],\n",
    " [3, 0.5998641605815322],\n",
    " [4, 0.78630383991516]])"
   ]
  },
  {
   "cell_type": "code",
   "execution_count": null,
   "id": "ee25ad0b",
   "metadata": {},
   "outputs": [],
   "source": [
    "a48_list=np.array([[0, 0.016259087308350503],\n",
    " [1, 0.1520023212359083],\n",
    " [2, 0.2830264524101229],\n",
    " [3, 0.4162099802375052],\n",
    " [4, 0.5563355332259683]])"
   ]
  },
  {
   "cell_type": "code",
   "execution_count": null,
   "id": "144478de",
   "metadata": {},
   "outputs": [],
   "source": [
    "plt.plot(a32_list.T[0], a32_list.T[1]/(np.pi*2.0/32.0), label=\"32x256\", marker=\"o\")\n",
    "plt.plot(a48_list.T[0], a48_list.T[1]/(np.pi*2.0/48.0), label=\"48x354\", marker=\"s\")\n",
    "\n",
    "x=np.arange(5)\n",
    "plt.plot(x, x+1.0/8, ls=\"dashed\", label=\"exact\")\n",
    "\n",
    "plt.xlabel(\"$\\\\ell$\")\n",
    "plt.ylabel(\"$\\\\Delta_\\\\sigma+\\\\ell$\")\n",
    "\n",
    "plt.legend()\n",
    "\n",
    "plt.savefig(\"sigma_scaling.eps\", bbox_inches=\"tight\")"
   ]
  },
  {
   "cell_type": "code",
   "execution_count": null,
   "id": "370659ef",
   "metadata": {},
   "outputs": [],
   "source": []
  },
  {
   "cell_type": "code",
   "execution_count": null,
   "id": "5f991957",
   "metadata": {},
   "outputs": [],
   "source": []
  },
  {
   "cell_type": "code",
   "execution_count": null,
   "id": "d87c7ce2",
   "metadata": {},
   "outputs": [],
   "source": []
  },
  {
   "cell_type": "code",
   "execution_count": null,
   "id": "9fa780bc",
   "metadata": {},
   "outputs": [],
   "source": []
  },
  {
   "cell_type": "code",
   "execution_count": null,
   "id": "d50ca9ee",
   "metadata": {},
   "outputs": [],
   "source": []
  },
  {
   "cell_type": "code",
   "execution_count": null,
   "id": "68ca0748",
   "metadata": {},
   "outputs": [],
   "source": []
  },
  {
   "cell_type": "code",
   "execution_count": null,
   "id": "15f271d7",
   "metadata": {},
   "outputs": [],
   "source": []
  },
  {
   "cell_type": "code",
   "execution_count": null,
   "id": "b79685c0",
   "metadata": {},
   "outputs": [],
   "source": []
  },
  {
   "cell_type": "code",
   "execution_count": null,
   "id": "690407f3",
   "metadata": {},
   "outputs": [],
   "source": []
  },
  {
   "cell_type": "code",
   "execution_count": null,
   "id": "5ca77bbf",
   "metadata": {},
   "outputs": [],
   "source": []
  },
  {
   "cell_type": "code",
   "execution_count": null,
   "id": "b70b52e4",
   "metadata": {},
   "outputs": [],
   "source": []
  },
  {
   "cell_type": "code",
   "execution_count": null,
   "id": "abef6861",
   "metadata": {},
   "outputs": [],
   "source": []
  },
  {
   "cell_type": "code",
   "execution_count": null,
   "id": "b656b678",
   "metadata": {},
   "outputs": [],
   "source": [
    "nskip=1\n",
    "tmp2=np.array([tx_tx_list[i]-tx_list[i]**2 for i in range(nskip,len(nrange))])\n",
    "tmp=np.mean(tmp2, axis=0)\n",
    "\n",
    "ft=np.array(\n",
    "    [\n",
    "        [\n",
    "            np.sum([tmp[x,t]*np.cos(2.0*np.pi*k*x/Lx) for x in range(Lx)]) / Lx \n",
    "            for t in range(r*Lx)]\n",
    "        for k in range(Lx)])"
   ]
  },
  {
   "cell_type": "code",
   "execution_count": null,
   "id": "9624e0db",
   "metadata": {},
   "outputs": [],
   "source": [
    "alat=2.0*np.pi/Lx"
   ]
  },
  {
   "cell_type": "code",
   "execution_count": null,
   "id": "7425de3e",
   "metadata": {},
   "outputs": [],
   "source": [
    "plt.plot(ft[0][:40], label=\"$\\\\ell=0$\")\n",
    "plt.plot(ft[1][:40], label=\"$\\\\ell=1$\")\n",
    "plt.plot(ft[2][:40], label=\"$\\\\ell=2$\")\n",
    "plt.plot(ft[3][:40], label=\"$\\\\ell=3$\")\n",
    "plt.plot(ft[4][:40], label=\"$\\\\ell=4$\")\n",
    "plt.plot(ft[5][:40], label=\"$\\\\ell=5$\")\n",
    "\n",
    "# t = np.arange(0,40)\n",
    "# Delta=1.0/8.0\n",
    "# ct = 100.0*np.exp(-t*alat*Delta)\n",
    "# plt.plot(t,ct, ls=\"dashed\")\n",
    "\n",
    "plt.ylim(0.00001, 1.0)\n",
    "plt.xlim(0.0, 40.0)\n",
    "\n",
    "plt.ylabel(\"$\\\\langle \\\\epsilon_{\\\\ell,t=0} \\cdot \\\\epsilon_{\\\\ell,t} \\\\rangle$\")\n",
    "plt.xlabel(\"$t$\")\n",
    "\n",
    "plt.title(\"48x384\")\n",
    "\n",
    "plt.legend()\n",
    "\n",
    "plt.yscale(\"log\")\n",
    "\n",
    "# plt.savefig(\"sigma.eps\", bbox_inches=\"tight\")"
   ]
  },
  {
   "cell_type": "code",
   "execution_count": null,
   "id": "24e103d7",
   "metadata": {},
   "outputs": [],
   "source": []
  },
  {
   "cell_type": "code",
   "execution_count": null,
   "id": "cea52d8d",
   "metadata": {},
   "outputs": [],
   "source": [
    "def axpb(x, a, b):\n",
    "    return a*x + b"
   ]
  },
  {
   "cell_type": "code",
   "execution_count": null,
   "id": "71e8958d",
   "metadata": {},
   "outputs": [],
   "source": [
    "def two_exp(x, E1, E2, A1, A2):\n",
    "    return A1*np.exp(-E1*x) + A2*np.exp(-E2*x)"
   ]
  },
  {
   "cell_type": "code",
   "execution_count": null,
   "id": "46c7e8fc",
   "metadata": {},
   "outputs": [],
   "source": [
    "def three_exp(x, E1, E2, E3, A1, A2, A3):\n",
    "    return A1*np.exp(-E1*x) + A2*np.exp(-E2*x) + A3*np.exp(-E3*x)"
   ]
  },
  {
   "cell_type": "code",
   "execution_count": null,
   "id": "c616b3f8",
   "metadata": {},
   "outputs": [],
   "source": [
    "def three_exp_fixedE(x, E3, A1, A2, A3):\n",
    "    E1=1.0*a_lat; E2=2.0*a_lat\n",
    "    return A1*np.exp(-E1*x) + A2*np.exp(-E2*x) + A3*np.exp(-E3*x)"
   ]
  },
  {
   "cell_type": "code",
   "execution_count": null,
   "id": "66fbe32e",
   "metadata": {},
   "outputs": [],
   "source": [
    "def two_exp_fixedE(x, A1, A2):\n",
    "    E1=1.0*a_lat; E2=2.0*a_lat\n",
    "    return A1*np.exp(-E1*x) + A2*np.exp(-E2*x)"
   ]
  },
  {
   "cell_type": "code",
   "execution_count": null,
   "id": "a20f04c4",
   "metadata": {},
   "outputs": [],
   "source": [
    "a_lat=(np.pi*2.0/48.0)"
   ]
  },
  {
   "cell_type": "code",
   "execution_count": null,
   "id": "8e3181d1",
   "metadata": {},
   "outputs": [],
   "source": [
    "ell=0\n",
    "y=ft[ell]\n",
    "\n",
    "plt.plot(y, label=\"$\\\\ell=$\"+str(ell))\n",
    "\n",
    "\n",
    "\n",
    "# xmin=1\n",
    "# xmax=20\n",
    "# x=np.arange(xmin, xmax)\n",
    "# [E1, E2, E3, A1, A2, A3], var = sp.optimize.curve_fit( three_exp, x, y[xmin:xmax] )\n",
    "# plt.plot( x, three_exp(x, E1, E2, E3, A1, A2, A3), label=\"fit\" )\n",
    "\n",
    "\n",
    "\n",
    "# xmin=1\n",
    "# xmax=20\n",
    "# x=np.arange(xmin, xmax)\n",
    "# [E3, A1, A2, A3], var = sp.optimize.curve_fit( three_exp_fixedE, x, y[xmin:xmax] )\n",
    "# plt.plot( x, three_exp_fixedE(x, E3, A1, A2, A3), label=\"fit\" )\n",
    "\n",
    "\n",
    "\n",
    "# xmin=1\n",
    "# xmax=20\n",
    "# x=np.arange(xmin, xmax)\n",
    "# [E1, E2, E3, A1, A2, A3], var = sp.optimize.curve_fit( three_exp, x, y[xmin:xmax] )\n",
    "# plt.plot( x, three_exp(x, E1, E2, E3, A1, A2, A3), label=\"fit\" )\n",
    "\n",
    "\n",
    "xmin=1\n",
    "xmax=20\n",
    "x=np.arange(xmin, xmax)\n",
    "[E1, E2, A1, A2], var = sp.optimize.curve_fit( two_exp, x, y[xmin:xmax] )\n",
    "plt.plot( x, two_exp(x, E1, E2, A1, A2), label=\"fit\" )\n",
    "\n",
    "# xmin=1\n",
    "# xmax=8\n",
    "# x=np.arange(xmin, xmax)\n",
    "# [A1, A2], var = sp.optimize.curve_fit( two_exp_fixedE, x, y[xmin:xmax] )\n",
    "# plt.plot( x, two_exp_fixedE(x, A1, A2), label=\"fit\" )\n",
    "\n",
    "plt.legend()\n",
    "plt.xlim(0, 40)\n",
    "plt.ylim(1.0e-6, 1.0)\n",
    "plt.yscale(\"log\")\n",
    "\n",
    "# xmin=1\n",
    "# xmax=20\n",
    "# x=np.arange(xmin, xmax)\n",
    "# plt.plot( x, 0.008*np.exp(-x*a_lat), label=\"exp(-x)\" )\n",
    "\n",
    "# xmin=0\n",
    "# xmax=8\n",
    "# x=np.arange(xmin, xmax)\n",
    "# plt.plot( x, 0.018*np.exp(-2.0*x*a_lat), label=\"exp(-2.0*x)\" )\n",
    "\n",
    "print(E1/a_lat, E2/a_lat)\n",
    "# print(E3/a_lat)"
   ]
  },
  {
   "cell_type": "code",
   "execution_count": null,
   "id": "41bb02bf",
   "metadata": {},
   "outputs": [],
   "source": [
    "A1"
   ]
  },
  {
   "cell_type": "code",
   "execution_count": null,
   "id": "47a3d6b0",
   "metadata": {},
   "outputs": [],
   "source": [
    "A2"
   ]
  },
  {
   "cell_type": "code",
   "execution_count": null,
   "id": "1c604e33",
   "metadata": {},
   "outputs": [],
   "source": [
    "A3"
   ]
  },
  {
   "cell_type": "code",
   "execution_count": null,
   "id": "30b19ddd",
   "metadata": {},
   "outputs": [],
   "source": []
  },
  {
   "cell_type": "code",
   "execution_count": null,
   "id": "1ab8ce8a",
   "metadata": {},
   "outputs": [],
   "source": []
  },
  {
   "cell_type": "code",
   "execution_count": null,
   "id": "9b08e943",
   "metadata": {},
   "outputs": [],
   "source": []
  },
  {
   "cell_type": "markdown",
   "id": "5e0dd26a",
   "metadata": {},
   "source": [
    "$$\n",
    "    t \\equiv \\sum_\\mu (s_x-s_{x+\\mu})^2\n",
    "$$"
   ]
  },
  {
   "cell_type": "code",
   "execution_count": null,
   "id": "c2ad3ae2",
   "metadata": {},
   "outputs": [],
   "source": []
  },
  {
   "cell_type": "code",
   "execution_count": null,
   "id": "d54f5a74",
   "metadata": {},
   "outputs": [],
   "source": []
  },
  {
   "cell_type": "code",
   "execution_count": null,
   "id": "8e75c311",
   "metadata": {},
   "outputs": [],
   "source": []
  },
  {
   "cell_type": "code",
   "execution_count": null,
   "id": "26c3e7bc",
   "metadata": {},
   "outputs": [],
   "source": []
  },
  {
   "cell_type": "code",
   "execution_count": null,
   "id": "3fdad1fa",
   "metadata": {},
   "outputs": [],
   "source": []
  },
  {
   "cell_type": "code",
   "execution_count": null,
   "id": "86745f7d",
   "metadata": {},
   "outputs": [],
   "source": []
  },
  {
   "cell_type": "code",
   "execution_count": null,
   "id": "b784f2b4",
   "metadata": {},
   "outputs": [],
   "source": []
  },
  {
   "cell_type": "code",
   "execution_count": null,
   "id": "cd09816c",
   "metadata": {},
   "outputs": [],
   "source": []
  },
  {
   "cell_type": "code",
   "execution_count": null,
   "id": "edee8ea1",
   "metadata": {},
   "outputs": [],
   "source": []
  },
  {
   "cell_type": "code",
   "execution_count": null,
   "id": "24b696e3",
   "metadata": {},
   "outputs": [],
   "source": []
  },
  {
   "cell_type": "code",
   "execution_count": null,
   "id": "539bf121",
   "metadata": {},
   "outputs": [],
   "source": []
  },
  {
   "cell_type": "code",
   "execution_count": null,
   "id": "4a65b7aa",
   "metadata": {},
   "outputs": [],
   "source": []
  },
  {
   "cell_type": "code",
   "execution_count": null,
   "id": "69c75d29",
   "metadata": {},
   "outputs": [],
   "source": []
  },
  {
   "cell_type": "code",
   "execution_count": null,
   "id": "b3d7edbc",
   "metadata": {},
   "outputs": [],
   "source": []
  },
  {
   "cell_type": "code",
   "execution_count": null,
   "id": "dfc51e8c",
   "metadata": {},
   "outputs": [],
   "source": []
  },
  {
   "cell_type": "code",
   "execution_count": null,
   "id": "a0614b68",
   "metadata": {},
   "outputs": [],
   "source": []
  },
  {
   "cell_type": "code",
   "execution_count": null,
   "id": "2521ce71",
   "metadata": {},
   "outputs": [],
   "source": []
  },
  {
   "cell_type": "code",
   "execution_count": null,
   "id": "a6e12a3f",
   "metadata": {},
   "outputs": [],
   "source": []
  },
  {
   "cell_type": "code",
   "execution_count": null,
   "id": "fbeed739",
   "metadata": {},
   "outputs": [],
   "source": []
  },
  {
   "cell_type": "code",
   "execution_count": null,
   "id": "9bd3d812",
   "metadata": {},
   "outputs": [],
   "source": []
  },
  {
   "cell_type": "code",
   "execution_count": null,
   "id": "6cfe5cb5",
   "metadata": {},
   "outputs": [],
   "source": []
  },
  {
   "cell_type": "code",
   "execution_count": null,
   "id": "8e661a1f",
   "metadata": {},
   "outputs": [],
   "source": []
  },
  {
   "cell_type": "code",
   "execution_count": null,
   "id": "1cf6ba15",
   "metadata": {},
   "outputs": [],
   "source": []
  },
  {
   "cell_type": "code",
   "execution_count": null,
   "id": "6ff8fb18",
   "metadata": {},
   "outputs": [],
   "source": []
  },
  {
   "cell_type": "code",
   "execution_count": null,
   "id": "49be550a",
   "metadata": {},
   "outputs": [],
   "source": []
  },
  {
   "cell_type": "code",
   "execution_count": null,
   "id": "92ee576c",
   "metadata": {},
   "outputs": [],
   "source": []
  },
  {
   "cell_type": "code",
   "execution_count": null,
   "id": "e15d7ead",
   "metadata": {},
   "outputs": [],
   "source": []
  },
  {
   "cell_type": "code",
   "execution_count": null,
   "id": "499e91fb",
   "metadata": {},
   "outputs": [],
   "source": []
  },
  {
   "cell_type": "code",
   "execution_count": null,
   "id": "24c56b4d",
   "metadata": {},
   "outputs": [],
   "source": []
  },
  {
   "cell_type": "code",
   "execution_count": null,
   "id": "98fd94f3",
   "metadata": {},
   "outputs": [],
   "source": []
  },
  {
   "cell_type": "code",
   "execution_count": null,
   "id": "e7a19cec",
   "metadata": {},
   "outputs": [],
   "source": []
  },
  {
   "cell_type": "code",
   "execution_count": null,
   "id": "feff8f72",
   "metadata": {},
   "outputs": [],
   "source": []
  },
  {
   "cell_type": "code",
   "execution_count": null,
   "id": "3a96a622",
   "metadata": {},
   "outputs": [],
   "source": []
  },
  {
   "cell_type": "code",
   "execution_count": null,
   "id": "66f1f41d",
   "metadata": {},
   "outputs": [],
   "source": []
  },
  {
   "cell_type": "code",
   "execution_count": null,
   "id": "00dfc33d",
   "metadata": {},
   "outputs": [],
   "source": []
  },
  {
   "cell_type": "code",
   "execution_count": null,
   "id": "ec4b0729",
   "metadata": {},
   "outputs": [],
   "source": []
  },
  {
   "cell_type": "code",
   "execution_count": null,
   "id": "3aa75b4e",
   "metadata": {},
   "outputs": [],
   "source": []
  },
  {
   "cell_type": "code",
   "execution_count": null,
   "id": "a546b53f",
   "metadata": {},
   "outputs": [],
   "source": []
  },
  {
   "cell_type": "code",
   "execution_count": null,
   "id": "5d6a558a",
   "metadata": {},
   "outputs": [],
   "source": []
  },
  {
   "cell_type": "code",
   "execution_count": null,
   "id": "99874c84",
   "metadata": {},
   "outputs": [],
   "source": []
  },
  {
   "cell_type": "code",
   "execution_count": null,
   "id": "20ca5e55",
   "metadata": {},
   "outputs": [],
   "source": []
  },
  {
   "cell_type": "code",
   "execution_count": null,
   "id": "1fd779e3",
   "metadata": {},
   "outputs": [],
   "source": []
  },
  {
   "cell_type": "code",
   "execution_count": null,
   "id": "f4ab31a7",
   "metadata": {},
   "outputs": [],
   "source": [
    "nskip=1\n",
    "tmp2=np.array([t_t_list[i]-t_list[i]**2 for i in range(nskip,len(nrange))])\n",
    "tmp=np.mean(tmp2, axis=0)\n",
    "\n",
    "ft=np.array(\n",
    "    [\n",
    "        [\n",
    "            np.sum([tmp[x,t]*np.cos(2.0*np.pi*k*x/Lx) for x in range(Lx)]) / Lx \n",
    "            for t in range(r*Lx)]\n",
    "        for k in range(Lx)])"
   ]
  },
  {
   "cell_type": "code",
   "execution_count": null,
   "id": "bd67d49d",
   "metadata": {},
   "outputs": [],
   "source": [
    "alat=2.0*np.pi/Lx"
   ]
  },
  {
   "cell_type": "code",
   "execution_count": null,
   "id": "affd1502",
   "metadata": {},
   "outputs": [],
   "source": [
    "plt.plot(ft[0][:40], label=\"$\\\\ell=0$\")\n",
    "plt.plot(ft[1][:40], label=\"$\\\\ell=1$\")\n",
    "plt.plot(ft[2][:40], label=\"$\\\\ell=2$\")\n",
    "plt.plot(ft[3][:40], label=\"$\\\\ell=3$\")\n",
    "plt.plot(ft[4][:40], label=\"$\\\\ell=4$\")\n",
    "plt.plot(ft[5][:40], label=\"$\\\\ell=5$\")\n",
    "\n",
    "# t = np.arange(0,40)\n",
    "# Delta=1.0/8.0\n",
    "# ct = 100.0*np.exp(-t*alat*Delta)\n",
    "# plt.plot(t,ct, ls=\"dashed\")\n",
    "\n",
    "plt.ylim(0.00001, 1.0)\n",
    "plt.xlim(0.0, 40.0)\n",
    "\n",
    "plt.ylabel(\"$\\\\langle \\\\sigma_{\\\\ell,t=0} \\cdot \\\\sigma_{\\\\ell,t} \\\\rangle$\")\n",
    "plt.xlabel(\"$t$\")\n",
    "\n",
    "plt.title(\"32x256\")\n",
    "\n",
    "plt.legend()\n",
    "\n",
    "plt.yscale(\"log\")\n",
    "\n",
    "# plt.savefig(\"sigma.eps\", bbox_inches=\"tight\")"
   ]
  },
  {
   "cell_type": "code",
   "execution_count": null,
   "id": "d4707a04",
   "metadata": {},
   "outputs": [],
   "source": []
  },
  {
   "cell_type": "code",
   "execution_count": null,
   "id": "d3ac2e4b",
   "metadata": {},
   "outputs": [],
   "source": [
    "# plt.plot(ft[0][:15], label=\"$\\\\ell=0$\")\n",
    "# plt.plot(ft[1][:15], label=\"$\\\\ell=1$\")\n",
    "# plt.plot(ft[2][:15], label=\"$\\\\ell=2$\")\n",
    "# plt.plot(ft[3][:15], label=\"$\\\\ell=3$\")\n",
    "# plt.plot(ft[4][:15], label=\"$\\\\ell=4$\")\n",
    "# plt.plot(ft[5][:15], label=\"$\\\\ell=5$\")\n",
    "# plt.plot(ft[6][:15], label=\"$\\\\ell=6$\")\n",
    "\n",
    "\n",
    "# # for ell in range(7):\n",
    "# #     t = np.arange(0,16)\n",
    "# #     ct = np.exp(-t*alat*(Delta+ell))\n",
    "# #     plt.plot(t, ct/ct[0], ls=\"dashed\", c=\"gray\", \n",
    "# #              alpha=0.5,\n",
    "# #              label=\"$\\\\ell=$\"+str(ell)+\" analytic\")\n",
    "\n",
    "# plt.yscale(\"log\")\n",
    "\n",
    "# plt.ylabel(\"$\\\\langle \\\\sigma_{k,t=0} \\cdot \\\\sigma_{k,t} \\\\rangle$\")\n",
    "# plt.xlabel(\"$t$\")\n",
    "\n",
    "# plt.title(\"32x256\")\n",
    "\n",
    "# plt.legend()\n",
    "\n",
    "# plt.xlim(0.0,16.0)\n",
    "# plt.ylim(1.0e-3,1.0)\n",
    "\n",
    "# # plt.savefig(\"sigma.eps\", bbox_inches=\"tight\")"
   ]
  },
  {
   "cell_type": "code",
   "execution_count": null,
   "id": "e5cf8cdb",
   "metadata": {},
   "outputs": [],
   "source": []
  },
  {
   "cell_type": "code",
   "execution_count": null,
   "id": "cccd94f1",
   "metadata": {},
   "outputs": [],
   "source": [
    "def axpb(x, a, b):\n",
    "    return a*x + b"
   ]
  },
  {
   "cell_type": "code",
   "execution_count": null,
   "id": "37953cc2",
   "metadata": {},
   "outputs": [],
   "source": [
    "def two_exp(x, E1, E2, A1, A2):\n",
    "    return A1*np.exp(-E1*x) + A2*np.exp(-E2*x)"
   ]
  },
  {
   "cell_type": "code",
   "execution_count": null,
   "id": "82b3f467",
   "metadata": {},
   "outputs": [],
   "source": [
    "def two_exp_fixedE(x, A1, A2):\n",
    "    E1=1; E2=2\n",
    "    return A1*np.exp(-E1*x) + A2*np.exp(-E2*x)"
   ]
  },
  {
   "cell_type": "code",
   "execution_count": null,
   "id": "2a973825",
   "metadata": {},
   "outputs": [],
   "source": [
    "a_lat=(np.pi*2.0/48.0)"
   ]
  },
  {
   "cell_type": "code",
   "execution_count": null,
   "id": "179303c1",
   "metadata": {},
   "outputs": [],
   "source": []
  },
  {
   "cell_type": "code",
   "execution_count": null,
   "id": "254c2910",
   "metadata": {},
   "outputs": [],
   "source": []
  },
  {
   "cell_type": "code",
   "execution_count": null,
   "id": "403f77b1",
   "metadata": {},
   "outputs": [],
   "source": []
  },
  {
   "cell_type": "code",
   "execution_count": null,
   "id": "4326a23d",
   "metadata": {},
   "outputs": [],
   "source": []
  },
  {
   "cell_type": "code",
   "execution_count": null,
   "id": "3628bf0a",
   "metadata": {},
   "outputs": [],
   "source": [
    "ell=0\n",
    "y=ft[ell]\n",
    "\n",
    "plt.plot(y, label=\"$\\\\ell=$\"+str(ell))\n",
    "\n",
    "# xmin=1\n",
    "# xmax=20\n",
    "# x=np.arange(xmin, xmax)\n",
    "# [E1, E2, A1, A2], var = sp.optimize.curve_fit( two_exp, x, y[xmin:xmax] )\n",
    "# plt.plot( x, two_exp(x, E1, E2, A1, A2), label=\"fit\" )\n",
    "\n",
    "# xmin=1\n",
    "# xmax=5\n",
    "# x=np.arange(xmin, xmax)\n",
    "# [A1, A2], var = sp.optimize.curve_fit( two_exp_fixedE, x, y[xmin:xmax] )\n",
    "# plt.plot( x, two_exp_fixedE(x, A1, A2), label=\"fit\" )\n",
    "\n",
    "plt.legend()\n",
    "plt.xlim(0, 40)\n",
    "plt.ylim(1.0e-6, 1.0)\n",
    "plt.yscale(\"log\")\n",
    "\n",
    "xmin=1\n",
    "xmax=20\n",
    "x=np.arange(xmin, xmax)\n",
    "plt.plot( x, 0.008*np.exp(-x*a_lat), label=\"exp(-x)\" )\n",
    "\n",
    "xmin=0\n",
    "xmax=8\n",
    "x=np.arange(xmin, xmax)\n",
    "plt.plot( x, 0.018*np.exp(-2.0*x*a_lat), label=\"exp(-2.0*x)\" )\n",
    "\n",
    "# print(E1/a_lat, E2/a_lat)"
   ]
  },
  {
   "cell_type": "markdown",
   "id": "4ace65a3",
   "metadata": {},
   "source": [
    "$$\n",
    "    t \\equiv \\sum_\\mu (s_x-s_{x+\\mu})^2\n",
    "$$"
   ]
  },
  {
   "cell_type": "markdown",
   "id": "3c010b49",
   "metadata": {},
   "source": []
  },
  {
   "cell_type": "code",
   "execution_count": null,
   "id": "ccd37457",
   "metadata": {},
   "outputs": [],
   "source": []
  },
  {
   "cell_type": "code",
   "execution_count": null,
   "id": "ec4fa5e8",
   "metadata": {},
   "outputs": [],
   "source": []
  },
  {
   "cell_type": "code",
   "execution_count": null,
   "id": "f7050722",
   "metadata": {},
   "outputs": [],
   "source": []
  },
  {
   "cell_type": "code",
   "execution_count": null,
   "id": "18e89b2c",
   "metadata": {},
   "outputs": [],
   "source": []
  },
  {
   "cell_type": "code",
   "execution_count": null,
   "id": "8ea87140",
   "metadata": {},
   "outputs": [],
   "source": []
  },
  {
   "cell_type": "code",
   "execution_count": null,
   "id": "4981b32f",
   "metadata": {},
   "outputs": [],
   "source": [
    "delta_list=[]"
   ]
  },
  {
   "cell_type": "code",
   "execution_count": null,
   "id": "26928507",
   "metadata": {},
   "outputs": [],
   "source": []
  },
  {
   "cell_type": "code",
   "execution_count": null,
   "id": "7eb70217",
   "metadata": {},
   "outputs": [],
   "source": []
  },
  {
   "cell_type": "code",
   "execution_count": null,
   "id": "52dfc8d4",
   "metadata": {},
   "outputs": [],
   "source": [
    "ell=0\n",
    "\n",
    "y=ft[ell]\n",
    "\n",
    "plt.plot(y, label=\"$\\\\ell=$\"+str(ell))\n",
    "\n",
    "xmin=0\n",
    "xmax=2\n",
    "x=np.arange(xmin, xmax)\n",
    "[a, b], var = sp.optimize.curve_fit( axpb, x, np.log(y[xmin:xmax]) )\n",
    "plt.plot( x, np.exp( axpb(x, a, b) ), label=\"fit\" )\n",
    "\n",
    "plt.legend()\n",
    "plt.xlim(0, 40)\n",
    "plt.ylim(1.0e-6, 1.0)\n",
    "plt.yscale(\"log\")\n",
    "\n",
    "print(-a, b)\n",
    "delta_list.append([ell,-a])"
   ]
  },
  {
   "cell_type": "code",
   "execution_count": null,
   "id": "8d8d64e4",
   "metadata": {},
   "outputs": [],
   "source": [
    "ell=0\n",
    "\n",
    "y=ft[ell]\n",
    "\n",
    "plt.plot(y, label=\"$\\\\ell=$\"+str(ell))\n",
    "\n",
    "xmin=7\n",
    "xmax=20\n",
    "x=np.arange(xmin, xmax)\n",
    "[a, b], var = sp.optimize.curve_fit( axpb, x, np.log(y[xmin:xmax]) )\n",
    "plt.plot( x, np.exp( axpb(x, a, b) ), label=\"fit\" )\n",
    "\n",
    "plt.legend()\n",
    "plt.xlim(0, 40)\n",
    "plt.ylim(1.0e-6, 1.0)\n",
    "plt.yscale(\"log\")\n",
    "\n",
    "print(-a, b)\n",
    "delta_list.append([ell,-a])"
   ]
  },
  {
   "cell_type": "code",
   "execution_count": null,
   "id": "16cdca29",
   "metadata": {},
   "outputs": [],
   "source": [
    "a48_list.T[1]/(np.pi*2.0/48.0)"
   ]
  },
  {
   "cell_type": "code",
   "execution_count": null,
   "id": "7df0fe1d",
   "metadata": {},
   "outputs": [],
   "source": [
    "ell=1\n",
    "\n",
    "y=ft[ell]\n",
    "\n",
    "plt.plot(y, label=\"$\\\\ell=$\"+str(ell))\n",
    "\n",
    "xmin=4\n",
    "xmax=12\n",
    "x=np.arange(xmin, xmax)\n",
    "[a, b], var = sp.optimize.curve_fit( axpb, x, np.log(y[xmin:xmax]) )\n",
    "plt.plot( x, np.exp( axpb(x, a, b) ), label=\"fit\" )\n",
    "\n",
    "plt.legend()\n",
    "plt.xlim(0, 40)\n",
    "plt.ylim(1.0e-6, 1.0)\n",
    "plt.yscale(\"log\")\n",
    "\n",
    "print(-a, b)\n",
    "delta_list.append([ell,-a])"
   ]
  },
  {
   "cell_type": "code",
   "execution_count": null,
   "id": "a8e0381d",
   "metadata": {},
   "outputs": [],
   "source": [
    "ell=2\n",
    "\n",
    "y=ft[ell]\n",
    "\n",
    "plt.plot(y, label=\"$\\\\ell=$\"+str(ell))\n",
    "\n",
    "xmin=4\n",
    "xmax=10\n",
    "x=np.arange(xmin, xmax)\n",
    "[a, b], var = sp.optimize.curve_fit( axpb, x, np.log(y[xmin:xmax]) )\n",
    "plt.plot( x, np.exp( axpb(x, a, b) ), label=\"fit\" )\n",
    "\n",
    "plt.legend()\n",
    "plt.xlim(0, 40)\n",
    "plt.ylim(1.0e-6, 1.0)\n",
    "plt.yscale(\"log\")\n",
    "\n",
    "print(-a, b)\n",
    "delta_list.append([ell,-a])"
   ]
  },
  {
   "cell_type": "code",
   "execution_count": null,
   "id": "1539359e",
   "metadata": {},
   "outputs": [],
   "source": [
    "ell=3\n",
    "\n",
    "y=ft[ell]\n",
    "\n",
    "plt.plot(y, label=\"$\\\\ell=$\"+str(ell))\n",
    "\n",
    "xmin=2\n",
    "xmax=8\n",
    "x=np.arange(xmin, xmax)\n",
    "[a, b], var = sp.optimize.curve_fit( axpb, x, np.log(y[xmin:xmax]) )\n",
    "plt.plot( x, np.exp( axpb(x, a, b) ), label=\"fit\" )\n",
    "\n",
    "plt.legend()\n",
    "plt.xlim(0, 40)\n",
    "plt.ylim(1.0e-6, 1.0)\n",
    "plt.yscale(\"log\")\n",
    "\n",
    "print(-a, b)\n",
    "delta_list.append([ell,-a])"
   ]
  },
  {
   "cell_type": "code",
   "execution_count": null,
   "id": "1b4b81c0",
   "metadata": {},
   "outputs": [],
   "source": [
    "ell=4\n",
    "\n",
    "y=ft[ell]\n",
    "\n",
    "plt.plot(y, label=\"$\\\\ell=$\"+str(ell))\n",
    "\n",
    "xmin=2\n",
    "xmax=5\n",
    "x=np.arange(xmin, xmax)\n",
    "[a, b], var = sp.optimize.curve_fit( axpb, x, np.log(y[xmin:xmax]) )\n",
    "plt.plot( x, np.exp( axpb(x, a, b) ), label=\"fit\" )\n",
    "\n",
    "plt.legend()\n",
    "plt.xlim(0, 40)\n",
    "plt.ylim(1.0e-6, 1.0)\n",
    "plt.yscale(\"log\")\n",
    "\n",
    "print(-a, b)\n",
    "delta_list.append([ell,-a])"
   ]
  },
  {
   "cell_type": "code",
   "execution_count": null,
   "id": "8c8dfdf5",
   "metadata": {},
   "outputs": [],
   "source": [
    "delta_list"
   ]
  },
  {
   "cell_type": "code",
   "execution_count": null,
   "id": "fe8a805e",
   "metadata": {},
   "outputs": [],
   "source": []
  },
  {
   "cell_type": "code",
   "execution_count": null,
   "id": "0295094e",
   "metadata": {},
   "outputs": [],
   "source": [
    "a32_list=np.array(\n",
    "[[0, 0.19395521240150024],\n",
    " [1, 0.4235009274364022],\n",
    " [2, 0.608073640924816],\n",
    " [3, 0.9238354571740328],\n",
    " [4, 1.0874192327676853]]\n",
    ")"
   ]
  },
  {
   "cell_type": "code",
   "execution_count": null,
   "id": "e62dc3d8",
   "metadata": {},
   "outputs": [],
   "source": [
    "a48_list=np.array(\n",
    "[[0, 0.15410954951424244],\n",
    " [1, 0.32503912755985986],\n",
    " [2, 0.47677956179712866],\n",
    " [3, 0.6260486320704013],\n",
    " [4, 0.9170758619156727]]\n",
    ")"
   ]
  },
  {
   "cell_type": "code",
   "execution_count": null,
   "id": "d5a98eac",
   "metadata": {},
   "outputs": [],
   "source": []
  },
  {
   "cell_type": "code",
   "execution_count": null,
   "id": "a5a4b9b1",
   "metadata": {},
   "outputs": [],
   "source": [
    "a32_list.T[1]/(np.pi*2.0/32.0)"
   ]
  },
  {
   "cell_type": "code",
   "execution_count": null,
   "id": "6ef3d213",
   "metadata": {},
   "outputs": [],
   "source": [
    "a48_list.T[1]/(np.pi*2.0/48.0)"
   ]
  },
  {
   "cell_type": "code",
   "execution_count": null,
   "id": "56a0af61",
   "metadata": {},
   "outputs": [],
   "source": []
  },
  {
   "cell_type": "code",
   "execution_count": null,
   "id": "a0698818",
   "metadata": {},
   "outputs": [],
   "source": [
    "plt.plot(a32_list.T[0], a32_list.T[1]/(np.pi*2.0/32.0), label=\"32x256\", marker=\"o\")\n",
    "plt.plot(a48_list.T[0], a48_list.T[1]/(np.pi*2.0/48.0), label=\"48x354\", marker=\"s\")\n",
    "\n",
    "x=np.arange(5)\n",
    "plt.plot(x, x+1.0, ls=\"dashed\", label=\"exact\")\n",
    "\n",
    "plt.xlabel(\"$\\\\ell$\")\n",
    "plt.ylabel(\"$\\\\Delta_\\\\epsilon+\\\\ell$\")\n",
    "\n",
    "plt.legend()\n",
    "\n",
    "plt.savefig(\"epsilon_scaling.eps\", bbox_inches=\"tight\")"
   ]
  },
  {
   "cell_type": "code",
   "execution_count": null,
   "id": "3af24a53",
   "metadata": {},
   "outputs": [],
   "source": []
  },
  {
   "cell_type": "code",
   "execution_count": null,
   "id": "195de1b8",
   "metadata": {},
   "outputs": [],
   "source": []
  },
  {
   "cell_type": "code",
   "execution_count": null,
   "id": "3bc09ca4",
   "metadata": {},
   "outputs": [],
   "source": []
  },
  {
   "cell_type": "code",
   "execution_count": null,
   "id": "5f293972",
   "metadata": {},
   "outputs": [],
   "source": []
  },
  {
   "cell_type": "code",
   "execution_count": null,
   "id": "53c063da",
   "metadata": {},
   "outputs": [],
   "source": []
  },
  {
   "cell_type": "code",
   "execution_count": null,
   "id": "804634af",
   "metadata": {},
   "outputs": [],
   "source": []
  },
  {
   "cell_type": "code",
   "execution_count": null,
   "id": "148eaa04",
   "metadata": {},
   "outputs": [],
   "source": []
  },
  {
   "cell_type": "code",
   "execution_count": null,
   "id": "65c916b3",
   "metadata": {},
   "outputs": [],
   "source": []
  }
 ],
 "metadata": {
  "kernelspec": {
   "display_name": "Python 3 (ipykernel)",
   "language": "python",
   "name": "python3"
  },
  "language_info": {
   "codemirror_mode": {
    "name": "ipython",
    "version": 3
   },
   "file_extension": ".py",
   "mimetype": "text/x-python",
   "name": "python",
   "nbconvert_exporter": "python",
   "pygments_lexer": "ipython3",
   "version": "3.10.12"
  }
 },
 "nbformat": 4,
 "nbformat_minor": 5
}
