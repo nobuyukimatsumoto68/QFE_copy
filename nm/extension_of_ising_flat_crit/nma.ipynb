{
 "cells": [
  {
   "cell_type": "code",
   "execution_count": 1,
   "id": "8a14a82e",
   "metadata": {},
   "outputs": [],
   "source": [
    "import numpy as np\n",
    "import matplotlib.pyplot as plt"
   ]
  },
  {
   "cell_type": "code",
   "execution_count": 2,
   "id": "ccf7342b",
   "metadata": {},
   "outputs": [],
   "source": [
    "class Jackknife:\n",
    "    def __init__( self, len_data, binsize ):\n",
    "        self.binsize = binsize\n",
    "        self.nbins = int(len_data/self.binsize)\n",
    "        self.N = self.binsize * self.nbins\n",
    "        self.jack_avg = []\n",
    "        self.est = 0\n",
    "        self.var_est = 0\n",
    "\n",
    "    def set( self, func, list_of_data ):\n",
    "        for i in range( self.nbins ):\n",
    "            self.jack_avg.append( func( i, self.binsize, list_of_data ) )\n",
    "\n",
    "    def do_it( self ):\n",
    "        for i in range( 0, self.nbins ):\n",
    "            self.est += self.jack_avg[i]\n",
    "        self.est /= self.nbins\n",
    "\n",
    "        for i in range( 0, self.nbins ):\n",
    "            self.var_est += ( self.jack_avg[i] - self.est )**2\n",
    "        self.var_est /= self.nbins\n",
    "        self.var_est *= self.nbins -1\n",
    "\n",
    "    def mean( self ):\n",
    "        return self.est\n",
    "\n",
    "    def var( self ):\n",
    "        return self.var_est\n",
    "\n",
    "    def err( self ):\n",
    "        return np.sqrt(self.var_est)\n",
    "\n",
    "def simple_mean(i, binsize, np_data):\n",
    "    resmpld = np.delete(np_data, np.s_[i*binsize:(i+1)*binsize], axis=0)\n",
    "    return np.mean(resmpld, axis=0)\n",
    "\n",
    "def format_print(cen, err):\n",
    "    for i in range(-50, 50):\n",
    "        if 10**(-i+1)>=err>10**(-i):\n",
    "            tmp=err*10**(i+1)\n",
    "            return '{num:.{width}f}'.format(num=cen, width=i+1)+'('+str(round(tmp))+')'\n",
    "\n",
    "def format_print_w_exact(exact, cen, err):\n",
    "    if np.abs(err)<1.0e-15:\n",
    "        return str(cen)+\" exact:\"+str(exact)\n",
    "    for i in range(-50, 50):\n",
    "        if 10**(-i+1)>=err>10**(-i):\n",
    "            tmp=err*10**(i+1)\n",
    "            return '{num:.{width}f}'.format(num=cen, width=i+1)+'('+str(round(tmp))+')'+' exact:'+'{ex:.{width}f}'.format(ex=exact, width=i+2)+' ['+'{num:.{width}f}'.format(num=abs(exact-cen)/err, width=2)+' sigma]'"
   ]
  },
  {
   "cell_type": "code",
   "execution_count": 3,
   "id": "0595f0a2",
   "metadata": {},
   "outputs": [],
   "source": [
    "def format_print_w_exact_matrix(exact, cen, err):\n",
    "    shape=exact.shape\n",
    "    res=np.full(shape, \"\", dtype=object)\n",
    "\n",
    "    for i in np.arange(shape[0]):\n",
    "        for j in np.arange(shape[1]):\n",
    "            res[i,j]=format_print_w_exact(exact[i,j], cen[i,j], err[i,j])\n",
    "            \n",
    "    return np.array(res)"
   ]
  },
  {
   "cell_type": "code",
   "execution_count": null,
   "id": "423f9b45",
   "metadata": {},
   "outputs": [],
   "source": []
  },
  {
   "cell_type": "code",
   "execution_count": 4,
   "id": "2cad631a",
   "metadata": {},
   "outputs": [],
   "source": [
    "beta=0.274653\n",
    "h=0.\n",
    "\n",
    "# kx=1.2\n",
    "# ky=1.5\n",
    "# kz=0.3\n",
    "\n",
    "kx=1.0\n",
    "ky=1.0\n",
    "kz=1.0"
   ]
  },
  {
   "cell_type": "code",
   "execution_count": null,
   "id": "9e310733",
   "metadata": {},
   "outputs": [],
   "source": []
  },
  {
   "cell_type": "code",
   "execution_count": 5,
   "id": "edf93a6f",
   "metadata": {},
   "outputs": [],
   "source": [
    "# nin=60*100\n",
    "# nfin=180000\n",
    "# nint=60\n",
    "# binsize=1"
   ]
  },
  {
   "cell_type": "code",
   "execution_count": 6,
   "id": "936b04ad",
   "metadata": {},
   "outputs": [],
   "source": [
    "dir_comp = \"/Users/nobuyukimatsumoto/github/QuantumGeometry/sandbox/nm/obs/\"\n",
    "dir_comp_wolff = \"/Users/nobuyukimatsumoto/github/QuantumGeometry/sandbox/nm/obs_wolff_only/\""
   ]
  },
  {
   "cell_type": "code",
   "execution_count": 7,
   "id": "b131084b",
   "metadata": {},
   "outputs": [],
   "source": [
    "# mag_=[]\n",
    "\n",
    "# for n in range(nin,nfin,nint):\n",
    "#     dat=np.loadtxt(dir_comp+\"mag/\"+str(n)+\".dat\")\n",
    "#     mag_.append(dat)\n",
    "    \n",
    "# mag=np.array(mag_)"
   ]
  },
  {
   "cell_type": "code",
   "execution_count": 8,
   "id": "feebc03d",
   "metadata": {},
   "outputs": [],
   "source": [
    "# jk_mag = Jackknife(mag.size, binsize)\n",
    "# jk_mag.set(simple_mean, mag)\n",
    "# jk_mag.do_it()"
   ]
  },
  {
   "cell_type": "code",
   "execution_count": 9,
   "id": "336890e7",
   "metadata": {},
   "outputs": [],
   "source": [
    "# print(\"mag_per_site\")\n",
    "# format_print_w_exact(0.0, jk_mag.mean(), jk_mag.err())"
   ]
  },
  {
   "cell_type": "code",
   "execution_count": 10,
   "id": "22b1ea8b",
   "metadata": {},
   "outputs": [],
   "source": [
    "# jk_mag.mean()"
   ]
  },
  {
   "cell_type": "code",
   "execution_count": 11,
   "id": "4da7d61c",
   "metadata": {},
   "outputs": [],
   "source": [
    "# delta=1.0e-3\n",
    "# h=1.0\n",
    "\n",
    "# print(\"mag\")\n",
    "# numeric=(np.log(Z3x3_numeric(beta, h+delta, kx,ky,kz))-np.log(Z3x3_numeric(beta, h-delta, kx,ky,kz)))/(2.0*delta)/9.0\n",
    "# exact=mag_per_site3x3_numeric(beta,h, kx,ky,kz)\n",
    "# print(format_print_w_exact(exact, numeric, delta**2))"
   ]
  },
  {
   "cell_type": "code",
   "execution_count": 12,
   "id": "83d3feec",
   "metadata": {},
   "outputs": [],
   "source": [
    "h=0.0"
   ]
  },
  {
   "cell_type": "code",
   "execution_count": null,
   "id": "7f29814f",
   "metadata": {},
   "outputs": [],
   "source": []
  },
  {
   "cell_type": "code",
   "execution_count": null,
   "id": "7584b710",
   "metadata": {},
   "outputs": [],
   "source": []
  },
  {
   "cell_type": "code",
   "execution_count": 13,
   "id": "2098b66c",
   "metadata": {},
   "outputs": [],
   "source": [
    "# np.mean(mag**2/32)"
   ]
  },
  {
   "cell_type": "code",
   "execution_count": 14,
   "id": "1ecaa049",
   "metadata": {},
   "outputs": [],
   "source": [
    "# jk_magsq = Jackknife(mag.size, binsize)\n",
    "# jk_magsq.set(simple_mean, mag**2/32)\n",
    "# jk_magsq.do_it()"
   ]
  },
  {
   "cell_type": "code",
   "execution_count": 15,
   "id": "e6ccdcca",
   "metadata": {},
   "outputs": [],
   "source": [
    "# print(\"susc\")\n",
    "# numeric=(mag_per_site3x3_numeric(beta,h+delta, kx,ky,kz)-mag_per_site3x3_numeric(beta,h-delta, kx,ky,kz))/(2.0*delta)\n",
    "# format_print(numeric, jk_magsq.mean(), jk_magsq.err())"
   ]
  },
  {
   "cell_type": "code",
   "execution_count": 16,
   "id": "a4f1020e",
   "metadata": {},
   "outputs": [],
   "source": [
    "# print(\"susc\")\n",
    "# format_print(jk_magsq.mean(), jk_magsq.err())"
   ]
  },
  {
   "cell_type": "code",
   "execution_count": 17,
   "id": "eb679e32",
   "metadata": {},
   "outputs": [],
   "source": [
    "# jk_magsq.mean()"
   ]
  },
  {
   "cell_type": "code",
   "execution_count": null,
   "id": "820c1ae4",
   "metadata": {},
   "outputs": [],
   "source": []
  },
  {
   "cell_type": "code",
   "execution_count": 18,
   "id": "b1d59750",
   "metadata": {},
   "outputs": [],
   "source": [
    "# delta=1.0e-3\n",
    "# print(\"mag\")\n",
    "# numeric=-(np.log(Z2x2(beta, h+delta, kx,ky,kz))-np.log(Z2x2(beta, h-delta, kx,ky,kz)))/(2.0*delta)/4.0\n",
    "# exact=mag_per_site2x2(beta,h, kx,ky,kz)\n",
    "# print(format_print_w_exact(exact, numeric, delta**2))\n",
    "# print(\"susc\")\n",
    "# numeric=-(mag_per_site2x2(beta,h+delta, kx,ky,kz)-mag_per_site2x2(beta,h-delta, kx,ky,kz))/(2.0*delta)\n",
    "# exact=susc2x2(beta,h, kx,ky,kz)\n",
    "# print(format_print_w_exact(exact, numeric, delta**2))"
   ]
  },
  {
   "cell_type": "code",
   "execution_count": null,
   "id": "7546199a",
   "metadata": {},
   "outputs": [],
   "source": []
  },
  {
   "cell_type": "code",
   "execution_count": 19,
   "id": "3a0340ad",
   "metadata": {},
   "outputs": [],
   "source": [
    "lx=64\n",
    "lx_half=int(lx/2)\n",
    "\n",
    "nint=60\n",
    "nin=nint*100\n",
    "nfin=nin+1600*nint"
   ]
  },
  {
   "cell_type": "code",
   "execution_count": 20,
   "id": "4d427fdb",
   "metadata": {},
   "outputs": [],
   "source": [
    "ss_=[]\n",
    "\n",
    "for n in range(nin,nfin,nint):\n",
    "    dat=np.loadtxt(dir_comp_wolff+\"ss/\"+str(n)+\".dat\")\n",
    "    ss_.append(dat)\n",
    "    \n",
    "ss=np.array(ss_)"
   ]
  },
  {
   "cell_type": "code",
   "execution_count": 21,
   "id": "e248cbc6",
   "metadata": {},
   "outputs": [
    {
     "data": {
      "text/plain": [
       "(1600, 64, 64)"
      ]
     },
     "execution_count": 21,
     "metadata": {},
     "output_type": "execute_result"
    }
   ],
   "source": [
    "ss.shape"
   ]
  },
  {
   "cell_type": "code",
   "execution_count": 22,
   "id": "ee73dd45",
   "metadata": {},
   "outputs": [
    {
     "name": "stderr",
     "output_type": "stream",
     "text": [
      "/opt/anaconda3/lib/python3.9/site-packages/numpy/core/fromnumeric.py:3464: RuntimeWarning: Mean of empty slice.\n",
      "  return _methods._mean(a, axis=axis, dtype=dtype,\n",
      "/opt/anaconda3/lib/python3.9/site-packages/numpy/core/_methods.py:184: RuntimeWarning: invalid value encountered in divide\n",
      "  ret = um.true_divide(\n"
     ]
    }
   ],
   "source": [
    "# binsize=400\n",
    "# corr_xs = [np.mean(ss[i*binsize:(i+1)*binsize], axis=0)[0] for i in range(10)]\n",
    "binsize=200\n",
    "corr_xs = [np.mean(ss[i*binsize:(i+1)*binsize], axis=0)[0] for i in range(20)]"
   ]
  },
  {
   "cell_type": "code",
   "execution_count": 23,
   "id": "3c77714c",
   "metadata": {},
   "outputs": [],
   "source": [
    "jk_ss = Jackknife(ss.size, binsize)\n",
    "jk_ss.set(simple_mean, ss)\n",
    "jk_ss.do_it()"
   ]
  },
  {
   "cell_type": "code",
   "execution_count": 24,
   "id": "5ee79f5a",
   "metadata": {},
   "outputs": [
    {
     "data": {
      "text/plain": [
       "(1600, 64, 64)"
      ]
     },
     "execution_count": 24,
     "metadata": {},
     "output_type": "execute_result"
    }
   ],
   "source": [
    "ss.shape"
   ]
  },
  {
   "cell_type": "code",
   "execution_count": 25,
   "id": "ebeda0da",
   "metadata": {},
   "outputs": [
    {
     "data": {
      "text/plain": [
       "510.0"
      ]
     },
     "execution_count": 25,
     "metadata": {},
     "output_type": "execute_result"
    }
   ],
   "source": [
    "nfin/binsize"
   ]
  },
  {
   "cell_type": "code",
   "execution_count": null,
   "id": "e9590f6b",
   "metadata": {},
   "outputs": [],
   "source": []
  },
  {
   "cell_type": "code",
   "execution_count": 26,
   "id": "52acb9d5",
   "metadata": {},
   "outputs": [
    {
     "data": {
      "image/png": "[encoded data removed]",
      "text/plain": [
       "<Figure size 432x288 with 1 Axes>"
      ]
     },
     "metadata": {
      "needs_background": "light"
     },
     "output_type": "display_data"
    }
   ],
   "source": [
    "plt.plot(corr_xs[0][:lx_half], alpha=1.0, label=\"0 to 200\")\n",
    "plt.plot(corr_xs[1][:lx_half], alpha=1.0, label=\"200 to 400\")\n",
    "plt.plot(corr_xs[2][:lx_half], alpha=1.0, label=\"400 to 600\")\n",
    "plt.plot(corr_xs[3][:lx_half], alpha=1.0, label=\"600 to 800\")\n",
    "plt.plot(corr_xs[4][:lx_half], alpha=1.0, label=\"800 to 1000\")\n",
    "plt.plot(corr_xs[5][:lx_half], alpha=1.0, label=\"1000 to 1200\")\n",
    "plt.plot(corr_xs[6][:lx_half], alpha=1.0, label=\"1200 to 1400\")\n",
    "plt.plot(corr_xs[7][:lx_half], alpha=1.0, label=\"1400 to 1600\")\n",
    "\n",
    "plt.errorbar(np.arange(lx_half), \n",
    "             jk_ss.mean()[0][:lx_half], \n",
    "             jk_ss.err()[0][:lx_half],\n",
    "             label=\"mean all (error: jackknife)\",\n",
    "             marker=\"s\",\n",
    "             alpha=0.4)\n",
    "\n",
    "plt.title(\"60 Wolff updates per measurement; no heatbath\")\n",
    "\n",
    "plt.legend()\n",
    "\n",
    "plt.ylim(0.3, 0.8)\n",
    "plt.xscale(\"log\")\n",
    "plt.yscale(\"log\")\n",
    "plt.legend()\n",
    "\n",
    "plt.xlabel(\"$x$\")\n",
    "plt.ylabel(\"$\\\\langle s_0 s_{x,y=0} \\\\rangle$\")\n",
    "\n",
    "plt.savefig(\"autocorrelation_newcode_wolffonly.png\", bbox_inches=\"tight\")"
   ]
  },
  {
   "cell_type": "code",
   "execution_count": null,
   "id": "5be09957",
   "metadata": {},
   "outputs": [],
   "source": []
  },
  {
   "cell_type": "code",
   "execution_count": 27,
   "id": "cee1bee2",
   "metadata": {},
   "outputs": [
    {
     "data": {
      "image/png": "[encoded data removed]",
      "text/plain": [
       "<Figure size 432x288 with 1 Axes>"
      ]
     },
     "metadata": {
      "needs_background": "light"
     },
     "output_type": "display_data"
    }
   ],
   "source": [
    "plt.plot(corr_xs[0][:lx_half], alpha=1.0, label=\"0 to 200\")\n",
    "plt.plot(corr_xs[1][:lx_half], alpha=1.0, label=\"200 to 400\")\n",
    "plt.plot(corr_xs[2][:lx_half], alpha=1.0, label=\"400 to 600\")\n",
    "plt.plot(corr_xs[3][:lx_half], alpha=1.0, label=\"600 to 800\")\n",
    "plt.plot(corr_xs[4][:lx_half], alpha=1.0, label=\"800 to 1000\")\n",
    "plt.plot(corr_xs[5][:lx_half], alpha=1.0, label=\"1000 to 1200\")\n",
    "plt.plot(corr_xs[6][:lx_half], alpha=1.0, label=\"1200 to 1400\")\n",
    "plt.plot(corr_xs[7][:lx_half], alpha=1.0, label=\"1400 to 1600\")\n",
    "\n",
    "plt.errorbar(np.arange(lx_half), \n",
    "             jk_ss.mean()[0][:lx_half], \n",
    "             jk_ss.err()[0][:lx_half],\n",
    "             label=\"mean all (error: jackknife)\",\n",
    "             marker=\"s\",\n",
    "             alpha=0.4)\n",
    "\n",
    "plt.title(\"(1 Wolff + 2 HeatBath)*60 updates per measurement\")\n",
    "\n",
    "plt.legend()\n",
    "\n",
    "plt.ylim(0.3, 0.8)\n",
    "plt.xscale(\"log\")\n",
    "plt.yscale(\"log\")\n",
    "plt.legend()\n",
    "\n",
    "plt.xlabel(\"$x$\")\n",
    "plt.ylabel(\"$\\\\langle s_0 s_{x,y=0} \\\\rangle$\")\n",
    "\n",
    "plt.savefig(\"autocorrelation_newcode_wolffandheatbath.png\", bbox_inches=\"tight\")"
   ]
  },
  {
   "cell_type": "code",
   "execution_count": null,
   "id": "6e7c8543",
   "metadata": {},
   "outputs": [],
   "source": []
  },
  {
   "cell_type": "code",
   "execution_count": null,
   "id": "5b20323e",
   "metadata": {},
   "outputs": [],
   "source": []
  },
  {
   "cell_type": "code",
   "execution_count": null,
   "id": "6ef67998",
   "metadata": {},
   "outputs": [],
   "source": []
  },
  {
   "cell_type": "code",
   "execution_count": null,
   "id": "869df11f",
   "metadata": {},
   "outputs": [],
   "source": []
  },
  {
   "cell_type": "code",
   "execution_count": 28,
   "id": "283270c2",
   "metadata": {},
   "outputs": [],
   "source": [
    "evan_x_direct=\"/Users/nobuyukimatsumoto/github/newQFE/nm/ising_flat_crit/64_1.000_1.000_1.000_corr_x_direct.dat\"\n",
    "evan_x_improved=\"/Users/nobuyukimatsumoto/github/newQFE/nm/ising_flat_crit/64_1.000_1.000_1.000_corr_x.dat\""
   ]
  },
  {
   "cell_type": "code",
   "execution_count": 47,
   "id": "33e64709",
   "metadata": {},
   "outputs": [
    {
     "data": {
      "image/png": "[encoded data removed]",
      "text/plain": [
       "<Figure size 432x288 with 1 Axes>"
      ]
     },
     "metadata": {
      "needs_background": "light"
     },
     "output_type": "display_data"
    }
   ],
   "source": [
    "dat_x_direct=np.loadtxt(evan_x_direct)\n",
    "dat_x_improved=np.loadtxt(evan_x_improved)\n",
    "\n",
    "plt.errorbar(np.arange(lx_half), \n",
    "             jk_ss.mean()[0][:lx_half], \n",
    "             jk_ss.err()[0][:lx_half],\n",
    "            label=\"new code\",\n",
    "             marker=\"s\",\n",
    "            alpha=1.0)\n",
    "\n",
    "plt.errorbar(dat_x_direct.T[1], \n",
    "             dat_x_direct.T[2], \n",
    "             dat_x_direct.T[3],\n",
    "            label=\"evan_directly_ss\",\n",
    "             marker=\"o\",\n",
    "            alpha=1.0)\n",
    "\n",
    "plt.errorbar(dat_x_improved.T[1], \n",
    "             dat_x_improved.T[2], \n",
    "             dat_x_improved.T[3],\n",
    "            label=\"evan_from_cluster\",\n",
    "             marker=\"x\",\n",
    "            alpha=1.0)\n",
    "\n",
    "plt.ylim(0.33, 0.7)\n",
    "plt.xscale(\"log\")\n",
    "plt.yscale(\"log\")\n",
    "plt.legend()\n",
    "\n",
    "plt.xlabel(\"$x$\")\n",
    "plt.ylabel(\"$\\\\langle s_0 s_{x,y=0} \\\\rangle$\")\n",
    "\n",
    "plt.savefig(\"comparison.png\", bbox_inches=\"tight\")"
   ]
  },
  {
   "cell_type": "code",
   "execution_count": null,
   "id": "ad5dfa2a",
   "metadata": {},
   "outputs": [],
   "source": []
  },
  {
   "cell_type": "code",
   "execution_count": 30,
   "id": "7ff1118f",
   "metadata": {},
   "outputs": [],
   "source": [
    "evan_y_direct=\"/Users/nobuyukimatsumoto/github/newQFE/nm/ising_flat_crit/64_1.000_1.000_1.000_corr_y_direct.dat\"\n",
    "evan_y_improved=\"/Users/nobuyukimatsumoto/github/newQFE/nm/ising_flat_crit/64_1.000_1.000_1.000_corr_y.dat\"\n",
    "evan_w_direct=\"/Users/nobuyukimatsumoto/github/newQFE/nm/ising_flat_crit/64_1.000_1.000_1.000_corr_w_direct.dat\"\n",
    "evan_w_improved=\"/Users/nobuyukimatsumoto/github/newQFE/nm/ising_flat_crit/64_1.000_1.000_1.000_corr_w.dat\"\n",
    "evan_z_direct=\"/Users/nobuyukimatsumoto/github/newQFE/nm/ising_flat_crit/64_1.000_1.000_1.000_corr_z_direct.dat\"\n",
    "evan_z_improved=\"/Users/nobuyukimatsumoto/github/newQFE/nm/ising_flat_crit/64_1.000_1.000_1.000_corr_z.dat\""
   ]
  },
  {
   "cell_type": "code",
   "execution_count": null,
   "id": "7364adbd",
   "metadata": {},
   "outputs": [],
   "source": []
  },
  {
   "cell_type": "code",
   "execution_count": 31,
   "id": "bc491336",
   "metadata": {},
   "outputs": [],
   "source": [
    "dat_y_direct=np.loadtxt(evan_y_direct)\n",
    "dat_w_direct=np.loadtxt(evan_w_direct)\n",
    "dat_z_direct=np.loadtxt(evan_z_direct)"
   ]
  },
  {
   "cell_type": "code",
   "execution_count": 32,
   "id": "ecd83c80",
   "metadata": {},
   "outputs": [],
   "source": [
    "dat_y_improved=np.loadtxt(evan_y_improved)\n",
    "dat_w_improved=np.loadtxt(evan_w_improved)\n",
    "dat_z_improved=np.loadtxt(evan_z_improved)"
   ]
  },
  {
   "cell_type": "code",
   "execution_count": null,
   "id": "970b5a84",
   "metadata": {},
   "outputs": [],
   "source": []
  },
  {
   "cell_type": "code",
   "execution_count": 33,
   "id": "392e4fab",
   "metadata": {},
   "outputs": [],
   "source": [
    "evan_all_direct=\"/Users/nobuyukimatsumoto/github/newQFE/nm/ising_flat_crit/64_1.000_1.000_1.000_corr_all_direct.dat\""
   ]
  },
  {
   "cell_type": "code",
   "execution_count": 34,
   "id": "5dde6ab6",
   "metadata": {},
   "outputs": [],
   "source": [
    "dat_all_direct=np.loadtxt(evan_all_direct)"
   ]
  },
  {
   "cell_type": "code",
   "execution_count": 35,
   "id": "8954de29",
   "metadata": {},
   "outputs": [],
   "source": [
    "ss_mean_evan = dat_all_direct.T[4].reshape(lx,lx)\n",
    "ss_err_evan = dat_all_direct.T[5].reshape(lx,lx)"
   ]
  },
  {
   "cell_type": "code",
   "execution_count": 36,
   "id": "1a22c28b",
   "metadata": {},
   "outputs": [
    {
     "data": {
      "text/plain": [
       "<matplotlib.image.AxesImage at 0x7fc722315280>"
      ]
     },
     "execution_count": 36,
     "metadata": {},
     "output_type": "execute_result"
    },
    {
     "data": {
      "image/png": "[encoded data removed]",
      "text/plain": [
       "<Figure size 288x288 with 1 Axes>"
      ]
     },
     "metadata": {
      "needs_background": "light"
     },
     "output_type": "display_data"
    }
   ],
   "source": [
    "plt.matshow(np.log10(jk_ss.mean()))"
   ]
  },
  {
   "cell_type": "code",
   "execution_count": 37,
   "id": "9d890516",
   "metadata": {},
   "outputs": [
    {
     "data": {
      "text/plain": [
       "<matplotlib.image.AxesImage at 0x7fc7010a67c0>"
      ]
     },
     "execution_count": 37,
     "metadata": {},
     "output_type": "execute_result"
    },
    {
     "data": {
      "image/png": "[encoded data removed]",
      "text/plain": [
       "<Figure size 288x288 with 1 Axes>"
      ]
     },
     "metadata": {
      "needs_background": "light"
     },
     "output_type": "display_data"
    }
   ],
   "source": [
    "plt.matshow(np.log10(ss_mean_evan))"
   ]
  },
  {
   "cell_type": "code",
   "execution_count": 38,
   "id": "aa26958a",
   "metadata": {},
   "outputs": [],
   "source": [
    "ss_ww_mean_evan = [ss_mean_evan[(i+lx)%lx][(-i+lx)%lx] for i in range(lx)]\n",
    "ss_ww_err_evan = [ss_err_evan[(i+lx)%lx][(-i+lx)%lx] for i in range(lx)]\n",
    "\n",
    "ss_zz_mean_evan = [ss_mean_evan[(i+lx)%lx][(i+lx)%lx] for i in range(lx)]\n",
    "ss_zz_err_evan = [ss_err_evan[(i+lx)%lx][(i+lx)%lx] for i in range(lx)]"
   ]
  },
  {
   "cell_type": "code",
   "execution_count": 39,
   "id": "64dfdd1d",
   "metadata": {},
   "outputs": [
    {
     "data": {
      "text/plain": [
       "<ErrorbarContainer object of 3 artists>"
      ]
     },
     "execution_count": 39,
     "metadata": {},
     "output_type": "execute_result"
    },
    {
     "data": {
      "image/png": "[encoded data removed]",
      "text/plain": [
       "<Figure size 432x288 with 1 Axes>"
      ]
     },
     "metadata": {
      "needs_background": "light"
     },
     "output_type": "display_data"
    }
   ],
   "source": [
    "plt.errorbar(\n",
    "    np.arange(lx_half),\n",
    "    ss_ww_mean_evan[:lx_half],\n",
    "    ss_ww_err_evan[:lx_half],\n",
    "    label=\"ss_ww_evan from all\"\n",
    ")"
   ]
  },
  {
   "cell_type": "code",
   "execution_count": 40,
   "id": "17d8a9d1",
   "metadata": {},
   "outputs": [
    {
     "data": {
      "text/plain": [
       "array([ 0.,  1.,  2.,  3.,  4.,  5.,  6.,  7.,  8.,  9., 10., 11., 12.,\n",
       "       13., 14., 15., 16., 17., 18., 19., 20., 21., 22., 23., 24., 25.,\n",
       "       26., 27., 28., 29., 30., 31., 32., 33., 34., 35., 36., 37., 38.,\n",
       "       39., 40., 41., 42., 43., 44., 45., 46., 47., 48., 49., 50., 51.,\n",
       "       52., 53., 54., 55., 56., 57., 58., 59., 60., 61., 62., 63.])"
      ]
     },
     "execution_count": 40,
     "metadata": {},
     "output_type": "execute_result"
    }
   ],
   "source": [
    "dat_w_direct.T[1][:lx:]"
   ]
  },
  {
   "cell_type": "code",
   "execution_count": 41,
   "id": "0d6a22e6",
   "metadata": {},
   "outputs": [],
   "source": [
    "# plt.errorbar(dat_z_direct.T[1][:lx:], \n",
    "#              dat_z_direct.T[2][:lx:], \n",
    "#              dat_z_direct.T[3][:lx:],\n",
    "#              label=\"evan_w_direct\",\n",
    "#              marker=\"o\",\n",
    "#              alpha=1.0)"
   ]
  },
  {
   "cell_type": "code",
   "execution_count": 48,
   "id": "c15cd427",
   "metadata": {},
   "outputs": [
    {
     "data": {
      "image/png": "[encoded data removed]",
      "text/plain": [
       "<Figure size 432x288 with 1 Axes>"
      ]
     },
     "metadata": {
      "needs_background": "light"
     },
     "output_type": "display_data"
    }
   ],
   "source": [
    "plt.errorbar(\n",
    "    np.arange(lx_half),\n",
    "    ss_ww_mean_evan[:lx_half],\n",
    "    ss_ww_err_evan[:lx_half],\n",
    "    label=\"ss_ww_evan from all\"\n",
    ")\n",
    "\n",
    "plt.errorbar(\n",
    "    np.arange(lx_half),\n",
    "    ss_zz_mean_evan[:lx_half],\n",
    "    ss_zz_err_evan[:lx_half],\n",
    "    label=\"ss_zz_evan from all\"\n",
    ")\n",
    "\n",
    "plt.errorbar(np.arange(lx_half), \n",
    "             dat_w_direct.T[2][:lx:2], \n",
    "             dat_w_direct.T[3][:lx:2],\n",
    "             label=\"evan_w_direct\",\n",
    "             marker=\"o\",\n",
    "             alpha=0.5)\n",
    "\n",
    "plt.errorbar(np.arange(lx_half), \n",
    "             dat_z_direct.T[2][:lx:2], \n",
    "             dat_z_direct.T[3][:lx:2],\n",
    "             label=\"evan_z_direct\",\n",
    "             marker=\"o\",\n",
    "             alpha=0.5)\n",
    "\n",
    "# plt.errorbar(np.arange(lx_half), \n",
    "#              jk_ss.mean()[0][:lx_half], \n",
    "#              jk_ss.err()[0][:lx_half],\n",
    "#              label=\"new code_x\",\n",
    "#              ls=\"dashed\",\n",
    "#              marker=\"s\",\n",
    "#              alpha=0.2)\n",
    "\n",
    "# plt.errorbar(np.arange(lx_half),\n",
    "#              jk_ss.mean().diagonal()[:lx_half],\n",
    "#              jk_ss.err().diagonal()[:lx_half],\n",
    "#              label=\"new code_diag\",\n",
    "#              ls=\"dashed\",\n",
    "#              marker=\"s\",\n",
    "#              alpha=0.2)\n",
    "\n",
    "plt.ylim(0.33, 0.7)\n",
    "plt.xscale(\"log\")\n",
    "plt.yscale(\"log\")\n",
    "plt.legend()\n",
    "\n",
    "plt.xlabel(\"$x$\")\n",
    "plt.ylabel(\"$\\\\langle s_0 s_{x,y=0} \\\\rangle$\")\n",
    "\n",
    "plt.savefig(\"comparison_debugging.png\", bbox_inches=\"tight\")"
   ]
  },
  {
   "cell_type": "code",
   "execution_count": null,
   "id": "51291b38",
   "metadata": {},
   "outputs": [],
   "source": []
  },
  {
   "cell_type": "code",
   "execution_count": null,
   "id": "7623f0ff",
   "metadata": {},
   "outputs": [],
   "source": []
  },
  {
   "cell_type": "code",
   "execution_count": null,
   "id": "f0760ec0",
   "metadata": {},
   "outputs": [],
   "source": []
  },
  {
   "cell_type": "code",
   "execution_count": null,
   "id": "169455eb",
   "metadata": {},
   "outputs": [],
   "source": []
  },
  {
   "cell_type": "code",
   "execution_count": null,
   "id": "aeaa6718",
   "metadata": {},
   "outputs": [],
   "source": []
  },
  {
   "cell_type": "code",
   "execution_count": null,
   "id": "040a9a4b",
   "metadata": {},
   "outputs": [],
   "source": []
  },
  {
   "cell_type": "code",
   "execution_count": null,
   "id": "8ae53ce2",
   "metadata": {},
   "outputs": [],
   "source": []
  },
  {
   "cell_type": "code",
   "execution_count": null,
   "id": "92d7d870",
   "metadata": {},
   "outputs": [],
   "source": []
  },
  {
   "cell_type": "code",
   "execution_count": null,
   "id": "3f047bff",
   "metadata": {},
   "outputs": [],
   "source": []
  },
  {
   "cell_type": "code",
   "execution_count": null,
   "id": "469e4444",
   "metadata": {},
   "outputs": [],
   "source": []
  },
  {
   "cell_type": "code",
   "execution_count": null,
   "id": "481a8e40",
   "metadata": {},
   "outputs": [],
   "source": []
  },
  {
   "cell_type": "code",
   "execution_count": null,
   "id": "23e4e0b4",
   "metadata": {},
   "outputs": [],
   "source": []
  },
  {
   "cell_type": "code",
   "execution_count": null,
   "id": "159aa3d1",
   "metadata": {},
   "outputs": [],
   "source": []
  },
  {
   "cell_type": "code",
   "execution_count": null,
   "id": "a1911de7",
   "metadata": {},
   "outputs": [],
   "source": []
  },
  {
   "cell_type": "code",
   "execution_count": null,
   "id": "aa68215c",
   "metadata": {},
   "outputs": [],
   "source": []
  },
  {
   "cell_type": "code",
   "execution_count": null,
   "id": "b2c9727b",
   "metadata": {},
   "outputs": [],
   "source": []
  },
  {
   "cell_type": "code",
   "execution_count": null,
   "id": "e45606e3",
   "metadata": {},
   "outputs": [],
   "source": []
  },
  {
   "cell_type": "code",
   "execution_count": null,
   "id": "2af7df7f",
   "metadata": {},
   "outputs": [],
   "source": []
  },
  {
   "cell_type": "code",
   "execution_count": 43,
   "id": "504e5fb4",
   "metadata": {},
   "outputs": [
    {
     "data": {
      "text/plain": [
       "array([1.        , 0.67245361, 0.57168762, 0.52110779, 0.48916199,\n",
       "       0.46632263, 0.44878174, 0.4352417 , 0.42448242, 0.41526611,\n",
       "       0.40745728, 0.40090454, 0.39543579, 0.39064209, 0.38694885,\n",
       "       0.38343567, 0.3800769 , 0.37703613, 0.37444092, 0.37222168,\n",
       "       0.37058472, 0.36880737, 0.3670697 , 0.36547852, 0.36424438,\n",
       "       0.36301331, 0.36208252, 0.36109436, 0.36040405, 0.36002441,\n",
       "       0.35945374, 0.35949768, 0.35961243, 0.35949768, 0.35945374,\n",
       "       0.36002441, 0.36040405, 0.36109436, 0.36208252, 0.36301331,\n",
       "       0.36424438, 0.36547852, 0.3670697 , 0.36880737, 0.37058472,\n",
       "       0.37222168, 0.37444092, 0.37703613, 0.3800769 , 0.38343567,\n",
       "       0.38694885, 0.39064209, 0.39543579, 0.40090454, 0.40745728,\n",
       "       0.41526611, 0.42448242, 0.4352417 , 0.44878174, 0.46632263,\n",
       "       0.48916199, 0.52110779, 0.57168762, 0.67245361])"
      ]
     },
     "execution_count": 43,
     "metadata": {},
     "output_type": "execute_result"
    }
   ],
   "source": [
    "jk_ss.mean().diagonal()"
   ]
  },
  {
   "cell_type": "code",
   "execution_count": 44,
   "id": "fec7d15b",
   "metadata": {},
   "outputs": [
    {
     "data": {
      "text/plain": [
       "<ErrorbarContainer object of 3 artists>"
      ]
     },
     "execution_count": 44,
     "metadata": {},
     "output_type": "execute_result"
    },
    {
     "data": {
      "image/png": "[encoded data removed]",
      "text/plain": [
       "<Figure size 432x288 with 1 Axes>"
      ]
     },
     "metadata": {
      "needs_background": "light"
     },
     "output_type": "display_data"
    }
   ],
   "source": [
    "plt.errorbar(dat_w_direct.T[1][::2], \n",
    "             dat_w_direct.T[2][::2], \n",
    "             dat_w_direct.T[3][::2],\n",
    "            label=\"evan_w_direct\",\n",
    "             marker=\"o\",\n",
    "            alpha=1.0)"
   ]
  },
  {
   "cell_type": "code",
   "execution_count": 45,
   "id": "214d6412",
   "metadata": {},
   "outputs": [
    {
     "data": {
      "image/png": "[encoded data removed]",
      "text/plain": [
       "<Figure size 432x288 with 1 Axes>"
      ]
     },
     "metadata": {
      "needs_background": "light"
     },
     "output_type": "display_data"
    }
   ],
   "source": [
    "plt.errorbar(np.arange(lx_half), \n",
    "             dat_w_direct.T[2][:lx_half:], \n",
    "             dat_w_direct.T[3][:lx_half:],\n",
    "            label=\"evan_w_direct\",\n",
    "             marker=\"o\",\n",
    "            alpha=1.0)\n",
    "\n",
    "plt.errorbar(np.arange(lx_half), \n",
    "             dat_w_improved.T[2][:lx_half:], \n",
    "             dat_w_improved.T[3][:lx_half:],\n",
    "            label=\"evan_w_improved\",\n",
    "             marker=\"o\",\n",
    "            alpha=1.0)\n",
    "\n",
    "plt.errorbar(np.arange(lx_half), \n",
    "             jk_ss.mean().diagonal()[:lx_half], \n",
    "             jk_ss.err().diagonal()[:lx_half],\n",
    "            label=\"new code_diag\",\n",
    "             marker=\"s\",\n",
    "            alpha=1.0)\n",
    "\n",
    "plt.errorbar(np.arange(lx_half), \n",
    "             jk_ss.mean()[0][:lx_half], \n",
    "             jk_ss.err()[0][:lx_half],\n",
    "            label=\"new code_x\",\n",
    "             marker=\"s\",\n",
    "            alpha=1.0)\n",
    "\n",
    "plt.legend()\n",
    "\n",
    "plt.savefig(\"debug_ww.png\", bbox_inches=\"tight\")"
   ]
  },
  {
   "cell_type": "code",
   "execution_count": 46,
   "id": "b6c59f64",
   "metadata": {},
   "outputs": [
    {
     "ename": "ValueError",
     "evalue": "operands could not be broadcast together with shapes (32,) (33,) ",
     "output_type": "error",
     "traceback": [
      "\u001b[0;31m---------------------------------------------------------------------------\u001b[0m",
      "\u001b[0;31mValueError\u001b[0m                                Traceback (most recent call last)",
      "Input \u001b[0;32mIn [46]\u001b[0m, in \u001b[0;36m<cell line: 1>\u001b[0;34m()\u001b[0m\n\u001b[0;32m----> 1\u001b[0m \u001b[43mjk_ss\u001b[49m\u001b[38;5;241;43m.\u001b[39;49m\u001b[43mmean\u001b[49m\u001b[43m(\u001b[49m\u001b[43m)\u001b[49m\u001b[38;5;241;43m.\u001b[39;49m\u001b[43mdiagonal\u001b[49m\u001b[43m(\u001b[49m\u001b[43m)\u001b[49m\u001b[43m[\u001b[49m\u001b[43m:\u001b[49m\u001b[43mlx_half\u001b[49m\u001b[43m]\u001b[49m\u001b[38;5;241;43m/\u001b[39;49m\u001b[43mdat_w_direct\u001b[49m\u001b[38;5;241;43m.\u001b[39;49m\u001b[43mT\u001b[49m\u001b[43m[\u001b[49m\u001b[38;5;241;43m2\u001b[39;49m\u001b[43m]\u001b[49m\u001b[43m[\u001b[49m\u001b[43m:\u001b[49m\u001b[43m:\u001b[49m\u001b[38;5;241;43m2\u001b[39;49m\u001b[43m]\u001b[49m\n",
      "\u001b[0;31mValueError\u001b[0m: operands could not be broadcast together with shapes (32,) (33,) "
     ]
    }
   ],
   "source": [
    "jk_ss.mean().diagonal()[:lx_half]/dat_w_direct.T[2][::2]"
   ]
  },
  {
   "cell_type": "code",
   "execution_count": null,
   "id": "ccbd7070",
   "metadata": {},
   "outputs": [],
   "source": [
    "plt.errorbar(dat_w_improved.T[1][::2], \n",
    "             dat_w_improved.T[2][::2], \n",
    "             dat_w_improved.T[3][::2],\n",
    "            label=\"evan_w_improved\",\n",
    "             marker=\"o\",\n",
    "            alpha=1.0)"
   ]
  },
  {
   "cell_type": "code",
   "execution_count": null,
   "id": "d3eec47c",
   "metadata": {},
   "outputs": [],
   "source": [
    "# plt.errorbar(dat_x_direct.T[1], \n",
    "#              dat_x_direct.T[2], \n",
    "#              dat_x_direct.T[3],\n",
    "#             label=\"evan_x_direct\",\n",
    "#              marker=\"o\",\n",
    "#             alpha=1.0)\n",
    "\n",
    "# plt.errorbar(dat_y_direct.T[1], \n",
    "#              dat_y_direct.T[2], \n",
    "#              dat_y_direct.T[3],\n",
    "#             label=\"evan_y_direct\",\n",
    "#              marker=\"o\",\n",
    "#             alpha=1.0)\n",
    "\n",
    "plt.errorbar(dat_w_direct.T[1][::2], \n",
    "             dat_w_direct.T[2][::2], \n",
    "             dat_w_direct.T[3][::2],\n",
    "            label=\"evan_w_direct\",\n",
    "             marker=\"o\",\n",
    "            alpha=1.0)\n",
    "\n",
    "# plt.errorbar(dat_w_direct.T[1][::2], \n",
    "#              dat_w_direct.T[2][::2], \n",
    "#              dat_w_direct.T[3][::2],\n",
    "#             label=\"evan_w_direct\",\n",
    "#              marker=\"o\",\n",
    "#             alpha=1.0)\n",
    "\n",
    "# plt.errorbar(dat_w_improved.T[1][::2], \n",
    "#              dat_w_improved.T[2][::2], \n",
    "#              dat_w_improved.T[3][::2],\n",
    "#             label=\"evan_w_improved\",\n",
    "#              marker=\"o\",\n",
    "#             alpha=1.0)\n",
    "\n",
    "plt.errorbar(np.arange(lx_half), \n",
    "             jk_ss.mean()[0][:lx_half], \n",
    "             jk_ss.err()[0][:lx_half],\n",
    "            label=\"new code_x\",\n",
    "             marker=\"s\",\n",
    "            alpha=1.0)\n",
    "\n",
    "# plt.errorbar(np.arange(lx_half), \n",
    "#              jk_ss.mean().T[0][:lx_half], \n",
    "#              jk_ss.err().T[0][:lx_half],\n",
    "#             label=\"new code_y\",\n",
    "#              marker=\"s\",\n",
    "#             alpha=1.0)\n",
    "\n",
    "plt.ylim(0.33, 0.7)\n",
    "plt.xscale(\"log\")\n",
    "plt.yscale(\"log\")\n",
    "plt.legend()\n",
    "\n",
    "plt.xlabel(\"$x$\")\n",
    "plt.ylabel(\"$\\\\langle s_0 s_{x,y=0} \\\\rangle$\")"
   ]
  },
  {
   "cell_type": "code",
   "execution_count": null,
   "id": "529877ad",
   "metadata": {},
   "outputs": [],
   "source": []
  },
  {
   "cell_type": "code",
   "execution_count": null,
   "id": "a07ae829",
   "metadata": {},
   "outputs": [],
   "source": [
    "dat_x_direct=np.loadtxt(evan_x_direct)\n",
    "dat_x_improved=np.loadtxt(evan_x_improved)\n",
    "\n",
    "plt.errorbar(np.arange(lx_half), \n",
    "             jk_ss.mean().T[0][:lx_half], \n",
    "             jk_ss.err().T[0][:lx_half],\n",
    "            label=\"new code\",\n",
    "             marker=\"s\",\n",
    "            alpha=1.0)\n",
    "\n",
    "plt.errorbar(dat_w_direct.T[1], \n",
    "             dat_w_direct.T[2], \n",
    "             dat_w_direct.T[3],\n",
    "            label=\"evan_directly_ss\",\n",
    "             marker=\"o\",\n",
    "            alpha=1.0)\n",
    "\n",
    "plt.errorbar(dat_w_improved.T[1], \n",
    "             dat_w_improved.T[2], \n",
    "             dat_w_improved.T[3],\n",
    "            label=\"evan_from_cluster\",\n",
    "             marker=\"x\",\n",
    "            alpha=1.0)\n",
    "\n",
    "plt.ylim(0.33, 0.7)\n",
    "plt.xscale(\"log\")\n",
    "plt.yscale(\"log\")\n",
    "plt.legend()\n",
    "\n",
    "plt.xlabel(\"$x$\")\n",
    "plt.ylabel(\"$\\\\langle s_0 s_{x,y=0} \\\\rangle$\")\n",
    "\n",
    "# plt.savefig(\"comparison.png\", bbox_inches=\"tight\")"
   ]
  },
  {
   "cell_type": "code",
   "execution_count": null,
   "id": "ada21a06",
   "metadata": {},
   "outputs": [],
   "source": []
  },
  {
   "cell_type": "code",
   "execution_count": null,
   "id": "888da44a",
   "metadata": {},
   "outputs": [],
   "source": []
  },
  {
   "cell_type": "code",
   "execution_count": null,
   "id": "abb5af6c",
   "metadata": {},
   "outputs": [],
   "source": []
  },
  {
   "cell_type": "code",
   "execution_count": null,
   "id": "b961b490",
   "metadata": {},
   "outputs": [],
   "source": []
  },
  {
   "cell_type": "code",
   "execution_count": null,
   "id": "488f90f2",
   "metadata": {},
   "outputs": [],
   "source": []
  },
  {
   "cell_type": "code",
   "execution_count": null,
   "id": "7ba5fb73",
   "metadata": {},
   "outputs": [],
   "source": []
  },
  {
   "cell_type": "code",
   "execution_count": null,
   "id": "f3486b08",
   "metadata": {},
   "outputs": [],
   "source": [
    "exex_=[]\n",
    "\n",
    "for n in range(nin,nfin,nint):\n",
    "    dat=np.loadtxt(\"./obs/exex/\"+str(n)+\".dat\")\n",
    "    exex_.append(dat)\n",
    "    \n",
    "exex=np.array(exex_)\n",
    "\n",
    "jk_exex = Jackknife(exex.size, binsize)\n",
    "jk_exex.set(simple_mean, exex)\n",
    "jk_exex.do_it()\n",
    "\n",
    "print(format_print_w_exact_matrix(exex_corr_numeric(beta, h, kx,ky,kz), jk_exex.mean(), jk_exex.err()))"
   ]
  },
  {
   "cell_type": "code",
   "execution_count": null,
   "id": "2d0a1123",
   "metadata": {},
   "outputs": [],
   "source": [
    "jk_exex.mean()"
   ]
  },
  {
   "cell_type": "code",
   "execution_count": null,
   "id": "59b4dacc",
   "metadata": {},
   "outputs": [],
   "source": [
    "exey_=[]\n",
    "\n",
    "for n in range(nin,nfin,nint):\n",
    "    dat=np.loadtxt(\"./obs/exey/\"+str(n)+\".dat\")\n",
    "    exey_.append(dat)\n",
    "    \n",
    "exey=np.array(exey_)\n",
    "\n",
    "jk_exey = Jackknife(exey.size, binsize)\n",
    "jk_exey.set(simple_mean, exey)\n",
    "jk_exey.do_it()\n",
    "\n",
    "print(format_print_w_exact_matrix(exey_corr_numeric(beta, h, kx,ky,kz), jk_exey.mean(), jk_exey.err()))"
   ]
  },
  {
   "cell_type": "code",
   "execution_count": null,
   "id": "7bc0f145",
   "metadata": {},
   "outputs": [],
   "source": [
    "exez_=[]\n",
    "\n",
    "for n in range(nin,nfin,nint):\n",
    "    dat=np.loadtxt(\"./obs/exez/\"+str(n)+\".dat\")\n",
    "    exez_.append(dat)\n",
    "    \n",
    "exez=np.array(exez_)\n",
    "\n",
    "jk_exez = Jackknife(exez.size, binsize)\n",
    "jk_exez.set(simple_mean, exez)\n",
    "jk_exez.do_it()\n",
    "\n",
    "print(format_print_w_exact_matrix(exez_corr_numeric(beta, h, kx,ky,kz), jk_exez.mean(), jk_exez.err()))"
   ]
  },
  {
   "cell_type": "code",
   "execution_count": null,
   "id": "a20c67d1",
   "metadata": {},
   "outputs": [],
   "source": [
    "eyey_=[]\n",
    "\n",
    "for n in range(nin,nfin,nint):\n",
    "    dat=np.loadtxt(\"./obs/eyey/\"+str(n)+\".dat\")\n",
    "    eyey_.append(dat)\n",
    "    \n",
    "eyey=np.array(eyey_)\n",
    "\n",
    "jk_eyey = Jackknife(eyey.size, binsize)\n",
    "jk_eyey.set(simple_mean, eyey)\n",
    "jk_eyey.do_it()\n",
    "\n",
    "print(format_print_w_exact_matrix(eyey_corr_numeric(beta, h, kx,ky,kz), jk_eyey.mean(), jk_eyey.err()))"
   ]
  },
  {
   "cell_type": "code",
   "execution_count": null,
   "id": "563395af",
   "metadata": {},
   "outputs": [],
   "source": [
    "eyez_=[]\n",
    "\n",
    "for n in range(nin,nfin,nint):\n",
    "    dat=np.loadtxt(\"./obs/eyez/\"+str(n)+\".dat\")\n",
    "    eyez_.append(dat)\n",
    "    \n",
    "eyez=np.array(eyez_)\n",
    "\n",
    "jk_eyez = Jackknife(eyez.size, binsize)\n",
    "jk_eyez.set(simple_mean, eyez)\n",
    "jk_eyez.do_it()\n",
    "\n",
    "print(format_print_w_exact_matrix(eyez_corr_numeric(beta, h, kx,ky,kz), jk_eyez.mean(), jk_eyez.err()))"
   ]
  },
  {
   "cell_type": "code",
   "execution_count": null,
   "id": "26dca828",
   "metadata": {},
   "outputs": [],
   "source": [
    "ezez_=[]\n",
    "\n",
    "for n in range(nin,nfin,nint):\n",
    "    dat=np.loadtxt(\"./obs/ezez/\"+str(n)+\".dat\")\n",
    "    ezez_.append(dat)\n",
    "    \n",
    "ezez=np.array(ezez_)\n",
    "\n",
    "jk_ezez = Jackknife(ezez.size, binsize)\n",
    "jk_ezez.set(simple_mean, ezez)\n",
    "jk_ezez.do_it()\n",
    "\n",
    "print(format_print_w_exact_matrix(ezez_corr_numeric(beta, h, kx,ky,kz), jk_ezez.mean(), jk_ezez.err()))"
   ]
  },
  {
   "cell_type": "code",
   "execution_count": null,
   "id": "2a02ede6",
   "metadata": {},
   "outputs": [],
   "source": []
  },
  {
   "cell_type": "code",
   "execution_count": null,
   "id": "ac9ed14d",
   "metadata": {},
   "outputs": [],
   "source": []
  },
  {
   "cell_type": "code",
   "execution_count": null,
   "id": "586101e1",
   "metadata": {},
   "outputs": [],
   "source": []
  }
 ],
 "metadata": {
  "kernelspec": {
   "display_name": "Python 3 (ipykernel)",
   "language": "python",
   "name": "python3"
  },
  "language_info": {
   "codemirror_mode": {
    "name": "ipython",
    "version": 3
   },
   "file_extension": ".py",
   "mimetype": "text/x-python",
   "name": "python",
   "nbconvert_exporter": "python",
   "pygments_lexer": "ipython3",
   "version": "3.9.12"
  }
 },
 "nbformat": 4,
 "nbformat_minor": 5
}
