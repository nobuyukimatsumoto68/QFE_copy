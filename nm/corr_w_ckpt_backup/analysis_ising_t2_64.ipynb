{
 "cells": [
  {
   "cell_type": "code",
   "execution_count": 1,
   "id": "b81daaa5",
   "metadata": {},
   "outputs": [],
   "source": [
    "import numpy as np\n",
    "import numpy as np\n",
    "import matplotlib.pyplot as plt\n",
    "\n",
    "import scipy as sp\n",
    "\n",
    "from mpmath import *\n",
    "mp.dps=15; mp.pretty=True\n",
    "\n",
    "import os\n",
    "import subprocess"
   ]
  },
  {
   "cell_type": "code",
   "execution_count": 2,
   "id": "5a020ae9",
   "metadata": {},
   "outputs": [],
   "source": [
    "# class Jackknife:\n",
    "#     def __init__( self, len_data, binsize ):\n",
    "#         self.binsize = binsize\n",
    "#         self.nbins = int(np.floor( len_data/self.binsize ))\n",
    "#         self.N = self.binsize * self.nbins\n",
    "#         self.jack_avg = []\n",
    "#         self.est = 0\n",
    "#         self.var_est = 0\n",
    "\n",
    "#     def set( self, func, list_of_data ):\n",
    "#         for i in range( self.nbins ):\n",
    "#             self.jack_avg.append( func( i, self.binsize, list_of_data ) )\n",
    "\n",
    "#     def do_it( self ):\n",
    "#         self.est=0\n",
    "#         for i in range( 0, self.nbins ):\n",
    "#             self.est += self.jack_avg[i]\n",
    "#         self.est /= self.nbins\n",
    "\n",
    "#         self.var_est=0\n",
    "#         for i in range( 0, self.nbins ):\n",
    "#             self.var_est += ( self.jack_avg[i] - self.est )**2\n",
    "#         self.var_est /= self.nbins\n",
    "#         self.var_est *= self.nbins -1\n",
    "\n",
    "#     def mean( self ):\n",
    "#         return self.est\n",
    "\n",
    "#     def var( self ):\n",
    "#         return self.var_est\n",
    "\n",
    "#     def err( self ):\n",
    "#         return np.sqrt(self.var_est)\n",
    "    \n",
    "# class Jackknife2:\n",
    "#     def __init__( self ):\n",
    "#         self.binsize = binsize\n",
    "#         self.nbins = int(np.floor( len_data/self.binsize ))\n",
    "#         self.N = self.binsize * self.nbins\n",
    "#         self.jack_avg = []\n",
    "#         self.est = 0\n",
    "#         self.var_est = 0\n",
    "\n",
    "#     def set( self, list_of_data,  ):\n",
    "#         self.jack_avg = np.array(list_of_data)\n",
    "\n",
    "#     def do_it( self ):\n",
    "#         self.est=0\n",
    "#         for i in range( 0, self.nbins ):\n",
    "#             self.est += self.jack_avg[i]\n",
    "#         self.est /= self.nbins\n",
    "\n",
    "#         self.var_est=0\n",
    "#         for i in range( 0, self.nbins ):\n",
    "#             self.var_est += ( self.jack_avg[i] - self.est )**2\n",
    "#         self.var_est /= self.nbins\n",
    "#         self.var_est *= self.nbins -1\n",
    "\n",
    "#     def mean( self ):\n",
    "#         return self.est\n",
    "\n",
    "#     def var( self ):\n",
    "#         return self.var_est\n",
    "\n",
    "#     def err( self ):\n",
    "#         return np.sqrt(self.var_est)\n",
    "\n",
    "# def simple_mean(i, binsize, np_data):\n",
    "#     resmpld=np.delete(np_data, np.s_[i*binsize:(i+1)*binsize], axis=0)\n",
    "#     return np.mean(resmpld, axis=0)"
   ]
  },
  {
   "cell_type": "code",
   "execution_count": 3,
   "id": "6c88dd42",
   "metadata": {},
   "outputs": [],
   "source": [
    "def rearrange(corr_, Lx_, Ly_):\n",
    "    lx_half=int(Lx_/2)\n",
    "    ly_half=int(Ly_/2)\n",
    "    tmp=[[corr_[(x-lx_half+Lx_)%Lx_,(y-ly_half+Ly_)%Ly_] for x in range(Lx_)] for y in range(Ly_)]\n",
    "    return np.array(tmp)"
   ]
  },
  {
   "cell_type": "code",
   "execution_count": 9,
   "id": "0283875e",
   "metadata": {},
   "outputs": [],
   "source": [
    "r=8\n",
    "\n",
    "Lx=64\n",
    "Ly=r*Lx\n",
    "\n",
    "lx_half=int(Lx/2)\n",
    "ly_half=int(Ly/2)"
   ]
  },
  {
   "cell_type": "code",
   "execution_count": null,
   "id": "2017b055",
   "metadata": {},
   "outputs": [],
   "source": []
  },
  {
   "cell_type": "code",
   "execution_count": 10,
   "id": "8f22bb99",
   "metadata": {},
   "outputs": [],
   "source": [
    "ensemble_id=str(Lx)+\"_\"+str(Ly)+\"_1.000_1.000_0.000\"\n",
    "# ensemble48_id=str(48)+\"_\"+str(r*48)+\"_1.000_1.000_0.000\"\n",
    "# ensemble64_id=str(64)+\"_\"+str(r*64)+\"_1.000_1.000_0.000\""
   ]
  },
  {
   "cell_type": "code",
   "execution_count": 11,
   "id": "fa182c2b",
   "metadata": {},
   "outputs": [],
   "source": [
    "nmin=30000\n",
    "nmax=240000\n",
    "nint=30000\n",
    "\n",
    "nrange = np.arange(nmin, nmax+nint, nint)"
   ]
  },
  {
   "cell_type": "code",
   "execution_count": 12,
   "id": "a10d67b6",
   "metadata": {},
   "outputs": [],
   "source": [
    "mag_list_=[]\n",
    "\n",
    "for i in nrange:\n",
    "    tmp=np.loadtxt(ensemble_id+\"/mag_\"+str(i)+\".dat\")\n",
    "    mag_list_.append(tmp)\n",
    "    \n",
    "mag_list=np.array(mag_list_)"
   ]
  },
  {
   "cell_type": "code",
   "execution_count": 13,
   "id": "ff6a684b",
   "metadata": {},
   "outputs": [
    {
     "data": {
      "text/plain": [
       "[<matplotlib.lines.Line2D at 0x14d7e0070a00>]"
      ]
     },
     "execution_count": 13,
     "metadata": {},
     "output_type": "execute_result"
    },
    {
     "data": {
      "image/png": "[encoded data removed]",
      "text/plain": [
       "<Figure size 640x480 with 1 Axes>"
      ]
     },
     "metadata": {},
     "output_type": "display_data"
    }
   ],
   "source": [
    "plt.plot(mag_list)"
   ]
  },
  {
   "cell_type": "code",
   "execution_count": null,
   "id": "e930b304",
   "metadata": {},
   "outputs": [],
   "source": []
  },
  {
   "cell_type": "code",
   "execution_count": 14,
   "id": "6cf1b154",
   "metadata": {},
   "outputs": [],
   "source": [
    "mag_list_=[]\n",
    "\n",
    "for i in nrange:\n",
    "    tmp=np.loadtxt(ensemble_id+\"/mag_\"+str(i)+\".dat\")\n",
    "    mag_list_.append(tmp)\n",
    "    \n",
    "mag_list=np.array(mag_list_)"
   ]
  },
  {
   "cell_type": "code",
   "execution_count": 15,
   "id": "a448b59c",
   "metadata": {},
   "outputs": [],
   "source": [
    "s_s_list_=[]\n",
    "\n",
    "for i in nrange:\n",
    "    tmp=np.loadtxt(ensemble_id+\"/s_s_\"+str(i)+\".dat\")\n",
    "    s_s_list_.append(tmp)\n",
    "    \n",
    "s_s_list=np.array(s_s_list_)"
   ]
  },
  {
   "cell_type": "code",
   "execution_count": 16,
   "id": "fe2ace40",
   "metadata": {},
   "outputs": [],
   "source": [
    "t_list_=[]\n",
    "\n",
    "for i in nrange:\n",
    "    tmp=np.loadtxt(ensemble_id+\"/t_\"+str(i)+\".dat\")\n",
    "    t_list_.append(tmp)\n",
    "    \n",
    "t_list=np.array(t_list_)"
   ]
  },
  {
   "cell_type": "code",
   "execution_count": 17,
   "id": "e46877f7",
   "metadata": {},
   "outputs": [],
   "source": [
    "tx_list_=[]\n",
    "\n",
    "for i in nrange:\n",
    "    tmp=np.loadtxt(ensemble_id+\"/tx_\"+str(i)+\".dat\")\n",
    "    tx_list_.append(tmp)\n",
    "    \n",
    "tx_list=np.array(tx_list_)"
   ]
  },
  {
   "cell_type": "code",
   "execution_count": 18,
   "id": "b4490ad1",
   "metadata": {},
   "outputs": [],
   "source": [
    "tx_tx_list_=[]\n",
    "\n",
    "for i in nrange:\n",
    "    tmp=np.loadtxt(ensemble_id+\"/tx_tx_\"+str(i)+\".dat\")\n",
    "    tx_tx_list_.append(tmp)\n",
    "    \n",
    "tx_tx_list=np.array(tx_tx_list_)"
   ]
  },
  {
   "cell_type": "code",
   "execution_count": null,
   "id": "e48f7fe9",
   "metadata": {},
   "outputs": [],
   "source": []
  },
  {
   "cell_type": "code",
   "execution_count": null,
   "id": "0bd763c6",
   "metadata": {},
   "outputs": [],
   "source": []
  },
  {
   "cell_type": "code",
   "execution_count": null,
   "id": "2834dc0b",
   "metadata": {},
   "outputs": [],
   "source": []
  },
  {
   "cell_type": "code",
   "execution_count": null,
   "id": "3e270052",
   "metadata": {},
   "outputs": [],
   "source": []
  },
  {
   "cell_type": "code",
   "execution_count": null,
   "id": "babf065b",
   "metadata": {},
   "outputs": [],
   "source": []
  },
  {
   "cell_type": "code",
   "execution_count": 19,
   "id": "0bddb1c5",
   "metadata": {},
   "outputs": [],
   "source": [
    "nskip=1\n",
    "s_s=np.mean(s_s_list[nskip:], axis=0)"
   ]
  },
  {
   "cell_type": "code",
   "execution_count": null,
   "id": "7d9d39db",
   "metadata": {},
   "outputs": [],
   "source": []
  },
  {
   "cell_type": "code",
   "execution_count": 20,
   "id": "02d3bec2",
   "metadata": {},
   "outputs": [],
   "source": [
    "tmp=s_s\n",
    "ft=np.array(\n",
    "    [\n",
    "        [\n",
    "            np.sum([s_s[x,t]*np.cos(2.0*np.pi*k*x/Lx) for x in range(Lx)]) / Lx \n",
    "            for t in range(r*Lx)]\n",
    "        for k in range(Lx)])"
   ]
  },
  {
   "cell_type": "code",
   "execution_count": 21,
   "id": "f2b985af",
   "metadata": {},
   "outputs": [],
   "source": [
    "alat=2.0*np.pi/Lx"
   ]
  },
  {
   "cell_type": "code",
   "execution_count": 22,
   "id": "c7259385",
   "metadata": {},
   "outputs": [
    {
     "data": {
      "image/png": "[encoded data removed]",
      "text/plain": [
       "<Figure size 640x480 with 1 Axes>"
      ]
     },
     "metadata": {},
     "output_type": "display_data"
    }
   ],
   "source": [
    "plt.plot(ft[0][:40], label=\"$\\\\ell=0$\")\n",
    "plt.plot(ft[1][:40], label=\"$\\\\ell=1$\")\n",
    "plt.plot(ft[2][:40], label=\"$\\\\ell=2$\")\n",
    "plt.plot(ft[3][:40], label=\"$\\\\ell=3$\")\n",
    "plt.plot(ft[4][:40], label=\"$\\\\ell=4$\")\n",
    "plt.plot(ft[5][:40], label=\"$\\\\ell=5$\")\n",
    "\n",
    "# t = np.arange(0,40)\n",
    "# Delta=1.0/8.0\n",
    "# ct = 100.0*np.exp(-t*alat*Delta)\n",
    "# plt.plot(t,ct, ls=\"dashed\")\n",
    "\n",
    "plt.ylim(0.00001, 1.0)\n",
    "plt.xlim(0.0, 40.0)\n",
    "\n",
    "plt.ylabel(\"$\\\\langle \\\\sigma_{\\\\ell,t=0} \\cdot \\\\sigma_{\\\\ell,t} \\\\rangle$\")\n",
    "plt.xlabel(\"$t$\")\n",
    "\n",
    "plt.title(\"32x256\")\n",
    "\n",
    "plt.legend()\n",
    "\n",
    "plt.yscale(\"log\")\n",
    "\n",
    "# plt.savefig(\"sigma.eps\", bbox_inches=\"tight\")"
   ]
  },
  {
   "cell_type": "code",
   "execution_count": null,
   "id": "f071f9ce",
   "metadata": {},
   "outputs": [],
   "source": []
  },
  {
   "cell_type": "code",
   "execution_count": 23,
   "id": "f327f130",
   "metadata": {},
   "outputs": [],
   "source": [
    "# plt.plot(ft[0][:15], label=\"$\\\\ell=0$\")\n",
    "# plt.plot(ft[1][:15], label=\"$\\\\ell=1$\")\n",
    "# plt.plot(ft[2][:15], label=\"$\\\\ell=2$\")\n",
    "# plt.plot(ft[3][:15], label=\"$\\\\ell=3$\")\n",
    "# plt.plot(ft[4][:15], label=\"$\\\\ell=4$\")\n",
    "# plt.plot(ft[5][:15], label=\"$\\\\ell=5$\")\n",
    "# plt.plot(ft[6][:15], label=\"$\\\\ell=6$\")\n",
    "\n",
    "\n",
    "# # for ell in range(7):\n",
    "# #     t = np.arange(0,16)\n",
    "# #     ct = np.exp(-t*alat*(Delta+ell))\n",
    "# #     plt.plot(t, ct/ct[0], ls=\"dashed\", c=\"gray\", \n",
    "# #              alpha=0.5,\n",
    "# #              label=\"$\\\\ell=$\"+str(ell)+\" analytic\")\n",
    "\n",
    "# plt.yscale(\"log\")\n",
    "\n",
    "# plt.ylabel(\"$\\\\langle \\\\sigma_{k,t=0} \\cdot \\\\sigma_{k,t} \\\\rangle$\")\n",
    "# plt.xlabel(\"$t$\")\n",
    "\n",
    "# plt.title(\"32x256\")\n",
    "\n",
    "# plt.legend()\n",
    "\n",
    "# plt.xlim(0.0,16.0)\n",
    "# plt.ylim(1.0e-3,1.0)\n",
    "\n",
    "# # plt.savefig(\"sigma.eps\", bbox_inches=\"tight\")"
   ]
  },
  {
   "cell_type": "code",
   "execution_count": null,
   "id": "d7e3c887",
   "metadata": {},
   "outputs": [],
   "source": []
  },
  {
   "cell_type": "code",
   "execution_count": 24,
   "id": "d1995bc8",
   "metadata": {},
   "outputs": [],
   "source": [
    "def axpb(x, a, b):\n",
    "    return a*x + b"
   ]
  },
  {
   "cell_type": "code",
   "execution_count": 25,
   "id": "488abf82",
   "metadata": {},
   "outputs": [],
   "source": [
    "delta_list=[]"
   ]
  },
  {
   "cell_type": "code",
   "execution_count": 26,
   "id": "e1abc42c",
   "metadata": {},
   "outputs": [
    {
     "name": "stdout",
     "output_type": "stream",
     "text": [
      "0.011959476654836987 -0.930431178191423\n"
     ]
    },
    {
     "data": {
      "image/png": "[encoded data removed]",
      "text/plain": [
       "<Figure size 640x480 with 1 Axes>"
      ]
     },
     "metadata": {},
     "output_type": "display_data"
    }
   ],
   "source": [
    "ell=0\n",
    "\n",
    "y=ft[ell]\n",
    "\n",
    "plt.plot(y, label=\"$\\\\ell=$\"+str(ell))\n",
    "\n",
    "xmin=10\n",
    "xmax=30\n",
    "x=np.arange(xmin, xmax)\n",
    "[a, b], var = sp.optimize.curve_fit( axpb, x, np.log(y[xmin:xmax]) )\n",
    "plt.plot( x, np.exp( axpb(x, a, b) ), label=\"fit\" )\n",
    "\n",
    "plt.legend()\n",
    "plt.xlim(0, 40)\n",
    "plt.ylim(1.0e-6, 1.0)\n",
    "plt.yscale(\"log\")\n",
    "\n",
    "print(-a, b)\n",
    "delta_list.append([ell,-a])"
   ]
  },
  {
   "cell_type": "code",
   "execution_count": 27,
   "id": "2c14fbfe",
   "metadata": {},
   "outputs": [
    {
     "data": {
      "text/plain": [
       "0.08280685168917383"
      ]
     },
     "execution_count": 27,
     "metadata": {},
     "output_type": "execute_result"
    }
   ],
   "source": [
    "0.016259087308350503 / (2.0*np.pi/32)"
   ]
  },
  {
   "cell_type": "code",
   "execution_count": 28,
   "id": "52f9f0dc",
   "metadata": {},
   "outputs": [
    {
     "name": "stdout",
     "output_type": "stream",
     "text": [
      "0.1155426755676065 -2.961611094464495\n"
     ]
    },
    {
     "data": {
      "image/png": "[encoded data removed]",
      "text/plain": [
       "<Figure size 640x480 with 1 Axes>"
      ]
     },
     "metadata": {},
     "output_type": "display_data"
    }
   ],
   "source": [
    "ell=1\n",
    "\n",
    "y=ft[ell]\n",
    "\n",
    "plt.plot(y, label=\"$\\\\ell=$\"+str(ell))\n",
    "\n",
    "xmin=4\n",
    "xmax=12\n",
    "x=np.arange(xmin, xmax)\n",
    "[a, b], var = sp.optimize.curve_fit( axpb, x, np.log(y[xmin:xmax]) )\n",
    "plt.plot( x, np.exp( axpb(x, a, b) ), label=\"fit\" )\n",
    "\n",
    "plt.legend()\n",
    "plt.xlim(0, 40)\n",
    "plt.ylim(1.0e-6, 1.0)\n",
    "plt.yscale(\"log\")\n",
    "\n",
    "print(-a, b)\n",
    "delta_list.append([ell,-a])"
   ]
  },
  {
   "cell_type": "code",
   "execution_count": 29,
   "id": "77f41b1f",
   "metadata": {},
   "outputs": [
    {
     "name": "stdout",
     "output_type": "stream",
     "text": [
      "0.21503331986336516 -3.526191019456313\n"
     ]
    },
    {
     "data": {
      "image/png": "[encoded data removed]",
      "text/plain": [
       "<Figure size 640x480 with 1 Axes>"
      ]
     },
     "metadata": {},
     "output_type": "display_data"
    }
   ],
   "source": [
    "ell=2\n",
    "\n",
    "y=ft[ell]\n",
    "\n",
    "plt.plot(y, label=\"$\\\\ell=$\"+str(ell))\n",
    "\n",
    "xmin=4\n",
    "xmax=10\n",
    "x=np.arange(xmin, xmax)\n",
    "[a, b], var = sp.optimize.curve_fit( axpb, x, np.log(y[xmin:xmax]) )\n",
    "plt.plot( x, np.exp( axpb(x, a, b) ), label=\"fit\" )\n",
    "\n",
    "plt.legend()\n",
    "plt.xlim(0, 40)\n",
    "plt.ylim(1.0e-6, 1.0)\n",
    "plt.yscale(\"log\")\n",
    "\n",
    "print(-a, b)\n",
    "delta_list.append([ell,-a])"
   ]
  },
  {
   "cell_type": "code",
   "execution_count": 30,
   "id": "7b677bba",
   "metadata": {},
   "outputs": [
    {
     "name": "stdout",
     "output_type": "stream",
     "text": [
      "0.3205418646141387 -3.826348633245872\n"
     ]
    },
    {
     "data": {
      "image/png": "[encoded data removed]",
      "text/plain": [
       "<Figure size 640x480 with 1 Axes>"
      ]
     },
     "metadata": {},
     "output_type": "display_data"
    }
   ],
   "source": [
    "ell=3\n",
    "\n",
    "y=ft[ell]\n",
    "\n",
    "plt.plot(y, label=\"$\\\\ell=$\"+str(ell))\n",
    "\n",
    "xmin=2\n",
    "xmax=8\n",
    "x=np.arange(xmin, xmax)\n",
    "[a, b], var = sp.optimize.curve_fit( axpb, x, np.log(y[xmin:xmax]) )\n",
    "plt.plot( x, np.exp( axpb(x, a, b) ), label=\"fit\" )\n",
    "\n",
    "plt.legend()\n",
    "plt.xlim(0, 40)\n",
    "plt.ylim(1.0e-6, 1.0)\n",
    "plt.yscale(\"log\")\n",
    "\n",
    "print(-a, b)\n",
    "delta_list.append([ell,-a])"
   ]
  },
  {
   "cell_type": "code",
   "execution_count": 37,
   "id": "3d5b4aea",
   "metadata": {},
   "outputs": [
    {
     "name": "stdout",
     "output_type": "stream",
     "text": [
      "0.42960670787287114 -4.03111718770997\n"
     ]
    },
    {
     "data": {
      "image/png": "[encoded data removed]",
      "text/plain": [
       "<Figure size 640x480 with 1 Axes>"
      ]
     },
     "metadata": {},
     "output_type": "display_data"
    }
   ],
   "source": [
    "ell=4\n",
    "\n",
    "y=ft[ell]\n",
    "\n",
    "plt.plot(y, label=\"$\\\\ell=$\"+str(ell))\n",
    "\n",
    "xmin=1\n",
    "xmax=5\n",
    "x=np.arange(xmin, xmax)\n",
    "[a, b], var = sp.optimize.curve_fit( axpb, x, np.log(y[xmin:xmax]) )\n",
    "plt.plot( x, np.exp( axpb(x, a, b) ), label=\"fit\" )\n",
    "\n",
    "plt.legend()\n",
    "plt.xlim(0, 40)\n",
    "plt.ylim(1.0e-6, 1.0)\n",
    "plt.yscale(\"log\")\n",
    "\n",
    "print(-a, b)\n",
    "delta_list.append([ell,-a])"
   ]
  },
  {
   "cell_type": "code",
   "execution_count": 38,
   "id": "5525c9fa",
   "metadata": {},
   "outputs": [
    {
     "data": {
      "text/plain": [
       "[[0, 0.011959476654836987],\n",
       " [1, 0.1155426755676065],\n",
       " [2, 0.21503331986336516],\n",
       " [3, 0.3205418646141387],\n",
       " [4, 0.42960670787287114],\n",
       " [4, 0.42960670787287114]]"
      ]
     },
     "execution_count": 38,
     "metadata": {},
     "output_type": "execute_result"
    }
   ],
   "source": [
    "delta_list"
   ]
  },
  {
   "cell_type": "code",
   "execution_count": 39,
   "id": "49cfa8f6",
   "metadata": {},
   "outputs": [],
   "source": [
    "a32_list=np.array([[0, 0.02389256709118499],\n",
    " [1, 0.22255784720193167],\n",
    " [2, 0.4137005128984015],\n",
    " [3, 0.5998641605815322],\n",
    " [4, 0.78630383991516]])"
   ]
  },
  {
   "cell_type": "code",
   "execution_count": 40,
   "id": "ee25ad0b",
   "metadata": {},
   "outputs": [],
   "source": [
    "a48_list=np.array([[0, 0.016259087308350503],\n",
    " [1, 0.1520023212359083],\n",
    " [2, 0.2830264524101229],\n",
    " [3, 0.4162099802375052],\n",
    " [4, 0.5563355332259683]])"
   ]
  },
  {
   "cell_type": "code",
   "execution_count": 41,
   "id": "3324f873",
   "metadata": {},
   "outputs": [
    {
     "data": {
      "text/plain": [
       "array([0.12168384, 1.13347781, 2.10695941, 3.05508308, 4.00461257])"
      ]
     },
     "execution_count": 41,
     "metadata": {},
     "output_type": "execute_result"
    }
   ],
   "source": [
    "a32_list.T[1]/(np.pi*2.0/32.0)"
   ]
  },
  {
   "cell_type": "code",
   "execution_count": 42,
   "id": "144478de",
   "metadata": {},
   "outputs": [
    {
     "name": "stderr",
     "output_type": "stream",
     "text": [
      "The PostScript backend does not support transparency; partially transparent artists will be rendered opaque.\n"
     ]
    },
    {
     "data": {
      "image/png": "[encoded data removed]",
      "text/plain": [
       "<Figure size 640x480 with 1 Axes>"
      ]
     },
     "metadata": {},
     "output_type": "display_data"
    }
   ],
   "source": [
    "plt.plot(a32_list.T[0], a32_list.T[1]/(np.pi*2.0/32.0), label=\"32x256\", marker=\"o\")\n",
    "plt.plot(a48_list.T[0], a48_list.T[1]/(np.pi*2.0/48.0), label=\"48x354\", marker=\"s\")\n",
    "\n",
    "x=np.arange(5)\n",
    "plt.plot(x, x+1.0/8, ls=\"dashed\", label=\"exact\")\n",
    "\n",
    "plt.xlabel(\"$\\\\ell$\")\n",
    "plt.ylabel(\"$\\\\Delta_\\\\sigma+\\\\ell$\")\n",
    "\n",
    "plt.legend()\n",
    "\n",
    "plt.savefig(\"sigma_scaling.eps\", bbox_inches=\"tight\")"
   ]
  },
  {
   "cell_type": "code",
   "execution_count": null,
   "id": "370659ef",
   "metadata": {},
   "outputs": [],
   "source": []
  },
  {
   "cell_type": "code",
   "execution_count": null,
   "id": "5f991957",
   "metadata": {},
   "outputs": [],
   "source": []
  },
  {
   "cell_type": "code",
   "execution_count": null,
   "id": "d87c7ce2",
   "metadata": {},
   "outputs": [],
   "source": []
  },
  {
   "cell_type": "code",
   "execution_count": null,
   "id": "9fa780bc",
   "metadata": {},
   "outputs": [],
   "source": []
  },
  {
   "cell_type": "code",
   "execution_count": null,
   "id": "d50ca9ee",
   "metadata": {},
   "outputs": [],
   "source": []
  },
  {
   "cell_type": "code",
   "execution_count": null,
   "id": "68ca0748",
   "metadata": {},
   "outputs": [],
   "source": []
  },
  {
   "cell_type": "code",
   "execution_count": null,
   "id": "15f271d7",
   "metadata": {},
   "outputs": [],
   "source": []
  },
  {
   "cell_type": "code",
   "execution_count": null,
   "id": "b79685c0",
   "metadata": {},
   "outputs": [],
   "source": []
  },
  {
   "cell_type": "code",
   "execution_count": null,
   "id": "690407f3",
   "metadata": {},
   "outputs": [],
   "source": []
  },
  {
   "cell_type": "code",
   "execution_count": null,
   "id": "5ca77bbf",
   "metadata": {},
   "outputs": [],
   "source": []
  },
  {
   "cell_type": "code",
   "execution_count": null,
   "id": "b70b52e4",
   "metadata": {},
   "outputs": [],
   "source": []
  },
  {
   "cell_type": "code",
   "execution_count": null,
   "id": "abef6861",
   "metadata": {},
   "outputs": [],
   "source": []
  },
  {
   "cell_type": "code",
   "execution_count": 43,
   "id": "b656b678",
   "metadata": {},
   "outputs": [],
   "source": [
    "nskip=1\n",
    "tmp2=np.array([tx_tx_list[i]-tx_list[i]**2 for i in range(nskip,len(nrange))])\n",
    "tmp=np.mean(tmp2, axis=0)\n",
    "\n",
    "ft=np.array(\n",
    "    [\n",
    "        [\n",
    "            np.sum([tmp[x,t]*np.cos(2.0*np.pi*k*x/Lx) for x in range(Lx)]) / Lx \n",
    "            for t in range(r*Lx)]\n",
    "        for k in range(Lx)])"
   ]
  },
  {
   "cell_type": "code",
   "execution_count": 44,
   "id": "9624e0db",
   "metadata": {},
   "outputs": [],
   "source": [
    "alat=2.0*np.pi/Lx"
   ]
  },
  {
   "cell_type": "code",
   "execution_count": 45,
   "id": "7425de3e",
   "metadata": {},
   "outputs": [
    {
     "data": {
      "image/png": "[encoded data removed]",
      "text/plain": [
       "<Figure size 640x480 with 1 Axes>"
      ]
     },
     "metadata": {},
     "output_type": "display_data"
    }
   ],
   "source": [
    "plt.plot(ft[0][:40], label=\"$\\\\ell=0$\")\n",
    "plt.plot(ft[1][:40], label=\"$\\\\ell=1$\")\n",
    "plt.plot(ft[2][:40], label=\"$\\\\ell=2$\")\n",
    "plt.plot(ft[3][:40], label=\"$\\\\ell=3$\")\n",
    "plt.plot(ft[4][:40], label=\"$\\\\ell=4$\")\n",
    "plt.plot(ft[5][:40], label=\"$\\\\ell=5$\")\n",
    "\n",
    "# t = np.arange(0,40)\n",
    "# Delta=1.0/8.0\n",
    "# ct = 100.0*np.exp(-t*alat*Delta)\n",
    "# plt.plot(t,ct, ls=\"dashed\")\n",
    "\n",
    "plt.ylim(0.00001, 1.0)\n",
    "plt.xlim(0.0, 40.0)\n",
    "\n",
    "plt.ylabel(\"$\\\\langle \\\\epsilon_{\\\\ell,t=0} \\cdot \\\\epsilon_{\\\\ell,t} \\\\rangle$\")\n",
    "plt.xlabel(\"$t$\")\n",
    "\n",
    "plt.title(\"32x256\")\n",
    "\n",
    "plt.legend()\n",
    "\n",
    "plt.yscale(\"log\")\n",
    "\n",
    "# plt.savefig(\"sigma.eps\", bbox_inches=\"tight\")"
   ]
  },
  {
   "cell_type": "code",
   "execution_count": null,
   "id": "24e103d7",
   "metadata": {},
   "outputs": [],
   "source": []
  },
  {
   "cell_type": "code",
   "execution_count": 46,
   "id": "cea52d8d",
   "metadata": {},
   "outputs": [],
   "source": [
    "def axpb(x, a, b):\n",
    "    return a*x + b"
   ]
  },
  {
   "cell_type": "code",
   "execution_count": 47,
   "id": "71e8958d",
   "metadata": {},
   "outputs": [],
   "source": [
    "def two_exp(x, E1, E2, A1, A2):\n",
    "    return A1*np.exp(-E1*x) + A2*np.exp(-E2*x)"
   ]
  },
  {
   "cell_type": "code",
   "execution_count": 48,
   "id": "46c7e8fc",
   "metadata": {},
   "outputs": [],
   "source": [
    "def three_exp(x, E1, E2, E3, A1, A2, A3):\n",
    "    return A1*np.exp(-E1*x) + A2*np.exp(-E2*x) + A3*np.exp(-E3*x)"
   ]
  },
  {
   "cell_type": "code",
   "execution_count": 49,
   "id": "c616b3f8",
   "metadata": {},
   "outputs": [],
   "source": [
    "def three_exp_fixedE(x, E3, A1, A2, A3):\n",
    "    E1=1.0*a_lat; E2=2.0*a_lat\n",
    "    return A1*np.exp(-E1*x) + A2*np.exp(-E2*x) + A3*np.exp(-E3*x)"
   ]
  },
  {
   "cell_type": "code",
   "execution_count": 50,
   "id": "66fbe32e",
   "metadata": {},
   "outputs": [],
   "source": [
    "def two_exp_fixedE(x, A1, A2):\n",
    "    E1=1.0*a_lat; E2=2.0*a_lat\n",
    "    return A1*np.exp(-E1*x) + A2*np.exp(-E2*x)"
   ]
  },
  {
   "cell_type": "code",
   "execution_count": 54,
   "id": "a20f04c4",
   "metadata": {},
   "outputs": [],
   "source": [
    "a_lat=(np.pi*2.0/Lx)"
   ]
  },
  {
   "cell_type": "code",
   "execution_count": 58,
   "id": "8e3181d1",
   "metadata": {},
   "outputs": [
    {
     "name": "stderr",
     "output_type": "stream",
     "text": [
      "/scratch/200753.1.ood/ipykernel_994786/2869382812.py:2: RuntimeWarning: overflow encountered in exp\n",
      "  return A1*np.exp(-E1*x) + A2*np.exp(-E2*x)\n"
     ]
    },
    {
     "name": "stdout",
     "output_type": "stream",
     "text": [
      "1.3312278741501555 9.182924799146463\n"
     ]
    },
    {
     "data": {
      "image/png": "[encoded data removed]",
      "text/plain": [
       "<Figure size 640x480 with 1 Axes>"
      ]
     },
     "metadata": {},
     "output_type": "display_data"
    }
   ],
   "source": [
    "ell=0\n",
    "y=ft[ell]\n",
    "\n",
    "plt.plot(y, label=\"$\\\\ell=$\"+str(ell))\n",
    "\n",
    "\n",
    "\n",
    "# xmin=1\n",
    "# xmax=20\n",
    "# x=np.arange(xmin, xmax)\n",
    "# [E1, E2, E3, A1, A2, A3], var = sp.optimize.curve_fit( three_exp, x, y[xmin:xmax] )\n",
    "# plt.plot( x, three_exp(x, E1, E2, E3, A1, A2, A3), label=\"fit\" )\n",
    "\n",
    "\n",
    "\n",
    "# xmin=1\n",
    "# xmax=20\n",
    "# x=np.arange(xmin, xmax)\n",
    "# [E3, A1, A2, A3], var = sp.optimize.curve_fit( three_exp_fixedE, x, y[xmin:xmax] )\n",
    "# plt.plot( x, three_exp_fixedE(x, E3, A1, A2, A3), label=\"fit\" )\n",
    "\n",
    "\n",
    "\n",
    "# xmin=1\n",
    "# xmax=20\n",
    "# x=np.arange(xmin, xmax)\n",
    "# [E1, E2, E3, A1, A2, A3], var = sp.optimize.curve_fit( three_exp, x, y[xmin:xmax] )\n",
    "# plt.plot( x, three_exp(x, E1, E2, E3, A1, A2, A3), label=\"fit\" )\n",
    "\n",
    "\n",
    "xmin=1\n",
    "xmax=20\n",
    "x=np.arange(xmin, xmax)\n",
    "[E1, E2, A1, A2], var = sp.optimize.curve_fit( two_exp, \n",
    "                                              x, y[xmin:xmax], \n",
    "                                              [1.0/a_lat, 2.0/a_lat, 0.1, 0.1] )\n",
    "plt.plot( x, two_exp(x, E1, E2, A1, A2), label=\"fit\" )\n",
    "\n",
    "\n",
    "# xmin=1\n",
    "# xmax=8\n",
    "# x=np.arange(xmin, xmax)\n",
    "# [A1, A2], var = sp.optimize.curve_fit( two_exp_fixedE, x, y[xmin:xmax] )\n",
    "# plt.plot( x, two_exp_fixedE(x, A1, A2), label=\"fit\" )\n",
    "\n",
    "plt.legend()\n",
    "plt.xlim(0, 40)\n",
    "plt.ylim(1.0e-6, 1.0)\n",
    "plt.yscale(\"log\")\n",
    "\n",
    "# xmin=1\n",
    "# xmax=20\n",
    "# x=np.arange(xmin, xmax)\n",
    "# plt.plot( x, 0.008*np.exp(-x*a_lat), label=\"exp(-x)\" )\n",
    "\n",
    "# xmin=0\n",
    "# xmax=8\n",
    "# x=np.arange(xmin, xmax)\n",
    "# plt.plot( x, 0.018*np.exp(-2.0*x*a_lat), label=\"exp(-2.0*x)\" )\n",
    "\n",
    "print(E1/a_lat, E2/a_lat)\n",
    "# print(E1/a_lat, E2/a_lat, E3/a_lat)\n",
    "# print(E3/a_lat)"
   ]
  },
  {
   "cell_type": "code",
   "execution_count": 56,
   "id": "41bb02bf",
   "metadata": {},
   "outputs": [
    {
     "data": {
      "text/plain": [
       "0.029072903715648628"
      ]
     },
     "execution_count": 56,
     "metadata": {},
     "output_type": "execute_result"
    }
   ],
   "source": [
    "A1"
   ]
  },
  {
   "cell_type": "code",
   "execution_count": 55,
   "id": "47a3d6b0",
   "metadata": {},
   "outputs": [
    {
     "data": {
      "text/plain": [
       "0.0061319296370381145"
      ]
     },
     "execution_count": 55,
     "metadata": {},
     "output_type": "execute_result"
    }
   ],
   "source": [
    "A2"
   ]
  },
  {
   "cell_type": "code",
   "execution_count": 56,
   "id": "1c604e33",
   "metadata": {},
   "outputs": [
    {
     "data": {
      "text/plain": [
       "0.04022621985371537"
      ]
     },
     "execution_count": 56,
     "metadata": {},
     "output_type": "execute_result"
    }
   ],
   "source": [
    "A3"
   ]
  },
  {
   "cell_type": "code",
   "execution_count": null,
   "id": "30b19ddd",
   "metadata": {},
   "outputs": [],
   "source": []
  },
  {
   "cell_type": "code",
   "execution_count": null,
   "id": "1ab8ce8a",
   "metadata": {},
   "outputs": [],
   "source": []
  },
  {
   "cell_type": "code",
   "execution_count": null,
   "id": "9b08e943",
   "metadata": {},
   "outputs": [],
   "source": []
  },
  {
   "cell_type": "markdown",
   "id": "5e0dd26a",
   "metadata": {},
   "source": [
    "$$\n",
    "    t \\equiv \\sum_\\mu (s_x-s_{x+\\mu})^2\n",
    "$$"
   ]
  },
  {
   "cell_type": "code",
   "execution_count": null,
   "id": "c2ad3ae2",
   "metadata": {},
   "outputs": [],
   "source": []
  },
  {
   "cell_type": "code",
   "execution_count": null,
   "id": "d54f5a74",
   "metadata": {},
   "outputs": [],
   "source": []
  },
  {
   "cell_type": "code",
   "execution_count": null,
   "id": "8e75c311",
   "metadata": {},
   "outputs": [],
   "source": []
  },
  {
   "cell_type": "code",
   "execution_count": null,
   "id": "26c3e7bc",
   "metadata": {},
   "outputs": [],
   "source": []
  },
  {
   "cell_type": "code",
   "execution_count": null,
   "id": "3fdad1fa",
   "metadata": {},
   "outputs": [],
   "source": []
  },
  {
   "cell_type": "code",
   "execution_count": null,
   "id": "86745f7d",
   "metadata": {},
   "outputs": [],
   "source": []
  },
  {
   "cell_type": "code",
   "execution_count": null,
   "id": "b784f2b4",
   "metadata": {},
   "outputs": [],
   "source": []
  },
  {
   "cell_type": "code",
   "execution_count": null,
   "id": "cd09816c",
   "metadata": {},
   "outputs": [],
   "source": []
  },
  {
   "cell_type": "code",
   "execution_count": null,
   "id": "edee8ea1",
   "metadata": {},
   "outputs": [],
   "source": []
  },
  {
   "cell_type": "code",
   "execution_count": null,
   "id": "24b696e3",
   "metadata": {},
   "outputs": [],
   "source": []
  },
  {
   "cell_type": "code",
   "execution_count": null,
   "id": "539bf121",
   "metadata": {},
   "outputs": [],
   "source": []
  },
  {
   "cell_type": "code",
   "execution_count": null,
   "id": "4a65b7aa",
   "metadata": {},
   "outputs": [],
   "source": []
  },
  {
   "cell_type": "code",
   "execution_count": null,
   "id": "69c75d29",
   "metadata": {},
   "outputs": [],
   "source": []
  },
  {
   "cell_type": "code",
   "execution_count": null,
   "id": "b3d7edbc",
   "metadata": {},
   "outputs": [],
   "source": []
  },
  {
   "cell_type": "code",
   "execution_count": null,
   "id": "dfc51e8c",
   "metadata": {},
   "outputs": [],
   "source": []
  },
  {
   "cell_type": "code",
   "execution_count": null,
   "id": "a0614b68",
   "metadata": {},
   "outputs": [],
   "source": []
  },
  {
   "cell_type": "code",
   "execution_count": null,
   "id": "2521ce71",
   "metadata": {},
   "outputs": [],
   "source": []
  },
  {
   "cell_type": "code",
   "execution_count": null,
   "id": "a6e12a3f",
   "metadata": {},
   "outputs": [],
   "source": []
  },
  {
   "cell_type": "code",
   "execution_count": null,
   "id": "fbeed739",
   "metadata": {},
   "outputs": [],
   "source": []
  },
  {
   "cell_type": "code",
   "execution_count": null,
   "id": "9bd3d812",
   "metadata": {},
   "outputs": [],
   "source": []
  },
  {
   "cell_type": "code",
   "execution_count": null,
   "id": "6cfe5cb5",
   "metadata": {},
   "outputs": [],
   "source": []
  },
  {
   "cell_type": "code",
   "execution_count": null,
   "id": "8e661a1f",
   "metadata": {},
   "outputs": [],
   "source": []
  },
  {
   "cell_type": "code",
   "execution_count": null,
   "id": "1cf6ba15",
   "metadata": {},
   "outputs": [],
   "source": []
  },
  {
   "cell_type": "code",
   "execution_count": null,
   "id": "6ff8fb18",
   "metadata": {},
   "outputs": [],
   "source": []
  },
  {
   "cell_type": "code",
   "execution_count": null,
   "id": "49be550a",
   "metadata": {},
   "outputs": [],
   "source": []
  },
  {
   "cell_type": "code",
   "execution_count": null,
   "id": "92ee576c",
   "metadata": {},
   "outputs": [],
   "source": []
  },
  {
   "cell_type": "code",
   "execution_count": null,
   "id": "e15d7ead",
   "metadata": {},
   "outputs": [],
   "source": []
  },
  {
   "cell_type": "code",
   "execution_count": null,
   "id": "499e91fb",
   "metadata": {},
   "outputs": [],
   "source": []
  },
  {
   "cell_type": "code",
   "execution_count": null,
   "id": "24c56b4d",
   "metadata": {},
   "outputs": [],
   "source": []
  },
  {
   "cell_type": "code",
   "execution_count": null,
   "id": "98fd94f3",
   "metadata": {},
   "outputs": [],
   "source": []
  },
  {
   "cell_type": "code",
   "execution_count": null,
   "id": "e7a19cec",
   "metadata": {},
   "outputs": [],
   "source": []
  },
  {
   "cell_type": "code",
   "execution_count": null,
   "id": "feff8f72",
   "metadata": {},
   "outputs": [],
   "source": []
  },
  {
   "cell_type": "code",
   "execution_count": null,
   "id": "3a96a622",
   "metadata": {},
   "outputs": [],
   "source": []
  },
  {
   "cell_type": "code",
   "execution_count": null,
   "id": "66f1f41d",
   "metadata": {},
   "outputs": [],
   "source": []
  },
  {
   "cell_type": "code",
   "execution_count": null,
   "id": "00dfc33d",
   "metadata": {},
   "outputs": [],
   "source": []
  },
  {
   "cell_type": "code",
   "execution_count": null,
   "id": "ec4b0729",
   "metadata": {},
   "outputs": [],
   "source": []
  },
  {
   "cell_type": "code",
   "execution_count": null,
   "id": "3aa75b4e",
   "metadata": {},
   "outputs": [],
   "source": []
  },
  {
   "cell_type": "code",
   "execution_count": null,
   "id": "a546b53f",
   "metadata": {},
   "outputs": [],
   "source": []
  },
  {
   "cell_type": "code",
   "execution_count": null,
   "id": "5d6a558a",
   "metadata": {},
   "outputs": [],
   "source": []
  },
  {
   "cell_type": "code",
   "execution_count": null,
   "id": "99874c84",
   "metadata": {},
   "outputs": [],
   "source": []
  },
  {
   "cell_type": "code",
   "execution_count": null,
   "id": "20ca5e55",
   "metadata": {},
   "outputs": [],
   "source": []
  },
  {
   "cell_type": "code",
   "execution_count": null,
   "id": "1fd779e3",
   "metadata": {},
   "outputs": [],
   "source": []
  },
  {
   "cell_type": "code",
   "execution_count": 42,
   "id": "f4ab31a7",
   "metadata": {},
   "outputs": [
    {
     "ename": "NameError",
     "evalue": "name 't_t_list' is not defined",
     "output_type": "error",
     "traceback": [
      "\u001b[0;31m---------------------------------------------------------------------------\u001b[0m",
      "\u001b[0;31mNameError\u001b[0m                                 Traceback (most recent call last)",
      "Cell \u001b[0;32mIn[42], line 2\u001b[0m\n\u001b[1;32m      1\u001b[0m nskip\u001b[38;5;241m=\u001b[39m\u001b[38;5;241m1\u001b[39m\n\u001b[0;32m----> 2\u001b[0m tmp2\u001b[38;5;241m=\u001b[39mnp\u001b[38;5;241m.\u001b[39marray([t_t_list[i]\u001b[38;5;241m-\u001b[39mt_list[i]\u001b[38;5;241m*\u001b[39m\u001b[38;5;241m*\u001b[39m\u001b[38;5;241m2\u001b[39m \u001b[38;5;28;01mfor\u001b[39;00m i \u001b[38;5;129;01min\u001b[39;00m \u001b[38;5;28mrange\u001b[39m(nskip,\u001b[38;5;28mlen\u001b[39m(nrange))])\n\u001b[1;32m      3\u001b[0m tmp\u001b[38;5;241m=\u001b[39mnp\u001b[38;5;241m.\u001b[39mmean(tmp2, axis\u001b[38;5;241m=\u001b[39m\u001b[38;5;241m0\u001b[39m)\n\u001b[1;32m      5\u001b[0m ft\u001b[38;5;241m=\u001b[39mnp\u001b[38;5;241m.\u001b[39marray(\n\u001b[1;32m      6\u001b[0m     [\n\u001b[1;32m      7\u001b[0m         [\n\u001b[1;32m      8\u001b[0m             np\u001b[38;5;241m.\u001b[39msum([tmp[x,t]\u001b[38;5;241m*\u001b[39mnp\u001b[38;5;241m.\u001b[39mcos(\u001b[38;5;241m2.0\u001b[39m\u001b[38;5;241m*\u001b[39mnp\u001b[38;5;241m.\u001b[39mpi\u001b[38;5;241m*\u001b[39mk\u001b[38;5;241m*\u001b[39mx\u001b[38;5;241m/\u001b[39mLx) \u001b[38;5;28;01mfor\u001b[39;00m x \u001b[38;5;129;01min\u001b[39;00m \u001b[38;5;28mrange\u001b[39m(Lx)]) \u001b[38;5;241m/\u001b[39m Lx \n\u001b[1;32m      9\u001b[0m             \u001b[38;5;28;01mfor\u001b[39;00m t \u001b[38;5;129;01min\u001b[39;00m \u001b[38;5;28mrange\u001b[39m(r\u001b[38;5;241m*\u001b[39mLx)]\n\u001b[1;32m     10\u001b[0m         \u001b[38;5;28;01mfor\u001b[39;00m k \u001b[38;5;129;01min\u001b[39;00m \u001b[38;5;28mrange\u001b[39m(Lx)])\n",
      "Cell \u001b[0;32mIn[42], line 2\u001b[0m, in \u001b[0;36m<listcomp>\u001b[0;34m(.0)\u001b[0m\n\u001b[1;32m      1\u001b[0m nskip\u001b[38;5;241m=\u001b[39m\u001b[38;5;241m1\u001b[39m\n\u001b[0;32m----> 2\u001b[0m tmp2\u001b[38;5;241m=\u001b[39mnp\u001b[38;5;241m.\u001b[39marray([\u001b[43mt_t_list\u001b[49m[i]\u001b[38;5;241m-\u001b[39mt_list[i]\u001b[38;5;241m*\u001b[39m\u001b[38;5;241m*\u001b[39m\u001b[38;5;241m2\u001b[39m \u001b[38;5;28;01mfor\u001b[39;00m i \u001b[38;5;129;01min\u001b[39;00m \u001b[38;5;28mrange\u001b[39m(nskip,\u001b[38;5;28mlen\u001b[39m(nrange))])\n\u001b[1;32m      3\u001b[0m tmp\u001b[38;5;241m=\u001b[39mnp\u001b[38;5;241m.\u001b[39mmean(tmp2, axis\u001b[38;5;241m=\u001b[39m\u001b[38;5;241m0\u001b[39m)\n\u001b[1;32m      5\u001b[0m ft\u001b[38;5;241m=\u001b[39mnp\u001b[38;5;241m.\u001b[39marray(\n\u001b[1;32m      6\u001b[0m     [\n\u001b[1;32m      7\u001b[0m         [\n\u001b[1;32m      8\u001b[0m             np\u001b[38;5;241m.\u001b[39msum([tmp[x,t]\u001b[38;5;241m*\u001b[39mnp\u001b[38;5;241m.\u001b[39mcos(\u001b[38;5;241m2.0\u001b[39m\u001b[38;5;241m*\u001b[39mnp\u001b[38;5;241m.\u001b[39mpi\u001b[38;5;241m*\u001b[39mk\u001b[38;5;241m*\u001b[39mx\u001b[38;5;241m/\u001b[39mLx) \u001b[38;5;28;01mfor\u001b[39;00m x \u001b[38;5;129;01min\u001b[39;00m \u001b[38;5;28mrange\u001b[39m(Lx)]) \u001b[38;5;241m/\u001b[39m Lx \n\u001b[1;32m      9\u001b[0m             \u001b[38;5;28;01mfor\u001b[39;00m t \u001b[38;5;129;01min\u001b[39;00m \u001b[38;5;28mrange\u001b[39m(r\u001b[38;5;241m*\u001b[39mLx)]\n\u001b[1;32m     10\u001b[0m         \u001b[38;5;28;01mfor\u001b[39;00m k \u001b[38;5;129;01min\u001b[39;00m \u001b[38;5;28mrange\u001b[39m(Lx)])\n",
      "\u001b[0;31mNameError\u001b[0m: name 't_t_list' is not defined"
     ]
    }
   ],
   "source": [
    "nskip=1\n",
    "tmp2=np.array([t_t_list[i]-t_list[i]**2 for i in range(nskip,len(nrange))])\n",
    "tmp=np.mean(tmp2, axis=0)\n",
    "\n",
    "ft=np.array(\n",
    "    [\n",
    "        [\n",
    "            np.sum([tmp[x,t]*np.cos(2.0*np.pi*k*x/Lx) for x in range(Lx)]) / Lx \n",
    "            for t in range(r*Lx)]\n",
    "        for k in range(Lx)])"
   ]
  },
  {
   "cell_type": "code",
   "execution_count": null,
   "id": "bd67d49d",
   "metadata": {},
   "outputs": [],
   "source": [
    "alat=2.0*np.pi/Lx"
   ]
  },
  {
   "cell_type": "code",
   "execution_count": null,
   "id": "affd1502",
   "metadata": {},
   "outputs": [],
   "source": [
    "plt.plot(ft[0][:40], label=\"$\\\\ell=0$\")\n",
    "plt.plot(ft[1][:40], label=\"$\\\\ell=1$\")\n",
    "plt.plot(ft[2][:40], label=\"$\\\\ell=2$\")\n",
    "plt.plot(ft[3][:40], label=\"$\\\\ell=3$\")\n",
    "plt.plot(ft[4][:40], label=\"$\\\\ell=4$\")\n",
    "plt.plot(ft[5][:40], label=\"$\\\\ell=5$\")\n",
    "\n",
    "# t = np.arange(0,40)\n",
    "# Delta=1.0/8.0\n",
    "# ct = 100.0*np.exp(-t*alat*Delta)\n",
    "# plt.plot(t,ct, ls=\"dashed\")\n",
    "\n",
    "plt.ylim(0.00001, 1.0)\n",
    "plt.xlim(0.0, 40.0)\n",
    "\n",
    "plt.ylabel(\"$\\\\langle \\\\sigma_{\\\\ell,t=0} \\cdot \\\\sigma_{\\\\ell,t} \\\\rangle$\")\n",
    "plt.xlabel(\"$t$\")\n",
    "\n",
    "plt.title(\"32x256\")\n",
    "\n",
    "plt.legend()\n",
    "\n",
    "plt.yscale(\"log\")\n",
    "\n",
    "# plt.savefig(\"sigma.eps\", bbox_inches=\"tight\")"
   ]
  },
  {
   "cell_type": "code",
   "execution_count": null,
   "id": "d4707a04",
   "metadata": {},
   "outputs": [],
   "source": []
  },
  {
   "cell_type": "code",
   "execution_count": null,
   "id": "d3ac2e4b",
   "metadata": {},
   "outputs": [],
   "source": [
    "# plt.plot(ft[0][:15], label=\"$\\\\ell=0$\")\n",
    "# plt.plot(ft[1][:15], label=\"$\\\\ell=1$\")\n",
    "# plt.plot(ft[2][:15], label=\"$\\\\ell=2$\")\n",
    "# plt.plot(ft[3][:15], label=\"$\\\\ell=3$\")\n",
    "# plt.plot(ft[4][:15], label=\"$\\\\ell=4$\")\n",
    "# plt.plot(ft[5][:15], label=\"$\\\\ell=5$\")\n",
    "# plt.plot(ft[6][:15], label=\"$\\\\ell=6$\")\n",
    "\n",
    "\n",
    "# # for ell in range(7):\n",
    "# #     t = np.arange(0,16)\n",
    "# #     ct = np.exp(-t*alat*(Delta+ell))\n",
    "# #     plt.plot(t, ct/ct[0], ls=\"dashed\", c=\"gray\", \n",
    "# #              alpha=0.5,\n",
    "# #              label=\"$\\\\ell=$\"+str(ell)+\" analytic\")\n",
    "\n",
    "# plt.yscale(\"log\")\n",
    "\n",
    "# plt.ylabel(\"$\\\\langle \\\\sigma_{k,t=0} \\cdot \\\\sigma_{k,t} \\\\rangle$\")\n",
    "# plt.xlabel(\"$t$\")\n",
    "\n",
    "# plt.title(\"32x256\")\n",
    "\n",
    "# plt.legend()\n",
    "\n",
    "# plt.xlim(0.0,16.0)\n",
    "# plt.ylim(1.0e-3,1.0)\n",
    "\n",
    "# # plt.savefig(\"sigma.eps\", bbox_inches=\"tight\")"
   ]
  },
  {
   "cell_type": "code",
   "execution_count": null,
   "id": "e5cf8cdb",
   "metadata": {},
   "outputs": [],
   "source": []
  },
  {
   "cell_type": "code",
   "execution_count": null,
   "id": "cccd94f1",
   "metadata": {},
   "outputs": [],
   "source": [
    "def axpb(x, a, b):\n",
    "    return a*x + b"
   ]
  },
  {
   "cell_type": "code",
   "execution_count": null,
   "id": "37953cc2",
   "metadata": {},
   "outputs": [],
   "source": [
    "def two_exp(x, E1, E2, A1, A2):\n",
    "    return A1*np.exp(-E1*x) + A2*np.exp(-E2*x)"
   ]
  },
  {
   "cell_type": "code",
   "execution_count": null,
   "id": "82b3f467",
   "metadata": {},
   "outputs": [],
   "source": [
    "def two_exp_fixedE(x, A1, A2):\n",
    "    E1=1; E2=2\n",
    "    return A1*np.exp(-E1*x) + A2*np.exp(-E2*x)"
   ]
  },
  {
   "cell_type": "code",
   "execution_count": null,
   "id": "2a973825",
   "metadata": {},
   "outputs": [],
   "source": [
    "a_lat=(np.pi*2.0/48.0)"
   ]
  },
  {
   "cell_type": "code",
   "execution_count": null,
   "id": "179303c1",
   "metadata": {},
   "outputs": [],
   "source": []
  },
  {
   "cell_type": "code",
   "execution_count": null,
   "id": "254c2910",
   "metadata": {},
   "outputs": [],
   "source": []
  },
  {
   "cell_type": "code",
   "execution_count": null,
   "id": "403f77b1",
   "metadata": {},
   "outputs": [],
   "source": []
  },
  {
   "cell_type": "code",
   "execution_count": null,
   "id": "4326a23d",
   "metadata": {},
   "outputs": [],
   "source": []
  },
  {
   "cell_type": "code",
   "execution_count": null,
   "id": "3628bf0a",
   "metadata": {},
   "outputs": [],
   "source": [
    "ell=0\n",
    "y=ft[ell]\n",
    "\n",
    "plt.plot(y, label=\"$\\\\ell=$\"+str(ell))\n",
    "\n",
    "# xmin=1\n",
    "# xmax=20\n",
    "# x=np.arange(xmin, xmax)\n",
    "# [E1, E2, A1, A2], var = sp.optimize.curve_fit( two_exp, x, y[xmin:xmax] )\n",
    "# plt.plot( x, two_exp(x, E1, E2, A1, A2), label=\"fit\" )\n",
    "\n",
    "# xmin=1\n",
    "# xmax=5\n",
    "# x=np.arange(xmin, xmax)\n",
    "# [A1, A2], var = sp.optimize.curve_fit( two_exp_fixedE, x, y[xmin:xmax] )\n",
    "# plt.plot( x, two_exp_fixedE(x, A1, A2), label=\"fit\" )\n",
    "\n",
    "plt.legend()\n",
    "plt.xlim(0, 40)\n",
    "plt.ylim(1.0e-6, 1.0)\n",
    "plt.yscale(\"log\")\n",
    "\n",
    "xmin=1\n",
    "xmax=20\n",
    "x=np.arange(xmin, xmax)\n",
    "plt.plot( x, 0.008*np.exp(-x*a_lat), label=\"exp(-x)\" )\n",
    "\n",
    "xmin=0\n",
    "xmax=8\n",
    "x=np.arange(xmin, xmax)\n",
    "plt.plot( x, 0.018*np.exp(-2.0*x*a_lat), label=\"exp(-2.0*x)\" )\n",
    "\n",
    "# print(E1/a_lat, E2/a_lat)"
   ]
  },
  {
   "cell_type": "markdown",
   "id": "4ace65a3",
   "metadata": {},
   "source": [
    "$$\n",
    "    t \\equiv \\sum_\\mu (s_x-s_{x+\\mu})^2\n",
    "$$"
   ]
  },
  {
   "cell_type": "markdown",
   "id": "3c010b49",
   "metadata": {},
   "source": []
  },
  {
   "cell_type": "code",
   "execution_count": null,
   "id": "ccd37457",
   "metadata": {},
   "outputs": [],
   "source": []
  },
  {
   "cell_type": "code",
   "execution_count": null,
   "id": "ec4fa5e8",
   "metadata": {},
   "outputs": [],
   "source": []
  },
  {
   "cell_type": "code",
   "execution_count": null,
   "id": "f7050722",
   "metadata": {},
   "outputs": [],
   "source": []
  },
  {
   "cell_type": "code",
   "execution_count": null,
   "id": "18e89b2c",
   "metadata": {},
   "outputs": [],
   "source": []
  },
  {
   "cell_type": "code",
   "execution_count": null,
   "id": "8ea87140",
   "metadata": {},
   "outputs": [],
   "source": []
  },
  {
   "cell_type": "code",
   "execution_count": null,
   "id": "4981b32f",
   "metadata": {},
   "outputs": [],
   "source": [
    "delta_list=[]"
   ]
  },
  {
   "cell_type": "code",
   "execution_count": null,
   "id": "26928507",
   "metadata": {},
   "outputs": [],
   "source": []
  },
  {
   "cell_type": "code",
   "execution_count": null,
   "id": "7eb70217",
   "metadata": {},
   "outputs": [],
   "source": []
  },
  {
   "cell_type": "code",
   "execution_count": null,
   "id": "52dfc8d4",
   "metadata": {},
   "outputs": [],
   "source": [
    "ell=0\n",
    "\n",
    "y=ft[ell]\n",
    "\n",
    "plt.plot(y, label=\"$\\\\ell=$\"+str(ell))\n",
    "\n",
    "xmin=0\n",
    "xmax=2\n",
    "x=np.arange(xmin, xmax)\n",
    "[a, b], var = sp.optimize.curve_fit( axpb, x, np.log(y[xmin:xmax]) )\n",
    "plt.plot( x, np.exp( axpb(x, a, b) ), label=\"fit\" )\n",
    "\n",
    "plt.legend()\n",
    "plt.xlim(0, 40)\n",
    "plt.ylim(1.0e-6, 1.0)\n",
    "plt.yscale(\"log\")\n",
    "\n",
    "print(-a, b)\n",
    "delta_list.append([ell,-a])"
   ]
  },
  {
   "cell_type": "code",
   "execution_count": null,
   "id": "8d8d64e4",
   "metadata": {},
   "outputs": [],
   "source": [
    "ell=0\n",
    "\n",
    "y=ft[ell]\n",
    "\n",
    "plt.plot(y, label=\"$\\\\ell=$\"+str(ell))\n",
    "\n",
    "xmin=7\n",
    "xmax=20\n",
    "x=np.arange(xmin, xmax)\n",
    "[a, b], var = sp.optimize.curve_fit( axpb, x, np.log(y[xmin:xmax]) )\n",
    "plt.plot( x, np.exp( axpb(x, a, b) ), label=\"fit\" )\n",
    "\n",
    "plt.legend()\n",
    "plt.xlim(0, 40)\n",
    "plt.ylim(1.0e-6, 1.0)\n",
    "plt.yscale(\"log\")\n",
    "\n",
    "print(-a, b)\n",
    "delta_list.append([ell,-a])"
   ]
  },
  {
   "cell_type": "code",
   "execution_count": null,
   "id": "16cdca29",
   "metadata": {},
   "outputs": [],
   "source": [
    "a48_list.T[1]/(np.pi*2.0/48.0)"
   ]
  },
  {
   "cell_type": "code",
   "execution_count": null,
   "id": "7df0fe1d",
   "metadata": {},
   "outputs": [],
   "source": [
    "ell=1\n",
    "\n",
    "y=ft[ell]\n",
    "\n",
    "plt.plot(y, label=\"$\\\\ell=$\"+str(ell))\n",
    "\n",
    "xmin=4\n",
    "xmax=12\n",
    "x=np.arange(xmin, xmax)\n",
    "[a, b], var = sp.optimize.curve_fit( axpb, x, np.log(y[xmin:xmax]) )\n",
    "plt.plot( x, np.exp( axpb(x, a, b) ), label=\"fit\" )\n",
    "\n",
    "plt.legend()\n",
    "plt.xlim(0, 40)\n",
    "plt.ylim(1.0e-6, 1.0)\n",
    "plt.yscale(\"log\")\n",
    "\n",
    "print(-a, b)\n",
    "delta_list.append([ell,-a])"
   ]
  },
  {
   "cell_type": "code",
   "execution_count": null,
   "id": "a8e0381d",
   "metadata": {},
   "outputs": [],
   "source": [
    "ell=2\n",
    "\n",
    "y=ft[ell]\n",
    "\n",
    "plt.plot(y, label=\"$\\\\ell=$\"+str(ell))\n",
    "\n",
    "xmin=4\n",
    "xmax=10\n",
    "x=np.arange(xmin, xmax)\n",
    "[a, b], var = sp.optimize.curve_fit( axpb, x, np.log(y[xmin:xmax]) )\n",
    "plt.plot( x, np.exp( axpb(x, a, b) ), label=\"fit\" )\n",
    "\n",
    "plt.legend()\n",
    "plt.xlim(0, 40)\n",
    "plt.ylim(1.0e-6, 1.0)\n",
    "plt.yscale(\"log\")\n",
    "\n",
    "print(-a, b)\n",
    "delta_list.append([ell,-a])"
   ]
  },
  {
   "cell_type": "code",
   "execution_count": null,
   "id": "1539359e",
   "metadata": {},
   "outputs": [],
   "source": [
    "ell=3\n",
    "\n",
    "y=ft[ell]\n",
    "\n",
    "plt.plot(y, label=\"$\\\\ell=$\"+str(ell))\n",
    "\n",
    "xmin=2\n",
    "xmax=8\n",
    "x=np.arange(xmin, xmax)\n",
    "[a, b], var = sp.optimize.curve_fit( axpb, x, np.log(y[xmin:xmax]) )\n",
    "plt.plot( x, np.exp( axpb(x, a, b) ), label=\"fit\" )\n",
    "\n",
    "plt.legend()\n",
    "plt.xlim(0, 40)\n",
    "plt.ylim(1.0e-6, 1.0)\n",
    "plt.yscale(\"log\")\n",
    "\n",
    "print(-a, b)\n",
    "delta_list.append([ell,-a])"
   ]
  },
  {
   "cell_type": "code",
   "execution_count": null,
   "id": "1b4b81c0",
   "metadata": {},
   "outputs": [],
   "source": [
    "ell=4\n",
    "\n",
    "y=ft[ell]\n",
    "\n",
    "plt.plot(y, label=\"$\\\\ell=$\"+str(ell))\n",
    "\n",
    "xmin=2\n",
    "xmax=5\n",
    "x=np.arange(xmin, xmax)\n",
    "[a, b], var = sp.optimize.curve_fit( axpb, x, np.log(y[xmin:xmax]) )\n",
    "plt.plot( x, np.exp( axpb(x, a, b) ), label=\"fit\" )\n",
    "\n",
    "plt.legend()\n",
    "plt.xlim(0, 40)\n",
    "plt.ylim(1.0e-6, 1.0)\n",
    "plt.yscale(\"log\")\n",
    "\n",
    "print(-a, b)\n",
    "delta_list.append([ell,-a])"
   ]
  },
  {
   "cell_type": "code",
   "execution_count": null,
   "id": "8c8dfdf5",
   "metadata": {},
   "outputs": [],
   "source": [
    "delta_list"
   ]
  },
  {
   "cell_type": "code",
   "execution_count": null,
   "id": "fe8a805e",
   "metadata": {},
   "outputs": [],
   "source": []
  },
  {
   "cell_type": "code",
   "execution_count": null,
   "id": "0295094e",
   "metadata": {},
   "outputs": [],
   "source": [
    "a32_list=np.array(\n",
    "[[0, 0.19395521240150024],\n",
    " [1, 0.4235009274364022],\n",
    " [2, 0.608073640924816],\n",
    " [3, 0.9238354571740328],\n",
    " [4, 1.0874192327676853]]\n",
    ")"
   ]
  },
  {
   "cell_type": "code",
   "execution_count": null,
   "id": "e62dc3d8",
   "metadata": {},
   "outputs": [],
   "source": [
    "a48_list=np.array(\n",
    "[[0, 0.15410954951424244],\n",
    " [1, 0.32503912755985986],\n",
    " [2, 0.47677956179712866],\n",
    " [3, 0.6260486320704013],\n",
    " [4, 0.9170758619156727]]\n",
    ")"
   ]
  },
  {
   "cell_type": "code",
   "execution_count": null,
   "id": "d5a98eac",
   "metadata": {},
   "outputs": [],
   "source": []
  },
  {
   "cell_type": "code",
   "execution_count": null,
   "id": "a5a4b9b1",
   "metadata": {},
   "outputs": [],
   "source": [
    "a32_list.T[1]/(np.pi*2.0/32.0)"
   ]
  },
  {
   "cell_type": "code",
   "execution_count": null,
   "id": "6ef3d213",
   "metadata": {},
   "outputs": [],
   "source": [
    "a48_list.T[1]/(np.pi*2.0/48.0)"
   ]
  },
  {
   "cell_type": "code",
   "execution_count": null,
   "id": "56a0af61",
   "metadata": {},
   "outputs": [],
   "source": []
  },
  {
   "cell_type": "code",
   "execution_count": null,
   "id": "a0698818",
   "metadata": {},
   "outputs": [],
   "source": [
    "plt.plot(a32_list.T[0], a32_list.T[1]/(np.pi*2.0/32.0), label=\"32x256\", marker=\"o\")\n",
    "plt.plot(a48_list.T[0], a48_list.T[1]/(np.pi*2.0/48.0), label=\"48x354\", marker=\"s\")\n",
    "\n",
    "x=np.arange(5)\n",
    "plt.plot(x, x+1.0, ls=\"dashed\", label=\"exact\")\n",
    "\n",
    "plt.xlabel(\"$\\\\ell$\")\n",
    "plt.ylabel(\"$\\\\Delta_\\\\epsilon+\\\\ell$\")\n",
    "\n",
    "plt.legend()\n",
    "\n",
    "plt.savefig(\"epsilon_scaling.eps\", bbox_inches=\"tight\")"
   ]
  },
  {
   "cell_type": "code",
   "execution_count": null,
   "id": "3af24a53",
   "metadata": {},
   "outputs": [],
   "source": []
  },
  {
   "cell_type": "code",
   "execution_count": null,
   "id": "195de1b8",
   "metadata": {},
   "outputs": [],
   "source": []
  },
  {
   "cell_type": "code",
   "execution_count": null,
   "id": "3bc09ca4",
   "metadata": {},
   "outputs": [],
   "source": []
  },
  {
   "cell_type": "code",
   "execution_count": null,
   "id": "5f293972",
   "metadata": {},
   "outputs": [],
   "source": []
  },
  {
   "cell_type": "code",
   "execution_count": null,
   "id": "53c063da",
   "metadata": {},
   "outputs": [],
   "source": []
  },
  {
   "cell_type": "code",
   "execution_count": null,
   "id": "804634af",
   "metadata": {},
   "outputs": [],
   "source": []
  },
  {
   "cell_type": "code",
   "execution_count": null,
   "id": "148eaa04",
   "metadata": {},
   "outputs": [],
   "source": []
  },
  {
   "cell_type": "code",
   "execution_count": null,
   "id": "65c916b3",
   "metadata": {},
   "outputs": [],
   "source": []
  }
 ],
 "metadata": {
  "kernelspec": {
   "display_name": "Python 3 (ipykernel)",
   "language": "python",
   "name": "python3"
  },
  "language_info": {
   "codemirror_mode": {
    "name": "ipython",
    "version": 3
   },
   "file_extension": ".py",
   "mimetype": "text/x-python",
   "name": "python",
   "nbconvert_exporter": "python",
   "pygments_lexer": "ipython3",
   "version": "3.10.12"
  }
 },
 "nbformat": 4,
 "nbformat_minor": 5
}
